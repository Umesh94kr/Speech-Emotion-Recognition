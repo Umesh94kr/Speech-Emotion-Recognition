{
 "cells": [
  {
   "cell_type": "code",
   "execution_count": 14,
   "metadata": {},
   "outputs": [
    {
     "name": "stdout",
     "output_type": "stream",
     "text": [
      "Requirement already satisfied: pandas in /Library/Frameworks/Python.framework/Versions/3.11/lib/python3.11/site-packages (2.0.2)\n",
      "Requirement already satisfied: python-dateutil>=2.8.2 in /Users/umesh/Library/Python/3.11/lib/python/site-packages (from pandas) (2.8.2)\n",
      "Requirement already satisfied: pytz>=2020.1 in /Library/Frameworks/Python.framework/Versions/3.11/lib/python3.11/site-packages (from pandas) (2023.3)\n",
      "Requirement already satisfied: tzdata>=2022.1 in /Library/Frameworks/Python.framework/Versions/3.11/lib/python3.11/site-packages (from pandas) (2023.3)\n",
      "Requirement already satisfied: numpy>=1.21.0 in /Library/Frameworks/Python.framework/Versions/3.11/lib/python3.11/site-packages (from pandas) (1.25.0)\n",
      "Requirement already satisfied: six>=1.5 in /Users/umesh/Library/Python/3.11/lib/python/site-packages (from python-dateutil>=2.8.2->pandas) (1.16.0)\n",
      "\n",
      "\u001b[1m[\u001b[0m\u001b[34;49mnotice\u001b[0m\u001b[1;39;49m]\u001b[0m\u001b[39;49m A new release of pip is available: \u001b[0m\u001b[31;49m24.1.1\u001b[0m\u001b[39;49m -> \u001b[0m\u001b[32;49m24.1.2\u001b[0m\n",
      "\u001b[1m[\u001b[0m\u001b[34;49mnotice\u001b[0m\u001b[1;39;49m]\u001b[0m\u001b[39;49m To update, run: \u001b[0m\u001b[32;49mpip install --upgrade pip\u001b[0m\n",
      "Note: you may need to restart the kernel to use updated packages.\n"
     ]
    }
   ],
   "source": [
    "pip install pandas"
   ]
  },
  {
   "cell_type": "code",
   "execution_count": 166,
   "metadata": {},
   "outputs": [
    {
     "name": "stdout",
     "output_type": "stream",
     "text": [
      "Requirement already satisfied: tensorflow in /Library/Frameworks/Python.framework/Versions/3.11/lib/python3.11/site-packages (2.13.0rc1)\n",
      "Requirement already satisfied: tensorflow-macos==2.13.0-rc1 in /Library/Frameworks/Python.framework/Versions/3.11/lib/python3.11/site-packages (from tensorflow) (2.13.0rc1)\n",
      "Requirement already satisfied: absl-py>=1.0.0 in /Library/Frameworks/Python.framework/Versions/3.11/lib/python3.11/site-packages (from tensorflow-macos==2.13.0-rc1->tensorflow) (1.4.0)\n",
      "Requirement already satisfied: astunparse>=1.6.0 in /Library/Frameworks/Python.framework/Versions/3.11/lib/python3.11/site-packages (from tensorflow-macos==2.13.0-rc1->tensorflow) (1.6.3)\n",
      "Requirement already satisfied: flatbuffers>=23.1.21 in /Library/Frameworks/Python.framework/Versions/3.11/lib/python3.11/site-packages (from tensorflow-macos==2.13.0-rc1->tensorflow) (23.5.26)\n",
      "Requirement already satisfied: gast<=0.4.0,>=0.2.1 in /Library/Frameworks/Python.framework/Versions/3.11/lib/python3.11/site-packages (from tensorflow-macos==2.13.0-rc1->tensorflow) (0.4.0)\n",
      "Requirement already satisfied: google-pasta>=0.1.1 in /Library/Frameworks/Python.framework/Versions/3.11/lib/python3.11/site-packages (from tensorflow-macos==2.13.0-rc1->tensorflow) (0.2.0)\n",
      "Requirement already satisfied: h5py>=2.9.0 in /Library/Frameworks/Python.framework/Versions/3.11/lib/python3.11/site-packages (from tensorflow-macos==2.13.0-rc1->tensorflow) (3.9.0)\n",
      "Requirement already satisfied: libclang>=13.0.0 in /Library/Frameworks/Python.framework/Versions/3.11/lib/python3.11/site-packages (from tensorflow-macos==2.13.0-rc1->tensorflow) (16.0.0)\n",
      "Requirement already satisfied: numpy>=1.22 in /Library/Frameworks/Python.framework/Versions/3.11/lib/python3.11/site-packages (from tensorflow-macos==2.13.0-rc1->tensorflow) (1.25.0)\n",
      "Requirement already satisfied: opt-einsum>=2.3.2 in /Library/Frameworks/Python.framework/Versions/3.11/lib/python3.11/site-packages (from tensorflow-macos==2.13.0-rc1->tensorflow) (3.3.0)\n",
      "Requirement already satisfied: packaging in /Library/Frameworks/Python.framework/Versions/3.11/lib/python3.11/site-packages (from tensorflow-macos==2.13.0-rc1->tensorflow) (23.2)\n",
      "Requirement already satisfied: protobuf!=4.21.0,!=4.21.1,!=4.21.2,!=4.21.3,!=4.21.4,!=4.21.5,<5.0.0dev,>=3.20.3 in /Library/Frameworks/Python.framework/Versions/3.11/lib/python3.11/site-packages (from tensorflow-macos==2.13.0-rc1->tensorflow) (4.23.3)\n",
      "Requirement already satisfied: setuptools in /Library/Frameworks/Python.framework/Versions/3.11/lib/python3.11/site-packages (from tensorflow-macos==2.13.0-rc1->tensorflow) (65.5.0)\n",
      "Requirement already satisfied: six>=1.12.0 in /Users/umesh/Library/Python/3.11/lib/python/site-packages (from tensorflow-macos==2.13.0-rc1->tensorflow) (1.16.0)\n",
      "Requirement already satisfied: termcolor>=1.1.0 in /Library/Frameworks/Python.framework/Versions/3.11/lib/python3.11/site-packages (from tensorflow-macos==2.13.0-rc1->tensorflow) (2.3.0)\n",
      "Requirement already satisfied: typing-extensions>=3.6.6 in /Library/Frameworks/Python.framework/Versions/3.11/lib/python3.11/site-packages (from tensorflow-macos==2.13.0-rc1->tensorflow) (4.9.0)\n",
      "Requirement already satisfied: wrapt>=1.11.0 in /Library/Frameworks/Python.framework/Versions/3.11/lib/python3.11/site-packages (from tensorflow-macos==2.13.0-rc1->tensorflow) (1.15.0)\n",
      "Requirement already satisfied: grpcio<2.0,>=1.24.3 in /Library/Frameworks/Python.framework/Versions/3.11/lib/python3.11/site-packages (from tensorflow-macos==2.13.0-rc1->tensorflow) (1.60.1)\n",
      "Requirement already satisfied: tensorboard<2.14,>=2.13 in /Library/Frameworks/Python.framework/Versions/3.11/lib/python3.11/site-packages (from tensorflow-macos==2.13.0-rc1->tensorflow) (2.13.0)\n",
      "Requirement already satisfied: tensorflow-estimator<2.14,>=2.13.0rc0 in /Library/Frameworks/Python.framework/Versions/3.11/lib/python3.11/site-packages (from tensorflow-macos==2.13.0-rc1->tensorflow) (2.13.0)\n",
      "Requirement already satisfied: keras<2.14,>=2.13.1rc0 in /Library/Frameworks/Python.framework/Versions/3.11/lib/python3.11/site-packages (from tensorflow-macos==2.13.0-rc1->tensorflow) (2.13.1)\n",
      "Requirement already satisfied: wheel<1.0,>=0.23.0 in /Library/Frameworks/Python.framework/Versions/3.11/lib/python3.11/site-packages (from astunparse>=1.6.0->tensorflow-macos==2.13.0-rc1->tensorflow) (0.43.0)\n",
      "Requirement already satisfied: google-auth<3,>=1.6.3 in /Library/Frameworks/Python.framework/Versions/3.11/lib/python3.11/site-packages (from tensorboard<2.14,>=2.13->tensorflow-macos==2.13.0-rc1->tensorflow) (2.27.0)\n",
      "Requirement already satisfied: google-auth-oauthlib<1.1,>=0.5 in /Library/Frameworks/Python.framework/Versions/3.11/lib/python3.11/site-packages (from tensorboard<2.14,>=2.13->tensorflow-macos==2.13.0-rc1->tensorflow) (1.0.0)\n",
      "Requirement already satisfied: markdown>=2.6.8 in /Library/Frameworks/Python.framework/Versions/3.11/lib/python3.11/site-packages (from tensorboard<2.14,>=2.13->tensorflow-macos==2.13.0-rc1->tensorflow) (3.4.3)\n",
      "Requirement already satisfied: requests<3,>=2.21.0 in /Library/Frameworks/Python.framework/Versions/3.11/lib/python3.11/site-packages (from tensorboard<2.14,>=2.13->tensorflow-macos==2.13.0-rc1->tensorflow) (2.32.3)\n",
      "Requirement already satisfied: tensorboard-data-server<0.8.0,>=0.7.0 in /Library/Frameworks/Python.framework/Versions/3.11/lib/python3.11/site-packages (from tensorboard<2.14,>=2.13->tensorflow-macos==2.13.0-rc1->tensorflow) (0.7.1)\n",
      "Requirement already satisfied: werkzeug>=1.0.1 in /Library/Frameworks/Python.framework/Versions/3.11/lib/python3.11/site-packages (from tensorboard<2.14,>=2.13->tensorflow-macos==2.13.0-rc1->tensorflow) (3.0.1)\n",
      "Requirement already satisfied: cachetools<6.0,>=2.0.0 in /Library/Frameworks/Python.framework/Versions/3.11/lib/python3.11/site-packages (from google-auth<3,>=1.6.3->tensorboard<2.14,>=2.13->tensorflow-macos==2.13.0-rc1->tensorflow) (5.3.1)\n",
      "Requirement already satisfied: pyasn1-modules>=0.2.1 in /Library/Frameworks/Python.framework/Versions/3.11/lib/python3.11/site-packages (from google-auth<3,>=1.6.3->tensorboard<2.14,>=2.13->tensorflow-macos==2.13.0-rc1->tensorflow) (0.3.0)\n",
      "Requirement already satisfied: rsa<5,>=3.1.4 in /Library/Frameworks/Python.framework/Versions/3.11/lib/python3.11/site-packages (from google-auth<3,>=1.6.3->tensorboard<2.14,>=2.13->tensorflow-macos==2.13.0-rc1->tensorflow) (4.9)\n",
      "Requirement already satisfied: requests-oauthlib>=0.7.0 in /Library/Frameworks/Python.framework/Versions/3.11/lib/python3.11/site-packages (from google-auth-oauthlib<1.1,>=0.5->tensorboard<2.14,>=2.13->tensorflow-macos==2.13.0-rc1->tensorflow) (1.3.1)\n",
      "Requirement already satisfied: charset-normalizer<4,>=2 in /Library/Frameworks/Python.framework/Versions/3.11/lib/python3.11/site-packages (from requests<3,>=2.21.0->tensorboard<2.14,>=2.13->tensorflow-macos==2.13.0-rc1->tensorflow) (3.1.0)\n",
      "Requirement already satisfied: idna<4,>=2.5 in /Library/Frameworks/Python.framework/Versions/3.11/lib/python3.11/site-packages (from requests<3,>=2.21.0->tensorboard<2.14,>=2.13->tensorflow-macos==2.13.0-rc1->tensorflow) (3.4)\n",
      "Requirement already satisfied: urllib3<3,>=1.21.1 in /Library/Frameworks/Python.framework/Versions/3.11/lib/python3.11/site-packages (from requests<3,>=2.21.0->tensorboard<2.14,>=2.13->tensorflow-macos==2.13.0-rc1->tensorflow) (2.2.2)\n",
      "Requirement already satisfied: certifi>=2017.4.17 in /Library/Frameworks/Python.framework/Versions/3.11/lib/python3.11/site-packages (from requests<3,>=2.21.0->tensorboard<2.14,>=2.13->tensorflow-macos==2.13.0-rc1->tensorflow) (2023.5.7)\n",
      "Requirement already satisfied: MarkupSafe>=2.1.1 in /Library/Frameworks/Python.framework/Versions/3.11/lib/python3.11/site-packages (from werkzeug>=1.0.1->tensorboard<2.14,>=2.13->tensorflow-macos==2.13.0-rc1->tensorflow) (2.1.3)\n",
      "Requirement already satisfied: pyasn1<0.6.0,>=0.4.6 in /Library/Frameworks/Python.framework/Versions/3.11/lib/python3.11/site-packages (from pyasn1-modules>=0.2.1->google-auth<3,>=1.6.3->tensorboard<2.14,>=2.13->tensorflow-macos==2.13.0-rc1->tensorflow) (0.5.0)\n",
      "Requirement already satisfied: oauthlib>=3.0.0 in /Library/Frameworks/Python.framework/Versions/3.11/lib/python3.11/site-packages (from requests-oauthlib>=0.7.0->google-auth-oauthlib<1.1,>=0.5->tensorboard<2.14,>=2.13->tensorflow-macos==2.13.0-rc1->tensorflow) (3.2.2)\n",
      "Note: you may need to restart the kernel to use updated packages.\n"
     ]
    }
   ],
   "source": [
    "pip install tensorflow"
   ]
  },
  {
   "cell_type": "code",
   "execution_count": 167,
   "metadata": {},
   "outputs": [
    {
     "name": "stdout",
     "output_type": "stream",
     "text": [
      "Requirement already satisfied: keras in /Library/Frameworks/Python.framework/Versions/3.11/lib/python3.11/site-packages (2.13.1)\n",
      "Note: you may need to restart the kernel to use updated packages.\n"
     ]
    }
   ],
   "source": [
    "pip install keras"
   ]
  },
  {
   "cell_type": "code",
   "execution_count": 15,
   "metadata": {},
   "outputs": [],
   "source": [
    "import os\n",
    "import pandas as pd\n",
    "import numpy as np"
   ]
  },
  {
   "cell_type": "code",
   "execution_count": 2,
   "metadata": {},
   "outputs": [
    {
     "data": {
      "text/plain": [
       "'\\nModality (01 = full-AV, 02 = video-only, 03 = audio-only).\\n\\nVocal channel (01 = speech, 02 = song).\\n\\nEmotion (01 = neutral, 02 = calm, 03 = happy, 04 = sad, 05 = angry, 06 = fearful, 07 = disgust, 08 = surprised).\\n\\nEmotional intensity (01 = normal, 02 = strong). NOTE: There is no strong intensity for the \\'neutral\\' emotion.\\n\\nStatement (01 = \"Kids are talking by the door\", 02 = \"Dogs are sitting by the door\").\\n\\nRepetition (01 = 1st repetition, 02 = 2nd repetition).\\n\\nActor (01 to 24. Odd numbered actors are male, even numbered actors are female).\\n'"
      ]
     },
     "execution_count": 2,
     "metadata": {},
     "output_type": "execute_result"
    }
   ],
   "source": [
    "\"\"\"\n",
    "Modality (01 = full-AV, 02 = video-only, 03 = audio-only).\n",
    "\n",
    "Vocal channel (01 = speech, 02 = song).\n",
    "\n",
    "Emotion (01 = neutral, 02 = calm, 03 = happy, 04 = sad, 05 = angry, 06 = fearful, 07 = disgust, 08 = surprised).\n",
    "\n",
    "Emotional intensity (01 = normal, 02 = strong). NOTE: There is no strong intensity for the 'neutral' emotion.\n",
    "\n",
    "Statement (01 = \"Kids are talking by the door\", 02 = \"Dogs are sitting by the door\").\n",
    "\n",
    "Repetition (01 = 1st repetition, 02 = 2nd repetition).\n",
    "\n",
    "Actor (01 to 24. Odd numbered actors are male, even numbered actors are female).\n",
    "\"\"\""
   ]
  },
  {
   "cell_type": "code",
   "execution_count": 6,
   "metadata": {},
   "outputs": [],
   "source": [
    "## we want to take count corresponding to each emotion from dataset\n",
    "emotions_counts = []\n",
    "\n",
    "for speech in os.listdir('/Users/umesh/Desktop/Speech_recognition_project/Audio_Speech_Actors_01-24'):\n",
    "  for wav in os.listdir(os.path.join('/Users/umesh/Desktop/Speech_recognition_project/Audio_Speech_Actors_01-24', speech)):\n",
    "    emotions_counts.append(wav.split('-')[2])"
   ]
  },
  {
   "cell_type": "code",
   "execution_count": 8,
   "metadata": {},
   "outputs": [
    {
     "name": "stdout",
     "output_type": "stream",
     "text": [
      "1440\n"
     ]
    }
   ],
   "source": [
    "## lets see whether the count of emotions matches with dataset size which is 1440\n",
    "print(len(emotions_counts))"
   ]
  },
  {
   "cell_type": "code",
   "execution_count": 18,
   "metadata": {},
   "outputs": [],
   "source": [
    "emotions_counts = np.array(emotions_counts)\n",
    "df = pd.DataFrame(emotions_counts)"
   ]
  },
  {
   "cell_type": "code",
   "execution_count": 20,
   "metadata": {},
   "outputs": [
    {
     "data": {
      "text/html": [
       "<div>\n",
       "<style scoped>\n",
       "    .dataframe tbody tr th:only-of-type {\n",
       "        vertical-align: middle;\n",
       "    }\n",
       "\n",
       "    .dataframe tbody tr th {\n",
       "        vertical-align: top;\n",
       "    }\n",
       "\n",
       "    .dataframe thead th {\n",
       "        text-align: right;\n",
       "    }\n",
       "</style>\n",
       "<table border=\"1\" class=\"dataframe\">\n",
       "  <thead>\n",
       "    <tr style=\"text-align: right;\">\n",
       "      <th></th>\n",
       "      <th>0</th>\n",
       "    </tr>\n",
       "  </thead>\n",
       "  <tbody>\n",
       "    <tr>\n",
       "      <th>count</th>\n",
       "      <td>1440</td>\n",
       "    </tr>\n",
       "    <tr>\n",
       "      <th>unique</th>\n",
       "      <td>8</td>\n",
       "    </tr>\n",
       "    <tr>\n",
       "      <th>top</th>\n",
       "      <td>05</td>\n",
       "    </tr>\n",
       "    <tr>\n",
       "      <th>freq</th>\n",
       "      <td>192</td>\n",
       "    </tr>\n",
       "  </tbody>\n",
       "</table>\n",
       "</div>"
      ],
      "text/plain": [
       "           0\n",
       "count   1440\n",
       "unique     8\n",
       "top       05\n",
       "freq     192"
      ]
     },
     "execution_count": 20,
     "metadata": {},
     "output_type": "execute_result"
    }
   ],
   "source": [
    "df.describe()"
   ]
  },
  {
   "cell_type": "code",
   "execution_count": 36,
   "metadata": {},
   "outputs": [
    {
     "data": {
      "text/plain": [
       "8"
      ]
     },
     "execution_count": 36,
     "metadata": {},
     "output_type": "execute_result"
    }
   ],
   "source": [
    "## We have total 8 different emotions 01 = neutral, 02 = calm, 03 = happy, 04 = sad, 05 = angry, 06 = fearful, 07 = disgust, 08 = surprised\n",
    "df.nunique().sum()"
   ]
  },
  {
   "cell_type": "code",
   "execution_count": 41,
   "metadata": {},
   "outputs": [
    {
     "name": "stdout",
     "output_type": "stream",
     "text": [
      "       0\n",
      "0     05\n",
      "1     06\n",
      "2     06\n",
      "3     05\n",
      "4     07\n",
      "...   ..\n",
      "1435  03\n",
      "1436  03\n",
      "1437  02\n",
      "1438  02\n",
      "1439  01\n",
      "\n",
      "[1440 rows x 1 columns]\n"
     ]
    }
   ],
   "source": [
    "print(df)"
   ]
  },
  {
   "cell_type": "code",
   "execution_count": 60,
   "metadata": {},
   "outputs": [
    {
     "name": "stdout",
     "output_type": "stream",
     "text": [
      "0\n",
      "01     96\n",
      "02    192\n",
      "03    192\n",
      "04    192\n",
      "05    192\n",
      "06    192\n",
      "07    192\n",
      "08    192\n",
      "Name: count, dtype: int64\n"
     ]
    }
   ],
   "source": [
    "## Now task is to take count corresponding to each emotion\n",
    "counts = df[0].value_counts().sort_index()\n",
    "print(counts)"
   ]
  },
  {
   "cell_type": "code",
   "execution_count": 55,
   "metadata": {},
   "outputs": [],
   "source": [
    "emotions = {'01' : 'neutral', '02' : 'calm', '03' : 'happy', '04' : 'sad', '05' : 'angry', '06' : 'fearful', '07' : 'disgust', '08' : 'surprised'}"
   ]
  },
  {
   "cell_type": "code",
   "execution_count": 61,
   "metadata": {},
   "outputs": [],
   "source": [
    "emtns = ['neutral', 'calm', 'happy', 'sad', 'angry', 'fearful', 'disguist', 'surprised']"
   ]
  },
  {
   "cell_type": "code",
   "execution_count": 62,
   "metadata": {},
   "outputs": [
    {
     "data": {
      "image/png": "[encoded data removed]",
      "text/plain": [
       "<Figure size 640x480 with 1 Axes>"
      ]
     },
     "metadata": {},
     "output_type": "display_data"
    }
   ],
   "source": [
    "import matplotlib.pyplot as plt\n",
    "plt.bar(emtns, counts)\n",
    "plt.title('graph showing label distibution of classes (emotions)')\n",
    "plt.xlabel('8 different types of emotions')\n",
    "plt.ylabel('number of data points for each emotion')\n",
    "plt.show()"
   ]
  },
  {
   "cell_type": "code",
   "execution_count": 76,
   "metadata": {},
   "outputs": [],
   "source": [
    "## Lets also look at dataset of TESS\n",
    "tess_dict_old = []\n",
    "\n",
    "for wav in os.listdir('/Users/umesh/Desktop/Speech_recognition_project/TESS'):\n",
    "    tess_dict_old.append(wav.split('_')[2].split('.')[0])"
   ]
  },
  {
   "cell_type": "code",
   "execution_count": 77,
   "metadata": {},
   "outputs": [
    {
     "name": "stdout",
     "output_type": "stream",
     "text": [
      "2800\n",
      "['happy', 'disgust', 'happy', 'neutral', 'fear', 'neutral', 'happy', 'neutral', 'angry', 'angry', 'ps', 'sad', 'fear', 'neutral', 'angry', 'sad', 'happy', 'neutral', 'sad', 'disgust', 'disgust', 'fear', 'disgust', 'neutral', 'angry', 'fear', 'angry', 'disgust', 'angry', 'sad', 'sad', 'ps', 'angry', 'ps', 'angry', 'fear', 'neutral', 'ps', 'neutral', 'fear', 'happy', 'disgust', 'happy', 'happy', 'happy', 'disgust', 'ps', 'sad', 'disgust', 'ps', 'angry', 'neutral', 'fear', 'happy', 'neutral', 'fear', 'angry', 'fear', 'ps', 'neutral', 'happy', 'fear', 'fear', 'happy', 'happy', 'neutral', 'fear', 'neutral', 'ps', 'sad', 'ps', 'angry', 'sad', 'sad', 'neutral', 'sad', 'ps', 'disgust', 'ps', 'neutral', 'fear', 'sad', 'disgust', 'sad', 'happy', 'angry', 'fear', 'fear', 'fear', 'fear', 'sad', 'fear', 'angry', 'fear', 'happy', 'sad', 'ps', 'ps', 'neutral', 'disgust', 'neutral', 'angry', 'neutral', 'angry', 'happy', 'ps', 'fear', 'fear', 'sad', 'neutral', 'sad', 'fear', 'sad', 'ps', 'fear', 'angry', 'disgust', 'sad', 'fear', 'angry', 'sad', 'happy', 'neutral', 'happy', 'neutral', 'happy', 'sad', 'ps', 'sad', 'angry', 'fear', 'angry', 'angry', 'disgust', 'fear', 'happy', 'sad', 'angry', 'happy', 'ps', 'happy', 'fear', 'disgust', 'ps', 'ps', 'happy', 'sad', 'ps', 'angry', 'disgust', 'sad', 'ps', 'disgust', 'happy', 'neutral', 'fear', 'neutral', 'angry', 'sad', 'angry', 'angry', 'happy', 'neutral', 'ps', 'fear', 'angry', 'sad', 'sad', 'ps', 'fear', 'angry', 'angry', 'happy', 'angry', 'neutral', 'angry', 'sad', 'ps', 'sad', 'angry', 'disgust', 'neutral', 'neutral', 'sad', 'fear', 'sad', 'happy', 'angry', 'happy', 'sad', 'fear', 'sad', 'sad', 'neutral', 'angry', 'angry', 'happy', 'fear', 'ps', 'sad', 'fear', 'sad', 'neutral', 'ps', 'sad', 'angry', 'sad', 'angry', 'neutral', 'ps', 'angry', 'happy', 'fear', 'sad', 'neutral', 'sad', 'ps', 'ps', 'neutral', 'angry', 'disgust', 'ps', 'sad', 'neutral', 'neutral', 'fear', 'ps', 'neutral', 'neutral', 'sad', 'angry', 'happy', 'fear', 'angry', 'neutral', 'fear', 'happy', 'fear', 'neutral', 'angry', 'ps', 'fear', 'neutral', 'neutral', 'fear', 'ps', 'ps', 'fear', 'angry', 'angry', 'sad', 'fear', 'disgust', 'angry', 'disgust', 'disgust', 'fear', 'neutral', 'happy', 'happy', 'happy', 'fear', 'happy', 'angry', 'fear', 'disgust', 'happy', 'ps', 'fear', 'disgust', 'fear', 'fear', 'sad', 'disgust', 'ps', 'sad', 'fear', 'happy', 'fear', 'disgust', 'sad', 'happy', 'sad', 'ps', 'disgust', 'disgust', 'happy', 'sad', 'angry', 'neutral', 'ps', 'happy', 'neutral', 'happy', 'sad', 'disgust', 'angry', 'sad', 'ps', 'sad', 'happy', 'happy', 'sad', 'disgust', 'happy', 'ps', 'angry', 'ps', 'sad', 'happy', 'neutral', 'sad', 'angry', 'fear', 'fear', 'disgust', 'happy', 'fear', 'angry', 'fear', 'angry', 'happy', 'ps', 'sad', 'ps', 'sad', 'fear', 'disgust', 'angry', 'happy', 'sad', 'neutral', 'happy', 'angry', 'disgust', 'angry', 'ps', 'fear', 'happy', 'sad', 'fear', 'angry', 'ps', 'neutral', 'angry', 'neutral', 'angry', 'fear', 'fear', 'sad', 'angry', 'angry', 'fear', 'happy', 'sad', 'happy', 'happy', 'fear', 'ps', 'fear', 'sad', 'happy', 'ps', 'angry', 'disgust', 'sad', 'ps', 'sad', 'ps', 'neutral', 'happy', 'angry', 'neutral', 'disgust', 'fear', 'neutral', 'ps', 'neutral', 'disgust', 'fear', 'ps', 'ps', 'fear', 'disgust', 'disgust', 'happy', 'neutral', 'disgust', 'happy', 'disgust', 'happy', 'ps', 'happy', 'ps', 'happy', 'disgust', 'ps', 'happy', 'neutral', 'sad', 'happy', 'angry', 'ps', 'neutral', 'disgust', 'angry', 'sad', 'fear', 'sad', 'ps', 'ps', 'happy', 'neutral', 'happy', 'angry', 'happy', 'angry', 'disgust', 'sad', 'fear', 'disgust', 'neutral', 'ps', 'disgust', 'sad', 'fear', 'disgust', 'sad', 'neutral', 'sad', 'angry', 'fear', 'fear', 'happy', 'angry', 'angry', 'fear', 'happy', 'fear', 'neutral', 'ps', 'angry', 'angry', 'ps', 'ps', 'neutral', 'sad', 'angry', 'happy', 'angry', 'neutral', 'sad', 'angry', 'angry', 'neutral', 'ps', 'disgust', 'disgust', 'sad', 'angry', 'neutral', 'disgust', 'angry', 'disgust', 'happy', 'angry', 'neutral', 'angry', 'ps', 'fear', 'ps', 'disgust', 'ps', 'angry', 'neutral', 'happy', 'disgust', 'happy', 'neutral', 'happy', 'sad', 'fear', 'happy', 'sad', 'angry', 'sad', 'ps', 'sad', 'angry', 'ps', 'sad', 'angry', 'sad', 'sad', 'ps', 'sad', 'disgust', 'disgust', 'neutral', 'sad', 'disgust', 'disgust', 'sad', 'happy', 'sad', 'fear', 'sad', 'neutral', 'happy', 'sad', 'ps', 'disgust', 'neutral', 'disgust', 'sad', 'neutral', 'fear', 'neutral', 'disgust', 'neutral', 'sad', 'neutral', 'happy', 'happy', 'sad', 'fear', 'happy', 'ps', 'ps', 'neutral', 'fear', 'happy', 'angry', 'ps', 'neutral', 'neutral', 'neutral', 'sad', 'fear', 'neutral', 'happy', 'happy', 'angry', 'ps', 'fear', 'disgust', 'sad', 'neutral', 'sad', 'disgust', 'fear', 'sad', 'fear', 'ps', 'disgust', 'neutral', 'sad', 'ps', 'happy', 'ps', 'ps', 'angry', 'fear', 'ps', 'happy', 'happy', 'angry', 'ps', 'sad', 'fear', 'sad', 'happy', 'disgust', 'neutral', 'neutral', 'ps', 'disgust', 'neutral', 'disgust', 'angry', 'disgust', 'disgust', 'neutral', 'happy', 'sad', 'sad', 'neutral', 'happy', 'neutral', 'ps', 'fear', 'sad', 'disgust', 'happy', 'sad', 'neutral', 'disgust', 'neutral', 'disgust', 'angry', 'neutral', 'ps', 'sad', 'ps', 'happy', 'neutral', 'ps', 'fear', 'angry', 'happy', 'disgust', 'neutral', 'neutral', 'fear', 'sad', 'fear', 'neutral', 'ps', 'ps', 'ps', 'angry', 'fear', 'happy', 'fear', 'ps', 'angry', 'angry', 'neutral', 'sad', 'ps', 'happy', 'disgust', 'ps', 'neutral', 'angry', 'happy', 'disgust', 'sad', 'neutral', 'fear', 'neutral', 'happy', 'angry', 'angry', 'neutral', 'sad', 'disgust', 'angry', 'ps', 'angry', 'angry', 'ps', 'disgust', 'angry', 'disgust', 'disgust', 'fear', 'fear', 'sad', 'angry', 'neutral', 'ps', 'sad', 'neutral', 'happy', 'ps', 'fear', 'neutral', 'disgust', 'disgust', 'fear', 'angry', 'neutral', 'sad', 'ps', 'angry', 'fear', 'neutral', 'disgust', 'fear', 'angry', 'ps', 'sad', 'angry', 'sad', 'angry', 'angry', 'angry', 'ps', 'angry', 'angry', 'disgust', 'ps', 'sad', 'disgust', 'happy', 'sad', 'fear', 'neutral', 'fear', 'angry', 'neutral', 'sad', 'disgust', 'disgust', 'sad', 'disgust', 'sad', 'fear', 'angry', 'disgust', 'happy', 'sad', 'neutral', 'sad', 'angry', 'sad', 'ps', 'disgust', 'angry', 'ps', 'disgust', 'neutral', 'angry', 'disgust', 'happy', 'sad', 'neutral', 'neutral', 'disgust', 'ps', 'neutral', 'fear', 'ps', 'sad', 'sad', 'fear', 'fear', 'neutral', 'disgust', 'angry', 'disgust', 'happy', 'neutral', 'angry', 'fear', 'disgust', 'angry', 'disgust', 'disgust', 'disgust', 'neutral', 'fear', 'ps', 'disgust', 'neutral', 'ps', 'fear', 'ps', 'fear', 'fear', 'angry', 'angry', 'neutral', 'angry', 'angry', 'disgust', 'angry', 'neutral', 'happy', 'disgust', 'disgust', 'fear', 'neutral', 'happy', 'angry', 'fear', 'happy', 'neutral', 'disgust', 'happy', 'ps', 'ps', 'disgust', 'happy', 'angry', 'angry', 'happy', 'neutral', 'disgust', 'fear', 'disgust', 'happy', 'happy', 'ps', 'angry', 'ps', 'disgust', 'disgust', 'neutral', 'neutral', 'happy', 'ps', 'sad', 'ps', 'sad', 'disgust', 'fear', 'disgust', 'sad', 'angry', 'disgust', 'ps', 'happy', 'sad', 'angry', 'fear', 'neutral', 'neutral', 'disgust', 'ps', 'disgust', 'happy', 'happy', 'fear', 'neutral', 'angry', 'sad', 'fear', 'happy', 'sad', 'happy', 'sad', 'disgust', 'sad', 'neutral', 'sad', 'fear', 'fear', 'disgust', 'sad', 'neutral', 'neutral', 'fear', 'happy', 'ps', 'ps', 'ps', 'fear', 'disgust', 'happy', 'disgust', 'sad', 'ps', 'sad', 'sad', 'disgust', 'sad', 'happy', 'happy', 'disgust', 'happy', 'neutral', 'happy', 'happy', 'sad', 'sad', 'ps', 'disgust', 'sad', 'ps', 'neutral', 'happy', 'ps', 'angry', 'sad', 'disgust', 'ps', 'happy', 'disgust', 'sad', 'ps', 'happy', 'happy', 'neutral', 'sad', 'fear', 'angry', 'ps', 'neutral', 'sad', 'happy', 'angry', 'sad', 'angry', 'fear', 'disgust', 'neutral', 'happy', 'happy', 'angry', 'fear', 'happy', 'neutral', 'disgust', 'neutral', 'disgust', 'neutral', 'fear', 'ps', 'fear', 'ps', 'happy', 'ps', 'neutral', 'fear', 'disgust', 'angry', 'happy', 'neutral', 'angry', 'neutral', 'neutral', 'neutral', 'neutral', 'disgust', 'fear', 'ps', 'angry', 'neutral', 'disgust', 'sad', 'disgust', 'angry', 'neutral', 'fear', 'neutral', 'angry', 'neutral', 'ps', 'disgust', 'happy', 'angry', 'sad', 'disgust', 'fear', 'angry', 'sad', 'happy', 'neutral', 'neutral', 'happy', 'fear', 'happy', 'ps', 'fear', 'fear', 'happy', 'fear', 'sad', 'fear', 'ps', 'disgust', 'ps', 'fear', 'sad', 'disgust', 'neutral', 'fear', 'happy', 'disgust', 'happy', 'happy', 'fear', 'fear', 'sad', 'happy', 'neutral', 'disgust', 'disgust', 'fear', 'neutral', 'sad', 'angry', 'angry', 'angry', 'disgust', 'neutral', 'happy', 'disgust', 'neutral', 'fear', 'neutral', 'happy', 'fear', 'neutral', 'disgust', 'sad', 'angry', 'angry', 'happy', 'sad', 'neutral', 'happy', 'ps', 'disgust', 'angry', 'neutral', 'neutral', 'disgust', 'sad', 'happy', 'angry', 'sad', 'happy', 'disgust', 'ps', 'neutral', 'neutral', 'neutral', 'ps', 'happy', 'angry', 'neutral', 'fear', 'fear', 'ps', 'angry', 'sad', 'sad', 'neutral', 'ps', 'ps', 'neutral', 'fear', 'fear', 'disgust', 'ps', 'angry', 'disgust', 'happy', 'disgust', 'angry', 'disgust', 'sad', 'disgust', 'disgust', 'happy', 'happy', 'fear', 'disgust', 'ps', 'fear', 'fear', 'angry', 'fear', 'angry', 'happy', 'fear', 'ps', 'neutral', 'ps', 'happy', 'disgust', 'happy', 'happy', 'ps', 'neutral', 'sad', 'neutral', 'angry', 'ps', 'neutral', 'happy', 'disgust', 'sad', 'sad', 'happy', 'disgust', 'fear', 'fear', 'sad', 'fear', 'neutral', 'sad', 'disgust', 'fear', 'happy', 'sad', 'disgust', 'disgust', 'angry', 'angry', 'happy', 'ps', 'sad', 'fear', 'ps', 'sad', 'disgust', 'angry', 'disgust', 'ps', 'sad', 'ps', 'angry', 'disgust', 'angry', 'happy', 'happy', 'happy', 'disgust', 'sad', 'fear', 'happy', 'neutral', 'angry', 'disgust', 'fear', 'disgust', 'angry', 'neutral', 'neutral', 'fear', 'happy', 'ps', 'sad', 'happy', 'ps', 'neutral', 'angry', 'happy', 'angry', 'fear', 'ps', 'neutral', 'fear', 'sad', 'angry', 'neutral', 'sad', 'ps', 'disgust', 'ps', 'disgust', 'ps', 'fear', 'neutral', 'fear', 'sad', 'neutral', 'happy', 'fear', 'neutral', 'ps', 'sad', 'fear', 'ps', 'happy', 'neutral', 'ps', 'happy', 'ps', 'neutral', 'fear', 'ps', 'sad', 'fear', 'fear', 'neutral', 'fear', 'happy', 'angry', 'angry', 'happy', 'fear', 'happy', 'happy', 'happy', 'disgust', 'fear', 'happy', 'angry', 'neutral', 'disgust', 'neutral', 'fear', 'ps', 'ps', 'fear', 'fear', 'ps', 'ps', 'happy', 'happy', 'ps', 'neutral', 'fear', 'neutral', 'neutral', 'ps', 'happy', 'neutral', 'ps', 'disgust', 'neutral', 'ps', 'disgust', 'ps', 'happy', 'sad', 'angry', 'happy', 'sad', 'ps', 'happy', 'neutral', 'fear', 'angry', 'happy', 'ps', 'neutral', 'disgust', 'angry', 'angry', 'disgust', 'disgust', 'fear', 'ps', 'sad', 'happy', 'sad', 'angry', 'happy', 'disgust', 'neutral', 'sad', 'angry', 'ps', 'angry', 'ps', 'sad', 'disgust', 'angry', 'fear', 'neutral', 'neutral', 'disgust', 'fear', 'disgust', 'disgust', 'angry', 'disgust', 'fear', 'sad', 'sad', 'happy', 'happy', 'sad', 'fear', 'neutral', 'fear', 'happy', 'angry', 'ps', 'happy', 'neutral', 'angry', 'ps', 'happy', 'angry', 'sad', 'happy', 'ps', 'happy', 'neutral', 'neutral', 'fear', 'ps', 'sad', 'neutral', 'disgust', 'disgust', 'fear', 'fear', 'angry', 'angry', 'happy', 'disgust', 'ps', 'neutral', 'fear', 'angry', 'happy', 'happy', 'ps', 'happy', 'ps', 'angry', 'sad', 'neutral', 'angry', 'disgust', 'sad', 'disgust', 'fear', 'fear', 'neutral', 'disgust', 'ps', 'disgust', 'angry', 'fear', 'ps', 'fear', 'fear', 'sad', 'sad', 'angry', 'fear', 'fear', 'happy', 'neutral', 'angry', 'fear', 'disgust', 'sad', 'disgust', 'neutral', 'happy', 'angry', 'angry', 'happy', 'ps', 'disgust', 'disgust', 'angry', 'disgust', 'neutral', 'disgust', 'fear', 'sad', 'disgust', 'neutral', 'neutral', 'happy', 'sad', 'sad', 'disgust', 'neutral', 'angry', 'ps', 'sad', 'disgust', 'ps', 'ps', 'fear', 'ps', 'angry', 'neutral', 'fear', 'disgust', 'happy', 'fear', 'angry', 'angry', 'fear', 'ps', 'neutral', 'sad', 'ps', 'angry', 'happy', 'sad', 'angry', 'disgust', 'angry', 'neutral', 'angry', 'happy', 'happy', 'disgust', 'sad', 'sad', 'ps', 'fear', 'ps', 'ps', 'fear', 'sad', 'angry', 'ps', 'fear', 'disgust', 'fear', 'sad', 'sad', 'fear', 'disgust', 'sad', 'happy', 'happy', 'happy', 'angry', 'angry', 'ps', 'sad', 'sad', 'fear', 'happy', 'fear', 'angry', 'happy', 'ps', 'happy', 'disgust', 'sad', 'disgust', 'neutral', 'neutral', 'sad', 'happy', 'ps', 'happy', 'ps', 'happy', 'happy', 'happy', 'angry', 'happy', 'neutral', 'fear', 'disgust', 'happy', 'disgust', 'angry', 'neutral', 'neutral', 'sad', 'sad', 'angry', 'angry', 'angry', 'happy', 'angry', 'fear', 'ps', 'disgust', 'happy', 'happy', 'angry', 'angry', 'angry', 'happy', 'happy', 'sad', 'fear', 'happy', 'neutral', 'angry', 'happy', 'ps', 'angry', 'neutral', 'happy', 'sad', 'neutral', 'happy', 'disgust', 'sad', 'disgust', 'sad', 'angry', 'happy', 'neutral', 'neutral', 'sad', 'neutral', 'sad', 'neutral', 'sad', 'ps', 'sad', 'neutral', 'ps', 'happy', 'sad', 'sad', 'neutral', 'sad', 'angry', 'neutral', 'neutral', 'ps', 'sad', 'ps', 'sad', 'sad', 'ps', 'ps', 'sad', 'angry', 'angry', 'happy', 'sad', 'disgust', 'fear', 'neutral', 'fear', 'sad', 'fear', 'sad', 'fear', 'neutral', 'disgust', 'happy', 'angry', 'fear', 'disgust', 'angry', 'fear', 'angry', 'angry', 'angry', 'happy', 'sad', 'happy', 'disgust', 'happy', 'fear', 'disgust', 'neutral', 'disgust', 'ps', 'happy', 'happy', 'ps', 'ps', 'disgust', 'disgust', 'ps', 'ps', 'ps', 'sad', 'fear', 'ps', 'sad', 'happy', 'fear', 'disgust', 'disgust', 'sad', 'happy', 'angry', 'ps', 'sad', 'disgust', 'angry', 'happy', 'disgust', 'ps', 'angry', 'disgust', 'angry', 'disgust', 'fear', 'sad', 'disgust', 'sad', 'fear', 'ps', 'disgust', 'sad', 'fear', 'neutral', 'fear', 'disgust', 'neutral', 'disgust', 'ps', 'angry', 'sad', 'fear', 'happy', 'ps', 'ps', 'angry', 'disgust', 'disgust', 'happy', 'angry', 'fear', 'ps', 'angry', 'sad', 'neutral', 'sad', 'happy', 'angry', 'happy', 'sad', 'happy', 'ps', 'happy', 'fear', 'sad', 'fear', 'ps', 'happy', 'disgust', 'fear', 'happy', 'angry', 'disgust', 'ps', 'happy', 'angry', 'disgust', 'sad', 'happy', 'disgust', 'angry', 'disgust', 'neutral', 'ps', 'angry', 'sad', 'fear', 'happy', 'angry', 'happy', 'neutral', 'happy', 'ps', 'neutral', 'sad', 'angry', 'fear', 'fear', 'ps', 'happy', 'sad', 'disgust', 'disgust', 'fear', 'ps', 'ps', 'ps', 'ps', 'sad', 'angry', 'angry', 'angry', 'ps', 'neutral', 'sad', 'ps', 'angry', 'angry', 'sad', 'sad', 'happy', 'ps', 'angry', 'happy', 'neutral', 'disgust', 'disgust', 'sad', 'ps', 'disgust', 'angry', 'fear', 'fear', 'disgust', 'fear', 'angry', 'ps', 'sad', 'disgust', 'sad', 'neutral', 'disgust', 'sad', 'angry', 'happy', 'fear', 'fear', 'disgust', 'angry', 'fear', 'angry', 'angry', 'ps', 'angry', 'fear', 'happy', 'happy', 'neutral', 'fear', 'sad', 'happy', 'sad', 'happy', 'disgust', 'disgust', 'neutral', 'fear', 'angry', 'disgust', 'angry', 'ps', 'happy', 'sad', 'ps', 'ps', 'neutral', 'neutral', 'sad', 'sad', 'disgust', 'ps', 'ps', 'happy', 'disgust', 'sad', 'ps', 'neutral', 'sad', 'neutral', 'happy', 'disgust', 'neutral', 'sad', 'disgust', 'neutral', 'sad', 'happy', 'angry', 'fear', 'happy', 'happy', 'disgust', 'ps', 'fear', 'disgust', 'happy', 'ps', 'sad', 'sad', 'neutral', 'angry', 'ps', 'neutral', 'disgust', 'fear', 'neutral', 'disgust', 'sad', 'fear', 'neutral', 'angry', 'angry', 'happy', 'neutral', 'sad', 'happy', 'disgust', 'angry', 'fear', 'neutral', 'disgust', 'ps', 'sad', 'angry', 'angry', 'angry', 'disgust', 'neutral', 'neutral', 'fear', 'fear', 'fear', 'disgust', 'fear', 'neutral', 'ps', 'sad', 'neutral', 'ps', 'angry', 'sad', 'disgust', 'sad', 'sad', 'disgust', 'angry', 'happy', 'disgust', 'neutral', 'angry', 'neutral', 'happy', 'fear', 'fear', 'disgust', 'happy', 'ps', 'angry', 'sad', 'angry', 'fear', 'angry', 'fear', 'neutral', 'ps', 'neutral', 'happy', 'ps', 'ps', 'disgust', 'angry', 'ps', 'happy', 'happy', 'neutral', 'happy', 'fear', 'disgust', 'fear', 'happy', 'sad', 'disgust', 'sad', 'neutral', 'disgust', 'happy', 'disgust', 'sad', 'sad', 'happy', 'fear', 'sad', 'angry', 'fear', 'disgust', 'fear', 'happy', 'sad', 'ps', 'fear', 'disgust', 'disgust', 'neutral', 'happy', 'sad', 'happy', 'neutral', 'happy', 'fear', 'sad', 'angry', 'happy', 'angry', 'happy', 'ps', 'ps', 'neutral', 'sad', 'fear', 'disgust', 'disgust', 'neutral', 'fear', 'ps', 'disgust', 'neutral', 'happy', 'sad', 'fear', 'sad', 'sad', 'fear', 'fear', 'angry', 'sad', 'sad', 'sad', 'angry', 'happy', 'sad', 'happy', 'angry', 'sad', 'neutral', 'neutral', 'ps', 'sad', 'neutral', 'disgust', 'happy', 'angry', 'neutral', 'angry', 'disgust', 'angry', 'neutral', 'disgust', 'happy', 'disgust', 'angry', 'ps', 'sad', 'sad', 'sad', 'angry', 'fear', 'angry', 'disgust', 'neutral', 'disgust', 'sad', 'disgust', 'sad', 'angry', 'ps', 'fear', 'disgust', 'disgust', 'angry', 'ps', 'disgust', 'disgust', 'disgust', 'sad', 'ps', 'ps', 'disgust', 'happy', 'fear', 'happy', 'happy', 'disgust', 'sad', 'neutral', 'disgust', 'sad', 'happy', 'angry', 'neutral', 'ps', 'ps', 'fear', 'happy', 'sad', 'fear', 'fear', 'neutral', 'ps', 'disgust', 'sad', 'fear', 'angry', 'neutral', 'disgust', 'happy', 'sad', 'happy', 'happy', 'happy', 'happy', 'ps', 'disgust', 'sad', 'neutral', 'happy', 'happy', 'ps', 'sad', 'sad', 'fear', 'fear', 'happy', 'ps', 'neutral', 'neutral', 'fear', 'happy', 'ps', 'fear', 'fear', 'fear', 'disgust', 'ps', 'disgust', 'fear', 'angry', 'neutral', 'neutral', 'ps', 'sad', 'happy', 'disgust', 'neutral', 'fear', 'neutral', 'disgust', 'sad', 'ps', 'fear', 'neutral', 'fear', 'ps', 'disgust', 'sad', 'ps', 'happy', 'happy', 'disgust', 'ps', 'ps', 'fear', 'happy', 'sad', 'ps', 'sad', 'happy', 'fear', 'sad', 'sad', 'sad', 'ps', 'disgust', 'fear', 'sad', 'angry', 'fear', 'disgust', 'fear', 'angry', 'happy', 'fear', 'happy', 'neutral', 'angry', 'neutral', 'sad', 'fear', 'happy', 'sad', 'happy', 'angry', 'ps', 'disgust', 'happy', 'sad', 'happy', 'disgust', 'fear', 'angry', 'disgust', 'ps', 'sad', 'neutral', 'neutral', 'ps', 'neutral', 'angry', 'fear', 'disgust', 'fear', 'ps', 'ps', 'fear', 'ps', 'neutral', 'happy', 'neutral', 'happy', 'sad', 'ps', 'disgust', 'neutral', 'ps', 'angry', 'sad', 'fear', 'ps', 'angry', 'angry', 'disgust', 'sad', 'ps', 'neutral', 'fear', 'happy', 'disgust', 'neutral', 'angry', 'fear', 'fear', 'fear', 'neutral', 'disgust', 'disgust', 'neutral', 'angry', 'angry', 'ps', 'fear', 'happy', 'neutral', 'happy', 'angry', 'happy', 'angry', 'disgust', 'fear', 'fear', 'angry', 'disgust', 'happy', 'ps', 'fear', 'angry', 'angry', 'ps', 'ps', 'neutral', 'happy', 'sad', 'neutral', 'ps', 'ps', 'sad', 'neutral', 'angry', 'happy', 'neutral', 'sad', 'sad', 'angry', 'fear', 'angry', 'neutral', 'fear', 'neutral', 'angry', 'neutral', 'neutral', 'sad', 'fear', 'disgust', 'fear', 'disgust', 'angry', 'disgust', 'angry', 'neutral', 'disgust', 'angry', 'disgust', 'ps', 'angry', 'fear', 'disgust', 'neutral', 'angry', 'ps', 'fear', 'disgust', 'neutral', 'angry', 'disgust', 'happy', 'angry', 'angry', 'disgust', 'ps', 'sad', 'fear', 'angry', 'neutral', 'disgust', 'fear', 'sad', 'sad', 'neutral', 'sad', 'ps', 'fear', 'disgust', 'angry', 'fear', 'ps', 'neutral', 'sad', 'happy', 'disgust', 'disgust', 'disgust', 'sad', 'ps', 'sad', 'happy', 'ps', 'disgust', 'disgust', 'fear', 'angry', 'sad', 'happy', 'disgust', 'neutral', 'fear', 'ps', 'angry', 'sad', 'angry', 'fear', 'sad', 'neutral', 'happy', 'fear', 'happy', 'angry', 'fear', 'ps', 'angry', 'angry', 'fear', 'neutral', 'angry', 'sad', 'fear', 'neutral', 'angry', 'sad', 'disgust', 'happy', 'ps', 'fear', 'angry', 'neutral', 'disgust', 'sad', 'happy', 'ps', 'happy', 'happy', 'neutral', 'disgust', 'happy', 'happy', 'disgust', 'disgust', 'sad', 'sad', 'neutral', 'disgust', 'disgust', 'sad', 'ps', 'sad', 'disgust', 'fear', 'disgust', 'ps', 'ps', 'ps', 'ps', 'disgust', 'neutral', 'fear', 'disgust', 'ps', 'fear', 'disgust', 'happy', 'sad', 'disgust', 'neutral', 'disgust', 'neutral', 'happy', 'neutral', 'happy', 'sad', 'neutral', 'angry', 'ps', 'neutral', 'disgust', 'angry', 'fear', 'disgust', 'angry', 'angry', 'happy', 'angry', 'neutral', 'ps', 'ps', 'fear', 'fear', 'disgust', 'fear', 'happy', 'neutral', 'happy', 'ps', 'ps', 'neutral', 'ps', 'angry', 'angry', 'ps', 'ps', 'ps', 'angry', 'fear', 'happy', 'disgust', 'ps', 'neutral', 'fear', 'ps', 'ps', 'happy', 'fear', 'fear', 'ps', 'neutral', 'sad', 'fear', 'disgust', 'disgust', 'ps', 'happy', 'angry', 'disgust', 'happy', 'neutral', 'neutral', 'fear', 'fear', 'fear', 'ps', 'disgust', 'sad', 'sad', 'ps', 'fear', 'ps', 'angry', 'happy', 'ps', 'sad', 'disgust', 'angry', 'happy', 'ps', 'neutral', 'disgust', 'ps', 'angry', 'disgust', 'ps', 'ps', 'ps', 'neutral', 'happy', 'happy', 'angry', 'fear', 'ps', 'fear', 'neutral', 'angry', 'ps', 'fear', 'ps', 'happy', 'happy', 'happy', 'ps', 'disgust', 'fear', 'neutral', 'angry', 'fear', 'neutral', 'disgust', 'ps', 'sad', 'disgust', 'neutral', 'sad', 'neutral', 'sad', 'sad', 'neutral', 'angry', 'disgust', 'angry', 'neutral', 'disgust', 'ps', 'angry', 'neutral', 'neutral', 'disgust', 'angry', 'fear', 'neutral', 'ps', 'neutral', 'ps', 'sad', 'neutral', 'angry', 'disgust', 'angry', 'neutral', 'neutral', 'angry', 'angry', 'neutral', 'disgust', 'fear', 'happy', 'fear', 'disgust', 'neutral', 'happy', 'angry', 'neutral', 'disgust', 'fear', 'disgust', 'ps', 'happy', 'neutral', 'ps', 'fear', 'happy', 'neutral', 'ps', 'ps', 'happy', 'ps', 'ps', 'neutral', 'neutral', 'happy', 'sad', 'neutral', 'angry', 'fear', 'happy', 'disgust', 'angry', 'sad', 'disgust', 'neutral', 'angry', 'ps', 'sad', 'angry', 'happy', 'fear', 'disgust', 'angry', 'neutral', 'fear', 'fear', 'fear', 'ps', 'fear', 'sad', 'happy', 'neutral', 'happy', 'fear', 'happy', 'angry', 'fear', 'disgust', 'neutral', 'angry', 'disgust', 'angry', 'ps', 'ps', 'ps', 'sad', 'ps', 'angry', 'fear', 'ps', 'happy', 'ps', 'fear', 'neutral', 'angry', 'ps', 'fear', 'fear', 'neutral', 'ps', 'ps', 'neutral', 'fear', 'angry', 'disgust', 'fear', 'sad', 'angry', 'fear', 'disgust', 'neutral', 'sad', 'sad', 'fear', 'ps', 'happy', 'angry', 'neutral', 'sad', 'fear', 'neutral', 'disgust', 'sad', 'neutral', 'sad', 'angry', 'angry', 'ps', 'angry', 'neutral', 'neutral', 'fear', 'sad', 'ps', 'angry', 'angry', 'happy', 'disgust', 'happy', 'disgust', 'fear', 'disgust', 'neutral', 'neutral', 'angry', 'neutral', 'disgust', 'neutral', 'sad', 'fear', 'sad', 'angry', 'disgust', 'disgust', 'fear', 'sad', 'angry', 'sad', 'disgust', 'sad', 'fear', 'disgust', 'sad', 'sad', 'neutral', 'neutral', 'ps', 'happy', 'happy', 'fear', 'angry', 'happy', 'fear', 'fear', 'disgust', 'neutral', 'angry', 'ps', 'angry', 'neutral', 'ps', 'sad', 'happy', 'neutral', 'angry', 'disgust', 'fear', 'fear', 'ps', 'angry', 'happy', 'disgust', 'happy', 'ps', 'angry', 'angry', 'fear', 'sad', 'fear', 'neutral', 'happy', 'disgust', 'happy', 'happy', 'angry', 'ps', 'neutral', 'angry', 'sad', 'sad', 'sad', 'neutral', 'happy', 'neutral', 'angry', 'angry', 'sad', 'fear', 'disgust', 'ps', 'disgust', 'fear', 'sad', 'sad', 'angry', 'angry', 'happy', 'disgust', 'fear', 'neutral', 'neutral', 'disgust', 'happy', 'disgust', 'happy', 'sad', 'fear', 'fear', 'happy', 'sad', 'ps', 'angry', 'fear', 'neutral', 'fear', 'neutral', 'ps', 'disgust', 'angry', 'sad', 'sad', 'fear', 'happy', 'neutral', 'happy', 'ps', 'neutral', 'fear', 'happy', 'sad', 'angry', 'sad', 'happy', 'disgust', 'sad', 'disgust', 'ps', 'ps', 'neutral', 'happy', 'neutral', 'sad', 'happy', 'happy', 'sad', 'angry', 'fear', 'angry', 'ps', 'fear', 'sad', 'disgust', 'sad', 'fear', 'ps', 'fear', 'fear', 'fear', 'disgust', 'disgust', 'happy', 'disgust', 'angry', 'happy', 'ps', 'ps', 'ps', 'disgust', 'ps', 'ps', 'ps', 'ps', 'sad', 'disgust', 'disgust', 'happy', 'disgust', 'sad', 'sad', 'ps', 'ps', 'neutral', 'happy', 'sad', 'happy', 'sad', 'angry', 'disgust', 'disgust', 'ps', 'angry', 'disgust', 'happy', 'neutral', 'ps', 'angry', 'ps', 'disgust', 'happy', 'angry', 'happy', 'ps', 'fear', 'ps', 'angry', 'angry', 'fear', 'disgust', 'happy', 'neutral', 'neutral', 'ps', 'ps', 'angry', 'disgust', 'fear', 'happy', 'ps', 'angry', 'ps', 'fear', 'angry', 'happy', 'disgust', 'angry', 'sad', 'fear', 'sad', 'fear', 'ps', 'ps', 'neutral', 'sad', 'fear', 'angry', 'sad', 'ps', 'neutral', 'happy', 'neutral', 'ps', 'fear', 'happy', 'fear', 'neutral', 'fear', 'neutral', 'neutral', 'happy', 'neutral', 'disgust', 'ps', 'sad', 'ps', 'sad', 'sad', 'fear', 'neutral', 'happy', 'disgust']\n"
     ]
    }
   ],
   "source": [
    "## check its size\n",
    "print(len(tess_dict_old))\n",
    "print(tess_dict_old)"
   ]
  },
  {
   "cell_type": "code",
   "execution_count": 78,
   "metadata": {},
   "outputs": [
    {
     "data": {
      "text/plain": [
       "(2800, 1)"
      ]
     },
     "execution_count": 78,
     "metadata": {},
     "output_type": "execute_result"
    }
   ],
   "source": [
    "df2 = pd.DataFrame(tess_dict_old)\n",
    "df2.shape"
   ]
  },
  {
   "cell_type": "code",
   "execution_count": 79,
   "metadata": {},
   "outputs": [
    {
     "name": "stdout",
     "output_type": "stream",
     "text": [
      "<class 'pandas.core.frame.DataFrame'>\n",
      "RangeIndex: 2800 entries, 0 to 2799\n",
      "Data columns (total 1 columns):\n",
      " #   Column  Non-Null Count  Dtype \n",
      "---  ------  --------------  ----- \n",
      " 0   0       2800 non-null   object\n",
      "dtypes: object(1)\n",
      "memory usage: 22.0+ KB\n"
     ]
    }
   ],
   "source": [
    "df2.info()"
   ]
  },
  {
   "cell_type": "code",
   "execution_count": 81,
   "metadata": {},
   "outputs": [
    {
     "data": {
      "text/html": [
       "<div>\n",
       "<style scoped>\n",
       "    .dataframe tbody tr th:only-of-type {\n",
       "        vertical-align: middle;\n",
       "    }\n",
       "\n",
       "    .dataframe tbody tr th {\n",
       "        vertical-align: top;\n",
       "    }\n",
       "\n",
       "    .dataframe thead th {\n",
       "        text-align: right;\n",
       "    }\n",
       "</style>\n",
       "<table border=\"1\" class=\"dataframe\">\n",
       "  <thead>\n",
       "    <tr style=\"text-align: right;\">\n",
       "      <th></th>\n",
       "      <th>0</th>\n",
       "    </tr>\n",
       "  </thead>\n",
       "  <tbody>\n",
       "    <tr>\n",
       "      <th>count</th>\n",
       "      <td>2800</td>\n",
       "    </tr>\n",
       "    <tr>\n",
       "      <th>unique</th>\n",
       "      <td>7</td>\n",
       "    </tr>\n",
       "    <tr>\n",
       "      <th>top</th>\n",
       "      <td>happy</td>\n",
       "    </tr>\n",
       "    <tr>\n",
       "      <th>freq</th>\n",
       "      <td>400</td>\n",
       "    </tr>\n",
       "  </tbody>\n",
       "</table>\n",
       "</div>"
      ],
      "text/plain": [
       "            0\n",
       "count    2800\n",
       "unique      7\n",
       "top     happy\n",
       "freq      400"
      ]
     },
     "execution_count": 81,
     "metadata": {},
     "output_type": "execute_result"
    }
   ],
   "source": [
    "df2.describe()"
   ]
  },
  {
   "cell_type": "code",
   "execution_count": 91,
   "metadata": {},
   "outputs": [
    {
     "name": "stdout",
     "output_type": "stream",
     "text": [
      "angry      400\n",
      "disgust    400\n",
      "fear       400\n",
      "happy      400\n",
      "neutral    400\n",
      "ps         400\n",
      "sad        400\n",
      "Name: count, dtype: int64\n"
     ]
    }
   ],
   "source": [
    "values = df2.value_counts()\n",
    "print(values)"
   ]
  },
  {
   "cell_type": "code",
   "execution_count": 92,
   "metadata": {},
   "outputs": [
    {
     "data": {
      "image/png": "[encoded data removed]",
      "text/plain": [
       "<Figure size 640x480 with 1 Axes>"
      ]
     },
     "metadata": {},
     "output_type": "display_data"
    }
   ],
   "source": [
    "emtns = ['angry', 'disguist', 'fear', 'happy', 'neutral', 'ps', 'sad']\n",
    "\n",
    "plt.bar(emtns, values)\n",
    "plt.title('graph showing label distibution of classes (emotions) on TESS dataset')\n",
    "plt.xlabel('7 different types of emotions')\n",
    "plt.ylabel('number of data points for each emotion')\n",
    "plt.show()"
   ]
  },
  {
   "cell_type": "code",
   "execution_count": 93,
   "metadata": {},
   "outputs": [
    {
     "name": "stdout",
     "output_type": "stream",
     "text": [
      "{'angry': 592, 'disguist': 592, 'fear': 592, 'happy': 592, 'neutral': 96, 'sad': 592, 'calm': 192, 'surprised': 192}\n"
     ]
    }
   ],
   "source": [
    "labels = {}\n",
    "labels['angry'] = 192 + 400\n",
    "labels['disguist'] = 192 + 400\n",
    "labels['fear'] = 192 + 400\n",
    "labels['happy'] = 192 + 400\n",
    "labels['neutral'] = 96\n",
    "labels['sad'] = 192 + 400\n",
    "labels['calm'] = 192\n",
    "labels['surprised'] = 192\n",
    "\n",
    "print(labels)"
   ]
  },
  {
   "cell_type": "code",
   "execution_count": 42,
   "metadata": {},
   "outputs": [
    {
     "name": "stdout",
     "output_type": "stream",
     "text": [
      "Requirement already satisfied: librosa in /Library/Frameworks/Python.framework/Versions/3.11/lib/python3.11/site-packages (0.10.2.post1)\n",
      "Requirement already satisfied: audioread>=2.1.9 in /Library/Frameworks/Python.framework/Versions/3.11/lib/python3.11/site-packages (from librosa) (3.0.1)\n",
      "Requirement already satisfied: numpy!=1.22.0,!=1.22.1,!=1.22.2,>=1.20.3 in /Library/Frameworks/Python.framework/Versions/3.11/lib/python3.11/site-packages (from librosa) (1.25.0)\n",
      "Requirement already satisfied: scipy>=1.2.0 in /Library/Frameworks/Python.framework/Versions/3.11/lib/python3.11/site-packages (from librosa) (1.10.1)\n",
      "Requirement already satisfied: scikit-learn>=0.20.0 in /Library/Frameworks/Python.framework/Versions/3.11/lib/python3.11/site-packages (from librosa) (1.2.2)\n",
      "Requirement already satisfied: joblib>=0.14 in /Library/Frameworks/Python.framework/Versions/3.11/lib/python3.11/site-packages (from librosa) (1.2.0)\n",
      "Requirement already satisfied: decorator>=4.3.0 in /Library/Frameworks/Python.framework/Versions/3.11/lib/python3.11/site-packages (from librosa) (4.4.2)\n",
      "Requirement already satisfied: numba>=0.51.0 in /Library/Frameworks/Python.framework/Versions/3.11/lib/python3.11/site-packages (from librosa) (0.60.0)\n",
      "Requirement already satisfied: soundfile>=0.12.1 in /Library/Frameworks/Python.framework/Versions/3.11/lib/python3.11/site-packages (from librosa) (0.12.1)\n",
      "Requirement already satisfied: pooch>=1.1 in /Library/Frameworks/Python.framework/Versions/3.11/lib/python3.11/site-packages (from librosa) (1.8.2)\n",
      "Requirement already satisfied: soxr>=0.3.2 in /Library/Frameworks/Python.framework/Versions/3.11/lib/python3.11/site-packages (from librosa) (0.3.7)\n",
      "Requirement already satisfied: typing-extensions>=4.1.1 in /Library/Frameworks/Python.framework/Versions/3.11/lib/python3.11/site-packages (from librosa) (4.9.0)\n",
      "Requirement already satisfied: lazy-loader>=0.1 in /Library/Frameworks/Python.framework/Versions/3.11/lib/python3.11/site-packages (from librosa) (0.4)\n",
      "Requirement already satisfied: msgpack>=1.0 in /Library/Frameworks/Python.framework/Versions/3.11/lib/python3.11/site-packages (from librosa) (1.0.7)\n",
      "Requirement already satisfied: packaging in /Library/Frameworks/Python.framework/Versions/3.11/lib/python3.11/site-packages (from lazy-loader>=0.1->librosa) (23.2)\n",
      "Requirement already satisfied: llvmlite<0.44,>=0.43.0dev0 in /Library/Frameworks/Python.framework/Versions/3.11/lib/python3.11/site-packages (from numba>=0.51.0->librosa) (0.43.0)\n",
      "Requirement already satisfied: platformdirs>=2.5.0 in /Users/umesh/Library/Python/3.11/lib/python/site-packages (from pooch>=1.1->librosa) (3.5.1)\n",
      "Requirement already satisfied: requests>=2.19.0 in /Library/Frameworks/Python.framework/Versions/3.11/lib/python3.11/site-packages (from pooch>=1.1->librosa) (2.32.3)\n",
      "Requirement already satisfied: threadpoolctl>=2.0.0 in /Library/Frameworks/Python.framework/Versions/3.11/lib/python3.11/site-packages (from scikit-learn>=0.20.0->librosa) (3.1.0)\n",
      "Requirement already satisfied: cffi>=1.0 in /Library/Frameworks/Python.framework/Versions/3.11/lib/python3.11/site-packages (from soundfile>=0.12.1->librosa) (1.16.0)\n",
      "Requirement already satisfied: pycparser in /Library/Frameworks/Python.framework/Versions/3.11/lib/python3.11/site-packages (from cffi>=1.0->soundfile>=0.12.1->librosa) (2.21)\n",
      "Requirement already satisfied: charset-normalizer<4,>=2 in /Library/Frameworks/Python.framework/Versions/3.11/lib/python3.11/site-packages (from requests>=2.19.0->pooch>=1.1->librosa) (3.1.0)\n",
      "Requirement already satisfied: idna<4,>=2.5 in /Library/Frameworks/Python.framework/Versions/3.11/lib/python3.11/site-packages (from requests>=2.19.0->pooch>=1.1->librosa) (3.4)\n",
      "Requirement already satisfied: urllib3<3,>=1.21.1 in /Library/Frameworks/Python.framework/Versions/3.11/lib/python3.11/site-packages (from requests>=2.19.0->pooch>=1.1->librosa) (2.2.2)\n",
      "Requirement already satisfied: certifi>=2017.4.17 in /Library/Frameworks/Python.framework/Versions/3.11/lib/python3.11/site-packages (from requests>=2.19.0->pooch>=1.1->librosa) (2023.5.7)\n",
      "Note: you may need to restart the kernel to use updated packages.\n"
     ]
    }
   ],
   "source": [
    "pip install librosa "
   ]
  },
  {
   "cell_type": "code",
   "execution_count": 43,
   "metadata": {},
   "outputs": [
    {
     "name": "stdout",
     "output_type": "stream",
     "text": [
      "Requirement already satisfied: soundfile in /Library/Frameworks/Python.framework/Versions/3.11/lib/python3.11/site-packages (0.12.1)\n",
      "Requirement already satisfied: cffi>=1.0 in /Library/Frameworks/Python.framework/Versions/3.11/lib/python3.11/site-packages (from soundfile) (1.16.0)\n",
      "Requirement already satisfied: pycparser in /Library/Frameworks/Python.framework/Versions/3.11/lib/python3.11/site-packages (from cffi>=1.0->soundfile) (2.21)\n",
      "Note: you may need to restart the kernel to use updated packages.\n"
     ]
    }
   ],
   "source": [
    "pip install soundfile "
   ]
  },
  {
   "cell_type": "code",
   "execution_count": 44,
   "metadata": {},
   "outputs": [
    {
     "name": "stdout",
     "output_type": "stream",
     "text": [
      "Requirement already satisfied: scikit-learn in /Library/Frameworks/Python.framework/Versions/3.11/lib/python3.11/site-packages (1.2.2)\n",
      "Requirement already satisfied: numpy>=1.17.3 in /Library/Frameworks/Python.framework/Versions/3.11/lib/python3.11/site-packages (from scikit-learn) (1.25.0)\n",
      "Requirement already satisfied: scipy>=1.3.2 in /Library/Frameworks/Python.framework/Versions/3.11/lib/python3.11/site-packages (from scikit-learn) (1.10.1)\n",
      "Requirement already satisfied: joblib>=1.1.1 in /Library/Frameworks/Python.framework/Versions/3.11/lib/python3.11/site-packages (from scikit-learn) (1.2.0)\n",
      "Requirement already satisfied: threadpoolctl>=2.0.0 in /Library/Frameworks/Python.framework/Versions/3.11/lib/python3.11/site-packages (from scikit-learn) (3.1.0)\n",
      "Note: you may need to restart the kernel to use updated packages.\n"
     ]
    }
   ],
   "source": [
    "pip install scikit-learn"
   ]
  },
  {
   "cell_type": "code",
   "execution_count": 45,
   "metadata": {},
   "outputs": [
    {
     "name": "stdout",
     "output_type": "stream",
     "text": [
      "Requirement already satisfied: pip in /Library/Frameworks/Python.framework/Versions/3.11/lib/python3.11/site-packages (24.1.2)\n",
      "Note: you may need to restart the kernel to use updated packages.\n"
     ]
    }
   ],
   "source": [
    "pip install --upgrade pip"
   ]
  },
  {
   "cell_type": "code",
   "execution_count": 46,
   "metadata": {},
   "outputs": [
    {
     "name": "stdout",
     "output_type": "stream",
     "text": [
      "Collecting pyaudio\n",
      "  Using cached PyAudio-0.2.14.tar.gz (47 kB)\n",
      "  Installing build dependencies ... \u001b[?25ldone\n",
      "\u001b[?25h  Getting requirements to build wheel ... \u001b[?25ldone\n",
      "\u001b[?25h  Preparing metadata (pyproject.toml) ... \u001b[?25ldone\n",
      "\u001b[?25hBuilding wheels for collected packages: pyaudio\n",
      "  Building wheel for pyaudio (pyproject.toml) ... \u001b[?25lerror\n",
      "  \u001b[1;31merror\u001b[0m: \u001b[1msubprocess-exited-with-error\u001b[0m\n",
      "  \n",
      "  \u001b[31m×\u001b[0m \u001b[32mBuilding wheel for pyaudio \u001b[0m\u001b[1;32m(\u001b[0m\u001b[32mpyproject.toml\u001b[0m\u001b[1;32m)\u001b[0m did not run successfully.\n",
      "  \u001b[31m│\u001b[0m exit code: \u001b[1;36m1\u001b[0m\n",
      "  \u001b[31m╰─>\u001b[0m \u001b[31m[18 lines of output]\u001b[0m\n",
      "  \u001b[31m   \u001b[0m running bdist_wheel\n",
      "  \u001b[31m   \u001b[0m running build\n",
      "  \u001b[31m   \u001b[0m running build_py\n",
      "  \u001b[31m   \u001b[0m creating build\n",
      "  \u001b[31m   \u001b[0m creating build/lib.macosx-10.9-universal2-cpython-311\n",
      "  \u001b[31m   \u001b[0m creating build/lib.macosx-10.9-universal2-cpython-311/pyaudio\n",
      "  \u001b[31m   \u001b[0m copying src/pyaudio/__init__.py -> build/lib.macosx-10.9-universal2-cpython-311/pyaudio\n",
      "  \u001b[31m   \u001b[0m running build_ext\n",
      "  \u001b[31m   \u001b[0m building 'pyaudio._portaudio' extension\n",
      "  \u001b[31m   \u001b[0m creating build/temp.macosx-10.9-universal2-cpython-311\n",
      "  \u001b[31m   \u001b[0m creating build/temp.macosx-10.9-universal2-cpython-311/src\n",
      "  \u001b[31m   \u001b[0m creating build/temp.macosx-10.9-universal2-cpython-311/src/pyaudio\n",
      "  \u001b[31m   \u001b[0m clang -Wsign-compare -Wunreachable-code -fno-common -dynamic -DNDEBUG -g -fwrapv -O3 -Wall -arch arm64 -arch x86_64 -g -DMACOS=1 -I/usr/local/include -I/usr/include -I/opt/homebrew/include -I/Library/Frameworks/Python.framework/Versions/3.11/include/python3.11 -c src/pyaudio/device_api.c -o build/temp.macosx-10.9-universal2-cpython-311/src/pyaudio/device_api.o\n",
      "  \u001b[31m   \u001b[0m src/pyaudio/device_api.c:9:10: fatal error: 'portaudio.h' file not found\n",
      "  \u001b[31m   \u001b[0m #include \"portaudio.h\"\n",
      "  \u001b[31m   \u001b[0m          ^~~~~~~~~~~~~\n",
      "  \u001b[31m   \u001b[0m 1 error generated.\n",
      "  \u001b[31m   \u001b[0m error: command '/usr/bin/clang' failed with exit code 1\n",
      "  \u001b[31m   \u001b[0m \u001b[31m[end of output]\u001b[0m\n",
      "  \n",
      "  \u001b[1;35mnote\u001b[0m: This error originates from a subprocess, and is likely not a problem with pip.\n",
      "\u001b[?25h\u001b[31m  ERROR: Failed building wheel for pyaudio\u001b[0m\u001b[31m\n",
      "\u001b[0mFailed to build pyaudio\n",
      "\u001b[31mERROR: ERROR: Failed to build installable wheels for some pyproject.toml based projects (pyaudio)\u001b[0m\u001b[31m\n",
      "\u001b[0mNote: you may need to restart the kernel to use updated packages.\n"
     ]
    }
   ],
   "source": [
    "pip install pyaudio"
   ]
  },
  {
   "cell_type": "code",
   "execution_count": 47,
   "metadata": {},
   "outputs": [],
   "source": [
    "!export CFLAGS=\"-I$(brew --prefix portaudio)/include\""
   ]
  },
  {
   "cell_type": "code",
   "execution_count": 48,
   "metadata": {},
   "outputs": [],
   "source": [
    "!export LDFLAGS=\"-L$(brew --prefix portaudio)/lib\""
   ]
  },
  {
   "cell_type": "code",
   "execution_count": 49,
   "metadata": {},
   "outputs": [
    {
     "name": "stdout",
     "output_type": "stream",
     "text": [
      "Collecting pyaudio\n",
      "  Using cached PyAudio-0.2.14.tar.gz (47 kB)\n",
      "  Installing build dependencies ... \u001b[?25ldone\n",
      "\u001b[?25h  Getting requirements to build wheel ... \u001b[?25ldone\n",
      "\u001b[?25h  Preparing metadata (pyproject.toml) ... \u001b[?25ldone\n",
      "\u001b[?25hBuilding wheels for collected packages: pyaudio\n",
      "  Building wheel for pyaudio (pyproject.toml) ... \u001b[?25lerror\n",
      "  \u001b[1;31merror\u001b[0m: \u001b[1msubprocess-exited-with-error\u001b[0m\n",
      "  \n",
      "  \u001b[31m×\u001b[0m \u001b[32mBuilding wheel for pyaudio \u001b[0m\u001b[1;32m(\u001b[0m\u001b[32mpyproject.toml\u001b[0m\u001b[1;32m)\u001b[0m did not run successfully.\n",
      "  \u001b[31m│\u001b[0m exit code: \u001b[1;36m1\u001b[0m\n",
      "  \u001b[31m╰─>\u001b[0m \u001b[31m[18 lines of output]\u001b[0m\n",
      "  \u001b[31m   \u001b[0m running bdist_wheel\n",
      "  \u001b[31m   \u001b[0m running build\n",
      "  \u001b[31m   \u001b[0m running build_py\n",
      "  \u001b[31m   \u001b[0m creating build\n",
      "  \u001b[31m   \u001b[0m creating build/lib.macosx-10.9-universal2-cpython-311\n",
      "  \u001b[31m   \u001b[0m creating build/lib.macosx-10.9-universal2-cpython-311/pyaudio\n",
      "  \u001b[31m   \u001b[0m copying src/pyaudio/__init__.py -> build/lib.macosx-10.9-universal2-cpython-311/pyaudio\n",
      "  \u001b[31m   \u001b[0m running build_ext\n",
      "  \u001b[31m   \u001b[0m building 'pyaudio._portaudio' extension\n",
      "  \u001b[31m   \u001b[0m creating build/temp.macosx-10.9-universal2-cpython-311\n",
      "  \u001b[31m   \u001b[0m creating build/temp.macosx-10.9-universal2-cpython-311/src\n",
      "  \u001b[31m   \u001b[0m creating build/temp.macosx-10.9-universal2-cpython-311/src/pyaudio\n",
      "  \u001b[31m   \u001b[0m clang -Wsign-compare -Wunreachable-code -fno-common -dynamic -DNDEBUG -g -fwrapv -O3 -Wall -arch arm64 -arch x86_64 -g -DMACOS=1 -I/usr/local/include -I/usr/include -I/opt/homebrew/include -I/Library/Frameworks/Python.framework/Versions/3.11/include/python3.11 -c src/pyaudio/device_api.c -o build/temp.macosx-10.9-universal2-cpython-311/src/pyaudio/device_api.o\n",
      "  \u001b[31m   \u001b[0m src/pyaudio/device_api.c:9:10: fatal error: 'portaudio.h' file not found\n",
      "  \u001b[31m   \u001b[0m #include \"portaudio.h\"\n",
      "  \u001b[31m   \u001b[0m          ^~~~~~~~~~~~~\n",
      "  \u001b[31m   \u001b[0m 1 error generated.\n",
      "  \u001b[31m   \u001b[0m error: command '/usr/bin/clang' failed with exit code 1\n",
      "  \u001b[31m   \u001b[0m \u001b[31m[end of output]\u001b[0m\n",
      "  \n",
      "  \u001b[1;35mnote\u001b[0m: This error originates from a subprocess, and is likely not a problem with pip.\n",
      "\u001b[?25h\u001b[31m  ERROR: Failed building wheel for pyaudio\u001b[0m\u001b[31m\n",
      "\u001b[0mFailed to build pyaudio\n",
      "\u001b[31mERROR: ERROR: Failed to build installable wheels for some pyproject.toml based projects (pyaudio)\u001b[0m\u001b[31m\n",
      "\u001b[0mNote: you may need to restart the kernel to use updated packages.\n"
     ]
    }
   ],
   "source": [
    "pip install pyaudio"
   ]
  },
  {
   "cell_type": "code",
   "execution_count": 50,
   "metadata": {},
   "outputs": [],
   "source": [
    "import librosa\n",
    "import soundfile\n",
    "import librosa.display"
   ]
  },
  {
   "cell_type": "code",
   "execution_count": 51,
   "metadata": {},
   "outputs": [],
   "source": [
    "import wave\n",
    "import contextlib\n",
    "import sys"
   ]
  },
  {
   "cell_type": "code",
   "execution_count": 113,
   "metadata": {},
   "outputs": [
    {
     "name": "stdout",
     "output_type": "stream",
     "text": [
      "2798\n"
     ]
    }
   ],
   "source": [
    "tess_aud_len = []\n",
    "\n",
    "for item in os.listdir('/Users/umesh/Desktop/Speech_recognition_project/TESS'):\n",
    "  fname = os.path.join('/Users/umesh/Desktop/Speech_recognition_project/TESS', item)\n",
    "  try:\n",
    "    with contextlib.closing(wave.open(fname,'r')) as f:\n",
    "      frames = f.getnframes()\n",
    "      rate = f.getframerate()\n",
    "      f.close()\n",
    "      duration = frames / float(rate)\n",
    "      tess_aud_len.append(duration)\n",
    "  except:\n",
    "    e = sys.exc_info()[0]\n",
    "print(len(tess_aud_len))"
   ]
  },
  {
   "cell_type": "code",
   "execution_count": 115,
   "metadata": {},
   "outputs": [
    {
     "name": "stdout",
     "output_type": "stream",
     "text": [
      "<class 'list'>\n"
     ]
    },
    {
     "data": {
      "text/plain": [
       "[1.8214139428196936,\n",
       " 2.9758335381338576,\n",
       " 1.6590071270582454,\n",
       " 2.203080199885312,\n",
       " 1.5070860981404113]"
      ]
     },
     "execution_count": 115,
     "metadata": {},
     "output_type": "execute_result"
    }
   ],
   "source": [
    "print(type(tess_aud_len))\n",
    "tess_aud_len[10:15]"
   ]
  },
  {
   "cell_type": "code",
   "execution_count": 116,
   "metadata": {},
   "outputs": [
    {
     "name": "stdout",
     "output_type": "stream",
     "text": [
      "1440\n",
      "[3.8038125, 3.6703333333333332, 3.8705208333333334, 3.5702291666666666, 3.8037916666666667]\n"
     ]
    }
   ],
   "source": [
    "\n",
    "speech_aud_len = []\n",
    "for speech in os.listdir('/Users/umesh/Desktop/Speech_recognition_project/Audio_Speech_Actors_01-24'):\n",
    "  for item in os.listdir(os.path.join('/Users/umesh/Desktop/Speech_recognition_project/Audio_Speech_Actors_01-24', speech)):\n",
    "\n",
    "    fname = os.path.join('/Users/umesh/Desktop/Speech_recognition_project/Audio_Speech_Actors_01-24', speech, item)\n",
    "    try:\n",
    "      with contextlib.closing(wave.open(fname,'r')) as f:\n",
    "        frames = f.getnframes()\n",
    "        rate = f.getframerate()\n",
    "        f.close()\n",
    "        duration = frames / float(rate)\n",
    "        speech_aud_len.append(duration)\n",
    "\n",
    "    except:\n",
    "      e = sys.exc_info()[0]\n",
    "\n",
    "print(len(speech_aud_len))\n",
    "print(speech_aud_len[10:15])"
   ]
  },
  {
   "cell_type": "code",
   "execution_count": 117,
   "metadata": {},
   "outputs": [
    {
     "data": {
      "image/png": "[encoded data removed]",
      "text/plain": [
       "<Figure size 640x480 with 1 Axes>"
      ]
     },
     "metadata": {},
     "output_type": "display_data"
    }
   ],
   "source": [
    "import seaborn as sns\n",
    "sns.set_theme(style=\"whitegrid\")\n",
    "ax = sns.boxplot(x= tess_aud_len)\n",
    "plt.title('Tess data Audio length')\n",
    "plt.xlabel('audio duration')\n",
    "plt.show()"
   ]
  },
  {
   "cell_type": "code",
   "execution_count": 118,
   "metadata": {},
   "outputs": [
    {
     "data": {
      "image/png": "[encoded data removed]",
      "text/plain": [
       "<Figure size 640x480 with 1 Axes>"
      ]
     },
     "metadata": {},
     "output_type": "display_data"
    }
   ],
   "source": [
    "\n",
    "sns.set_theme(style=\"whitegrid\")\n",
    "ax = sns.boxplot(x= speech_aud_len)\n",
    "plt.title('Ravdess song data Audio length')\n",
    "plt.xlabel('song audio duration')\n",
    "plt.show()"
   ]
  },
  {
   "cell_type": "code",
   "execution_count": 119,
   "metadata": {},
   "outputs": [],
   "source": [
    "from tqdm import tqdm"
   ]
  },
  {
   "cell_type": "code",
   "execution_count": 123,
   "metadata": {},
   "outputs": [
    {
     "name": "stdout",
     "output_type": "stream",
     "text": [
      "2800\n",
      "2800\n"
     ]
    }
   ],
   "source": [
    "mel_tess =[]\n",
    "mfcc_tess =[]\n",
    "\n",
    "\n",
    "for i in os.listdir('/Users/umesh/Desktop/Speech_recognition_project/TESS'):\n",
    "\n",
    "    y, sr = librosa.load(os.path.join('/Users/umesh/Desktop/Speech_recognition_project/TESS', i))\n",
    "    mel_tess.append(np.mean(librosa.feature.melspectrogram(y=y, sr=sr).T, axis= 0))\n",
    "    mfcc_tess.append(np.mean(librosa.feature.mfcc(y=y, sr=sr, n_mfcc= 13).T, axis=0))\n",
    "\n",
    "print(len(mel_tess))\n",
    "print(len(mfcc_tess))"
   ]
  },
  {
   "cell_type": "code",
   "execution_count": 126,
   "metadata": {},
   "outputs": [
    {
     "name": "stdout",
     "output_type": "stream",
     "text": [
      "[1.42148929e-02 2.07301672e-03 7.85385142e-04 6.84337399e-04\n",
      " 6.74218987e-04 1.15418993e-03 4.21819299e-01 1.98843575e+00\n",
      " 3.40116787e+00 2.23182464e+00 1.80603015e+00 3.03912425e+00\n",
      " 5.17524481e-01 1.34049833e+00 1.39645376e+01 5.44355583e+00\n",
      " 1.79280806e+00 1.13578148e+01 1.43117828e+01 6.99941587e+00\n",
      " 1.41654193e+00 3.55070901e+00 2.49253101e+01 5.00560265e+01\n",
      " 8.33735847e+00 4.38063949e-01 4.62894535e+00 6.57520151e+00\n",
      " 1.88913596e+00 2.86568332e+00 8.28846216e-01 1.45084095e+00\n",
      " 1.61252201e+00 1.82946134e+00 3.28141475e+00 7.39169312e+00\n",
      " 3.29310346e+00 3.28525692e-01 1.02286145e-01 9.79651451e-01\n",
      " 1.53619838e+00 1.01851165e+00 8.19357038e-01 1.06755817e+00\n",
      " 1.98713958e+00 1.77413583e+00 1.43276370e+00 5.74699044e-01\n",
      " 1.10170531e+00 1.41814566e+00 2.08868098e+00 1.13458669e+00\n",
      " 6.12544775e-01 8.71123433e-01 2.19432712e+00 1.52523673e+00\n",
      " 1.33886307e-01 1.94539964e-01 1.29404411e-01 7.36365199e-01\n",
      " 3.73084068e+00 4.59261560e+00 5.10322928e-01 2.21625984e-01\n",
      " 3.46777380e-01 1.51084244e+00 1.95616484e+00 9.03616190e-01\n",
      " 5.20941876e-02 1.16251111e+00 1.57870376e+00 6.56823695e-01\n",
      " 5.75996339e-01 2.85536796e-02 1.85956433e-02 5.65003395e-01\n",
      " 3.54475558e-01 5.14830500e-02 7.23976865e-02 5.51063418e-02\n",
      " 5.42467117e-01 6.68458402e-01 1.60559818e-01 4.06048559e-02\n",
      " 5.79164512e-02 7.80018196e-02 1.51639888e-02 1.78056005e-02\n",
      " 4.65394072e-02 1.00580700e-01 1.12103231e-01 1.06122926e-01\n",
      " 4.92220193e-01 4.27781343e-01 2.51707554e-01 6.43755496e-01\n",
      " 1.04706717e+00 1.41193971e-01 6.89678937e-02 8.90105888e-02\n",
      " 8.87757912e-03 2.13219458e-03 1.18758366e-03 8.16227344e-04\n",
      " 1.38273591e-03 1.10041630e-03 1.67684804e-03 2.37509818e-03\n",
      " 2.43914523e-03 2.57895724e-03 3.49545642e-03 5.17022423e-03\n",
      " 3.60373920e-03 4.35358239e-03 3.40884784e-03 3.89966741e-03\n",
      " 3.80917988e-03 4.15351102e-03 3.13484762e-03 2.73183919e-03\n",
      " 5.34408959e-03 6.73869392e-03 7.18302140e-03 4.99292463e-03\n",
      " 3.52461240e-03 4.91135288e-03 4.50342242e-03 4.81201860e-04]\n"
     ]
    }
   ],
   "source": [
    "print(mel_tess[0])"
   ]
  },
  {
   "cell_type": "code",
   "execution_count": 127,
   "metadata": {},
   "outputs": [
    {
     "name": "stderr",
     "output_type": "stream",
     "text": [
      "100%|██████████| 24/24 [00:37<00:00,  1.58s/it]"
     ]
    },
    {
     "name": "stdout",
     "output_type": "stream",
     "text": [
      "****\n",
      "1440\n",
      "1440\n"
     ]
    },
    {
     "name": "stderr",
     "output_type": "stream",
     "text": [
      "\n"
     ]
    }
   ],
   "source": [
    "mel_speech =[]\n",
    "mfcc_speech =[]\n",
    "\n",
    "for speech in tqdm(os.listdir('/Users/umesh/Desktop/Speech_recognition_project/Audio_Speech_Actors_01-24')):\n",
    "  for i in os.listdir(os.path.join('/Users/umesh/Desktop/Speech_recognition_project/Audio_Speech_Actors_01-24', speech)):\n",
    "\n",
    "    y, sr = librosa.load(os.path.join('/Users/umesh/Desktop/Speech_recognition_project/Audio_Speech_Actors_01-24', speech, i))\n",
    "    mel_speech.append(np.mean(librosa.feature.melspectrogram(y=y, sr=sr).T, axis= 0))\n",
    "    mfcc_speech.append(np.mean(librosa.feature.mfcc(y=y, sr=sr, n_mfcc= 13).T, axis=0))\n",
    "  \n",
    "print('****')\n",
    "print(len(mel_speech))\n",
    "print(len(mfcc_speech))"
   ]
  },
  {
   "cell_type": "code",
   "execution_count": 56,
   "metadata": {},
   "outputs": [],
   "source": [
    "from scipy import hstack, vstack"
   ]
  },
  {
   "cell_type": "code",
   "execution_count": 130,
   "metadata": {},
   "outputs": [
    {
     "name": "stdout",
     "output_type": "stream",
     "text": [
      "(2800, 128)\n"
     ]
    },
    {
     "name": "stderr",
     "output_type": "stream",
     "text": [
      "/var/folders/g1/59v3z_793_g5rymttcvqyfcm0000gn/T/ipykernel_28163/2829548626.py:3: DeprecationWarning: scipy.vstack is deprecated and will be removed in SciPy 2.0.0, use numpy.vstack instead\n",
      "  mel_feat_tess = vstack((mel_tess))\n"
     ]
    }
   ],
   "source": [
    "for i in mel_tess:\n",
    "    i = i.reshape(1, -1)\n",
    "mel_feat_tess = vstack((mel_tess))\n",
    "print(mel_feat_tess.shape)"
   ]
  },
  {
   "cell_type": "code",
   "execution_count": 132,
   "metadata": {},
   "outputs": [
    {
     "name": "stdout",
     "output_type": "stream",
     "text": [
      "(2800, 13)\n"
     ]
    },
    {
     "name": "stderr",
     "output_type": "stream",
     "text": [
      "/var/folders/g1/59v3z_793_g5rymttcvqyfcm0000gn/T/ipykernel_28163/2740410362.py:3: DeprecationWarning: scipy.vstack is deprecated and will be removed in SciPy 2.0.0, use numpy.vstack instead\n",
      "  mfcc_feat_tess = vstack((mfcc_tess))\n"
     ]
    }
   ],
   "source": [
    "for i in mfcc_tess:\n",
    "    i = i.reshape(1, -1)\n",
    "mfcc_feat_tess = vstack((mfcc_tess))\n",
    "print(mfcc_feat_tess.shape)"
   ]
  },
  {
   "cell_type": "code",
   "execution_count": 135,
   "metadata": {},
   "outputs": [
    {
     "name": "stdout",
     "output_type": "stream",
     "text": [
      "(2800, 141)\n"
     ]
    }
   ],
   "source": [
    "feat_tess = hstack((mel_feat_tess, mfcc_feat_tess))\n",
    "print(feat_tess.shape)"
   ]
  },
  {
   "cell_type": "code",
   "execution_count": 136,
   "metadata": {},
   "outputs": [],
   "source": [
    "import warnings\n",
    "# ignore warnings \n",
    "if not sys.warnoptions:\n",
    "    warnings.simplefilter(\"ignore\")\n",
    "warnings.filterwarnings(\"ignore\", category=DeprecationWarning)"
   ]
  },
  {
   "cell_type": "code",
   "execution_count": 137,
   "metadata": {},
   "outputs": [
    {
     "name": "stdout",
     "output_type": "stream",
     "text": [
      "(1440, 128)\n"
     ]
    }
   ],
   "source": [
    "for i in mel_speech:\n",
    "    i = i.reshape(1, -1)\n",
    "mel_feat_speech = vstack(mel_speech)\n",
    "print(mel_feat_speech.shape)"
   ]
  },
  {
   "cell_type": "code",
   "execution_count": 138,
   "metadata": {},
   "outputs": [
    {
     "name": "stdout",
     "output_type": "stream",
     "text": [
      "(1440, 13)\n"
     ]
    }
   ],
   "source": [
    "for i in mfcc_speech:\n",
    "    i = i.reshape(1, -1)\n",
    "mfcc_feat_speech = vstack(mfcc_speech)\n",
    "print(mfcc_feat_speech.shape)"
   ]
  },
  {
   "cell_type": "code",
   "execution_count": 153,
   "metadata": {},
   "outputs": [
    {
     "name": "stdout",
     "output_type": "stream",
     "text": [
      "(1440, 141)\n"
     ]
    }
   ],
   "source": [
    "feat_speech = hstack((mel_feat_speech, mfcc_feat_speech))\n",
    "print(feat_speech.shape)"
   ]
  },
  {
   "cell_type": "code",
   "execution_count": 154,
   "metadata": {},
   "outputs": [
    {
     "name": "stdout",
     "output_type": "stream",
     "text": [
      "(4240, 141)\n"
     ]
    }
   ],
   "source": [
    "features = vstack((feat_tess, feat_speech))\n",
    "print(features.shape)"
   ]
  },
  {
   "cell_type": "markdown",
   "metadata": {},
   "source": [
    "## Creating the Labels ##"
   ]
  },
  {
   "cell_type": "code",
   "execution_count": 143,
   "metadata": {},
   "outputs": [
    {
     "name": "stderr",
     "output_type": "stream",
     "text": [
      "100%|██████████| 2800/2800 [00:00<00:00, 672895.85it/s]"
     ]
    },
    {
     "name": "stdout",
     "output_type": "stream",
     "text": [
      "2800\n",
      "2800\n",
      "['happy', 'disgust', 'happy', 'neutral', 'fear']\n",
      "['/Users/umesh/Desktop/Speech_recognition_project/TESS/YAF_wire_happy.wav', '/Users/umesh/Desktop/Speech_recognition_project/TESS/OAF_fat_disgust.wav', '/Users/umesh/Desktop/Speech_recognition_project/TESS/OAF_bought_happy.wav', '/Users/umesh/Desktop/Speech_recognition_project/TESS/OAF_fit_neutral.wav', '/Users/umesh/Desktop/Speech_recognition_project/TESS/YAF_dead_fear.wav']\n"
     ]
    },
    {
     "name": "stderr",
     "output_type": "stream",
     "text": [
      "\n"
     ]
    }
   ],
   "source": [
    "## for TESS\n",
    "emotions_tess = []\n",
    "path_tess = []\n",
    "\n",
    "for tess in tqdm(os.listdir('/Users/umesh/Desktop/Speech_recognition_project/TESS')):\n",
    "    path_tess.append(os.path.join('/Users/umesh/Desktop/Speech_recognition_project/TESS', tess))\n",
    "    emotions_tess.append(tess.split('_')[2].split('.')[0])\n",
    "\n",
    "\n",
    "print(len(emotions_tess))\n",
    "print(len(path_tess)) \n",
    "\n",
    "print(emotions_tess[0:5])\n",
    "print(path_tess[0:5])"
   ]
  },
  {
   "cell_type": "code",
   "execution_count": 144,
   "metadata": {},
   "outputs": [
    {
     "name": "stderr",
     "output_type": "stream",
     "text": [
      "100%|██████████| 24/24 [00:00<00:00, 455.99it/s]"
     ]
    },
    {
     "name": "stdout",
     "output_type": "stream",
     "text": [
      "1440\n",
      "1440\n",
      "['/Users/umesh/Desktop/Speech_recognition_project/Audio_Speech_Actors_01-24/Actor_16/03-01-05-01-02-01-16.wav', '/Users/umesh/Desktop/Speech_recognition_project/Audio_Speech_Actors_01-24/Actor_16/03-01-06-01-02-02-16.wav', '/Users/umesh/Desktop/Speech_recognition_project/Audio_Speech_Actors_01-24/Actor_16/03-01-06-02-01-02-16.wav', '/Users/umesh/Desktop/Speech_recognition_project/Audio_Speech_Actors_01-24/Actor_16/03-01-05-02-01-01-16.wav', '/Users/umesh/Desktop/Speech_recognition_project/Audio_Speech_Actors_01-24/Actor_16/03-01-07-01-01-01-16.wav']\n",
      "['05', '06', '06', '05', '07']\n"
     ]
    },
    {
     "name": "stderr",
     "output_type": "stream",
     "text": [
      "\n"
     ]
    }
   ],
   "source": [
    "emotions_speech = []\n",
    "path_speech = []\n",
    "\n",
    "for speech in tqdm(os.listdir('/Users/umesh/Desktop/Speech_recognition_project/Audio_Speech_Actors_01-24')):\n",
    "  for item in os.listdir(os.path.join('/Users/umesh/Desktop/Speech_recognition_project/Audio_Speech_Actors_01-24', speech)):\n",
    "    path_speech.append(os.path.join('/Users/umesh/Desktop/Speech_recognition_project/Audio_Speech_Actors_01-24', speech, item))\n",
    "    emotions_speech.append(item.split('-')[2])\n",
    "\n",
    "print(len(path_speech))\n",
    "print(len(emotions_speech)) \n",
    "\n",
    "print(path_speech[0:5])\n",
    "print(emotions_speech[0:5])"
   ]
  },
  {
   "cell_type": "code",
   "execution_count": 145,
   "metadata": {},
   "outputs": [
    {
     "name": "stdout",
     "output_type": "stream",
     "text": [
      "['sad', 'happy', 'disgust', 'neutral', 'fear', 'neutral', 'disgust', 'sad', 'ps', 'fear']\n",
      "['/Users/umesh/Desktop/Speech_recognition_project/TESS/YAF_thought_sad.wav', '/Users/umesh/Desktop/Speech_recognition_project/TESS/OAF_have_happy.wav', '/Users/umesh/Desktop/Speech_recognition_project/TESS/OAF_talk_disgust.wav', '/Users/umesh/Desktop/Speech_recognition_project/TESS/YAF_base_neutral.wav', '/Users/umesh/Desktop/Speech_recognition_project/TESS/OAF_talk_fear.wav', '/Users/umesh/Desktop/Speech_recognition_project/TESS/YAF_judge_neutral.wav', '/Users/umesh/Desktop/Speech_recognition_project/TESS/OAF_lid_disgust.wav', '/Users/umesh/Desktop/Speech_recognition_project/TESS/OAF_pain_sad.wav', '/Users/umesh/Desktop/Speech_recognition_project/TESS/OAF_good_ps.wav', '/Users/umesh/Desktop/Speech_recognition_project/TESS/YAF_time_fear.wav']\n"
     ]
    }
   ],
   "source": [
    "final_emotions = emotions_tess + emotions_speech\n",
    "final_path = path_tess + path_speech\n",
    "print(final_emotions[2000:2010])\n",
    "print(final_path[2000:2010])"
   ]
  },
  {
   "cell_type": "code",
   "execution_count": 146,
   "metadata": {},
   "outputs": [
    {
     "data": {
      "text/html": [
       "<div>\n",
       "<style scoped>\n",
       "    .dataframe tbody tr th:only-of-type {\n",
       "        vertical-align: middle;\n",
       "    }\n",
       "\n",
       "    .dataframe tbody tr th {\n",
       "        vertical-align: top;\n",
       "    }\n",
       "\n",
       "    .dataframe thead th {\n",
       "        text-align: right;\n",
       "    }\n",
       "</style>\n",
       "<table border=\"1\" class=\"dataframe\">\n",
       "  <thead>\n",
       "    <tr style=\"text-align: right;\">\n",
       "      <th></th>\n",
       "      <th>path</th>\n",
       "      <th>emotions</th>\n",
       "    </tr>\n",
       "  </thead>\n",
       "  <tbody>\n",
       "    <tr>\n",
       "      <th>0</th>\n",
       "      <td>/Users/umesh/Desktop/Speech_recognition_projec...</td>\n",
       "      <td>happy</td>\n",
       "    </tr>\n",
       "    <tr>\n",
       "      <th>1</th>\n",
       "      <td>/Users/umesh/Desktop/Speech_recognition_projec...</td>\n",
       "      <td>disgust</td>\n",
       "    </tr>\n",
       "    <tr>\n",
       "      <th>2</th>\n",
       "      <td>/Users/umesh/Desktop/Speech_recognition_projec...</td>\n",
       "      <td>happy</td>\n",
       "    </tr>\n",
       "    <tr>\n",
       "      <th>3</th>\n",
       "      <td>/Users/umesh/Desktop/Speech_recognition_projec...</td>\n",
       "      <td>neutral</td>\n",
       "    </tr>\n",
       "    <tr>\n",
       "      <th>4</th>\n",
       "      <td>/Users/umesh/Desktop/Speech_recognition_projec...</td>\n",
       "      <td>fear</td>\n",
       "    </tr>\n",
       "  </tbody>\n",
       "</table>\n",
       "</div>"
      ],
      "text/plain": [
       "                                                path emotions\n",
       "0  /Users/umesh/Desktop/Speech_recognition_projec...    happy\n",
       "1  /Users/umesh/Desktop/Speech_recognition_projec...  disgust\n",
       "2  /Users/umesh/Desktop/Speech_recognition_projec...    happy\n",
       "3  /Users/umesh/Desktop/Speech_recognition_projec...  neutral\n",
       "4  /Users/umesh/Desktop/Speech_recognition_projec...     fear"
      ]
     },
     "execution_count": 146,
     "metadata": {},
     "output_type": "execute_result"
    }
   ],
   "source": [
    "data = {'path' : final_path, 'emotions' : final_emotions}\n",
    "df = pd.DataFrame(data)\n",
    "df.head()"
   ]
  },
  {
   "cell_type": "code",
   "execution_count": 147,
   "metadata": {},
   "outputs": [
    {
     "data": {
      "text/plain": [
       "array(['happy', 'disgust', 'neutral', 'fear', 'angry', 'ps', 'sad', '05',\n",
       "       '06', '07', '04', '08', '03', '02', '01'], dtype=object)"
      ]
     },
     "execution_count": 147,
     "metadata": {},
     "output_type": "execute_result"
    }
   ],
   "source": [
    "df['emotions'].unique()"
   ]
  },
  {
   "cell_type": "code",
   "execution_count": 148,
   "metadata": {},
   "outputs": [
    {
     "data": {
      "text/plain": [
       "emotions\n",
       "happy      400\n",
       "disgust    400\n",
       "neutral    400\n",
       "fear       400\n",
       "angry      400\n",
       "ps         400\n",
       "sad        400\n",
       "05         192\n",
       "06         192\n",
       "07         192\n",
       "04         192\n",
       "08         192\n",
       "03         192\n",
       "02         192\n",
       "01          96\n",
       "Name: count, dtype: int64"
      ]
     },
     "execution_count": 148,
     "metadata": {},
     "output_type": "execute_result"
    }
   ],
   "source": [
    "df['emotions'].value_counts()"
   ]
  },
  {
   "cell_type": "code",
   "execution_count": 201,
   "metadata": {},
   "outputs": [
    {
     "data": {
      "text/plain": [
       "emotions\n",
       "happy        592\n",
       "disgust      592\n",
       "fear         592\n",
       "angry        592\n",
       "surprised    592\n",
       "sad          592\n",
       "neutral      496\n",
       "calm         192\n",
       "Name: count, dtype: int64"
      ]
     },
     "execution_count": 201,
     "metadata": {},
     "output_type": "execute_result"
    }
   ],
   "source": [
    "\n",
    "df =df.replace({'emotions': {'01': 'neutral',\n",
    " '02': 'calm',\n",
    " '03': 'happy',\n",
    " '04': 'sad',\n",
    " '05': 'angry',\n",
    " '06': 'fear',\n",
    " '07': 'disgust',\n",
    " '08': 'surprised',\n",
    " 'Pleasant': 'surprised',\n",
    " 'ps' : 'surprised',\n",
    " 'pleasant': 'surprised',\n",
    " 'Fear': 'fear',\n",
    " 'Sad':'sad'}})\n",
    "\n",
    "df['emotions'].value_counts()"
   ]
  },
  {
   "cell_type": "code",
   "execution_count": 202,
   "metadata": {},
   "outputs": [
    {
     "data": {
      "text/plain": [
       "(4240, 2)"
      ]
     },
     "execution_count": 202,
     "metadata": {},
     "output_type": "execute_result"
    }
   ],
   "source": [
    "df.shape"
   ]
  },
  {
   "cell_type": "code",
   "execution_count": 203,
   "metadata": {},
   "outputs": [
    {
     "data": {
      "text/plain": [
       "(4240, 141)"
      ]
     },
     "execution_count": 203,
     "metadata": {},
     "output_type": "execute_result"
    }
   ],
   "source": [
    "df_feat = pd.DataFrame(features)\n",
    "df_feat.shape"
   ]
  },
  {
   "cell_type": "code",
   "execution_count": 204,
   "metadata": {},
   "outputs": [
    {
     "data": {
      "text/html": [
       "<div>\n",
       "<style scoped>\n",
       "    .dataframe tbody tr th:only-of-type {\n",
       "        vertical-align: middle;\n",
       "    }\n",
       "\n",
       "    .dataframe tbody tr th {\n",
       "        vertical-align: top;\n",
       "    }\n",
       "\n",
       "    .dataframe thead th {\n",
       "        text-align: right;\n",
       "    }\n",
       "</style>\n",
       "<table border=\"1\" class=\"dataframe\">\n",
       "  <thead>\n",
       "    <tr style=\"text-align: right;\">\n",
       "      <th></th>\n",
       "      <th>path</th>\n",
       "      <th>emotions</th>\n",
       "      <th>0</th>\n",
       "      <th>1</th>\n",
       "      <th>2</th>\n",
       "      <th>3</th>\n",
       "      <th>4</th>\n",
       "      <th>5</th>\n",
       "      <th>6</th>\n",
       "      <th>7</th>\n",
       "      <th>...</th>\n",
       "      <th>131</th>\n",
       "      <th>132</th>\n",
       "      <th>133</th>\n",
       "      <th>134</th>\n",
       "      <th>135</th>\n",
       "      <th>136</th>\n",
       "      <th>137</th>\n",
       "      <th>138</th>\n",
       "      <th>139</th>\n",
       "      <th>140</th>\n",
       "    </tr>\n",
       "  </thead>\n",
       "  <tbody>\n",
       "    <tr>\n",
       "      <th>0</th>\n",
       "      <td>/Users/umesh/Desktop/Speech_recognition_projec...</td>\n",
       "      <td>happy</td>\n",
       "      <td>0.014215</td>\n",
       "      <td>0.002073</td>\n",
       "      <td>0.000785</td>\n",
       "      <td>0.000684</td>\n",
       "      <td>0.000674</td>\n",
       "      <td>0.001154</td>\n",
       "      <td>0.421819</td>\n",
       "      <td>1.988436</td>\n",
       "      <td>...</td>\n",
       "      <td>17.456249</td>\n",
       "      <td>-11.514587</td>\n",
       "      <td>-13.613383</td>\n",
       "      <td>-6.919799</td>\n",
       "      <td>-17.170826</td>\n",
       "      <td>5.161680</td>\n",
       "      <td>-5.580457</td>\n",
       "      <td>-12.243958</td>\n",
       "      <td>12.842889</td>\n",
       "      <td>-16.649307</td>\n",
       "    </tr>\n",
       "    <tr>\n",
       "      <th>1</th>\n",
       "      <td>/Users/umesh/Desktop/Speech_recognition_projec...</td>\n",
       "      <td>disgust</td>\n",
       "      <td>0.034006</td>\n",
       "      <td>0.001580</td>\n",
       "      <td>0.000312</td>\n",
       "      <td>0.000195</td>\n",
       "      <td>0.006751</td>\n",
       "      <td>0.113123</td>\n",
       "      <td>0.204935</td>\n",
       "      <td>0.356068</td>\n",
       "      <td>...</td>\n",
       "      <td>-10.768615</td>\n",
       "      <td>13.706544</td>\n",
       "      <td>5.475050</td>\n",
       "      <td>-15.858711</td>\n",
       "      <td>-0.268466</td>\n",
       "      <td>-11.191514</td>\n",
       "      <td>-0.086536</td>\n",
       "      <td>-2.064788</td>\n",
       "      <td>-4.152150</td>\n",
       "      <td>0.262011</td>\n",
       "    </tr>\n",
       "    <tr>\n",
       "      <th>2</th>\n",
       "      <td>/Users/umesh/Desktop/Speech_recognition_projec...</td>\n",
       "      <td>happy</td>\n",
       "      <td>0.785367</td>\n",
       "      <td>0.053158</td>\n",
       "      <td>0.003496</td>\n",
       "      <td>0.001581</td>\n",
       "      <td>0.002821</td>\n",
       "      <td>0.079478</td>\n",
       "      <td>0.382887</td>\n",
       "      <td>0.206982</td>\n",
       "      <td>...</td>\n",
       "      <td>-14.238811</td>\n",
       "      <td>-4.108815</td>\n",
       "      <td>3.110351</td>\n",
       "      <td>-9.245914</td>\n",
       "      <td>2.608693</td>\n",
       "      <td>-16.181166</td>\n",
       "      <td>-5.290768</td>\n",
       "      <td>-9.645020</td>\n",
       "      <td>-9.993869</td>\n",
       "      <td>-5.731284</td>\n",
       "    </tr>\n",
       "    <tr>\n",
       "      <th>3</th>\n",
       "      <td>/Users/umesh/Desktop/Speech_recognition_projec...</td>\n",
       "      <td>neutral</td>\n",
       "      <td>0.026474</td>\n",
       "      <td>0.000816</td>\n",
       "      <td>0.000038</td>\n",
       "      <td>0.000034</td>\n",
       "      <td>0.000362</td>\n",
       "      <td>0.062444</td>\n",
       "      <td>0.418382</td>\n",
       "      <td>0.112216</td>\n",
       "      <td>...</td>\n",
       "      <td>10.546044</td>\n",
       "      <td>17.410788</td>\n",
       "      <td>8.951071</td>\n",
       "      <td>-6.887239</td>\n",
       "      <td>-8.676446</td>\n",
       "      <td>-10.280824</td>\n",
       "      <td>1.392153</td>\n",
       "      <td>-9.340833</td>\n",
       "      <td>1.391863</td>\n",
       "      <td>-4.215302</td>\n",
       "    </tr>\n",
       "    <tr>\n",
       "      <th>4</th>\n",
       "      <td>/Users/umesh/Desktop/Speech_recognition_projec...</td>\n",
       "      <td>fear</td>\n",
       "      <td>0.223134</td>\n",
       "      <td>0.091978</td>\n",
       "      <td>0.017339</td>\n",
       "      <td>0.008613</td>\n",
       "      <td>0.008589</td>\n",
       "      <td>0.004729</td>\n",
       "      <td>0.031441</td>\n",
       "      <td>0.861633</td>\n",
       "      <td>...</td>\n",
       "      <td>15.900852</td>\n",
       "      <td>1.169668</td>\n",
       "      <td>-9.230703</td>\n",
       "      <td>-12.909408</td>\n",
       "      <td>-8.941622</td>\n",
       "      <td>-5.882546</td>\n",
       "      <td>3.384658</td>\n",
       "      <td>-20.601276</td>\n",
       "      <td>4.239819</td>\n",
       "      <td>-6.646860</td>\n",
       "    </tr>\n",
       "  </tbody>\n",
       "</table>\n",
       "<p>5 rows × 143 columns</p>\n",
       "</div>"
      ],
      "text/plain": [
       "                                                path emotions         0  \\\n",
       "0  /Users/umesh/Desktop/Speech_recognition_projec...    happy  0.014215   \n",
       "1  /Users/umesh/Desktop/Speech_recognition_projec...  disgust  0.034006   \n",
       "2  /Users/umesh/Desktop/Speech_recognition_projec...    happy  0.785367   \n",
       "3  /Users/umesh/Desktop/Speech_recognition_projec...  neutral  0.026474   \n",
       "4  /Users/umesh/Desktop/Speech_recognition_projec...     fear  0.223134   \n",
       "\n",
       "          1         2         3         4         5         6         7  ...  \\\n",
       "0  0.002073  0.000785  0.000684  0.000674  0.001154  0.421819  1.988436  ...   \n",
       "1  0.001580  0.000312  0.000195  0.006751  0.113123  0.204935  0.356068  ...   \n",
       "2  0.053158  0.003496  0.001581  0.002821  0.079478  0.382887  0.206982  ...   \n",
       "3  0.000816  0.000038  0.000034  0.000362  0.062444  0.418382  0.112216  ...   \n",
       "4  0.091978  0.017339  0.008613  0.008589  0.004729  0.031441  0.861633  ...   \n",
       "\n",
       "         131        132        133        134        135        136       137  \\\n",
       "0  17.456249 -11.514587 -13.613383  -6.919799 -17.170826   5.161680 -5.580457   \n",
       "1 -10.768615  13.706544   5.475050 -15.858711  -0.268466 -11.191514 -0.086536   \n",
       "2 -14.238811  -4.108815   3.110351  -9.245914   2.608693 -16.181166 -5.290768   \n",
       "3  10.546044  17.410788   8.951071  -6.887239  -8.676446 -10.280824  1.392153   \n",
       "4  15.900852   1.169668  -9.230703 -12.909408  -8.941622  -5.882546  3.384658   \n",
       "\n",
       "         138        139        140  \n",
       "0 -12.243958  12.842889 -16.649307  \n",
       "1  -2.064788  -4.152150   0.262011  \n",
       "2  -9.645020  -9.993869  -5.731284  \n",
       "3  -9.340833   1.391863  -4.215302  \n",
       "4 -20.601276   4.239819  -6.646860  \n",
       "\n",
       "[5 rows x 143 columns]"
      ]
     },
     "execution_count": 204,
     "metadata": {},
     "output_type": "execute_result"
    }
   ],
   "source": [
    "df_new = pd.concat([df, df_feat], axis=1)\n",
    "df_new.head()"
   ]
  },
  {
   "cell_type": "code",
   "execution_count": 205,
   "metadata": {},
   "outputs": [],
   "source": [
    "df_new.to_csv(\"Dataset.csv\", index=False)"
   ]
  },
  {
   "cell_type": "code",
   "execution_count": 6,
   "metadata": {},
   "outputs": [],
   "source": [
    "import pandas as pd\n",
    "import numpy as np\n",
    "df_new = pd.read_csv(\"Dataset.csv\")"
   ]
  },
  {
   "cell_type": "code",
   "execution_count": 7,
   "metadata": {},
   "outputs": [
    {
     "data": {
      "text/html": [
       "<div>\n",
       "<style scoped>\n",
       "    .dataframe tbody tr th:only-of-type {\n",
       "        vertical-align: middle;\n",
       "    }\n",
       "\n",
       "    .dataframe tbody tr th {\n",
       "        vertical-align: top;\n",
       "    }\n",
       "\n",
       "    .dataframe thead th {\n",
       "        text-align: right;\n",
       "    }\n",
       "</style>\n",
       "<table border=\"1\" class=\"dataframe\">\n",
       "  <thead>\n",
       "    <tr style=\"text-align: right;\">\n",
       "      <th></th>\n",
       "      <th>0</th>\n",
       "      <th>1</th>\n",
       "      <th>2</th>\n",
       "      <th>3</th>\n",
       "      <th>4</th>\n",
       "      <th>5</th>\n",
       "      <th>6</th>\n",
       "      <th>7</th>\n",
       "      <th>8</th>\n",
       "      <th>9</th>\n",
       "      <th>...</th>\n",
       "      <th>131</th>\n",
       "      <th>132</th>\n",
       "      <th>133</th>\n",
       "      <th>134</th>\n",
       "      <th>135</th>\n",
       "      <th>136</th>\n",
       "      <th>137</th>\n",
       "      <th>138</th>\n",
       "      <th>139</th>\n",
       "      <th>140</th>\n",
       "    </tr>\n",
       "  </thead>\n",
       "  <tbody>\n",
       "    <tr>\n",
       "      <th>0</th>\n",
       "      <td>0.014215</td>\n",
       "      <td>0.002073</td>\n",
       "      <td>0.000785</td>\n",
       "      <td>0.000684</td>\n",
       "      <td>0.000674</td>\n",
       "      <td>0.001154</td>\n",
       "      <td>0.421819</td>\n",
       "      <td>1.988436</td>\n",
       "      <td>3.401168</td>\n",
       "      <td>2.231825</td>\n",
       "      <td>...</td>\n",
       "      <td>17.456250</td>\n",
       "      <td>-11.514587</td>\n",
       "      <td>-13.613383</td>\n",
       "      <td>-6.919799</td>\n",
       "      <td>-17.170826</td>\n",
       "      <td>5.161680</td>\n",
       "      <td>-5.580457</td>\n",
       "      <td>-12.243958</td>\n",
       "      <td>12.842889</td>\n",
       "      <td>-16.649307</td>\n",
       "    </tr>\n",
       "    <tr>\n",
       "      <th>1</th>\n",
       "      <td>0.034006</td>\n",
       "      <td>0.001580</td>\n",
       "      <td>0.000312</td>\n",
       "      <td>0.000195</td>\n",
       "      <td>0.006751</td>\n",
       "      <td>0.113123</td>\n",
       "      <td>0.204935</td>\n",
       "      <td>0.356069</td>\n",
       "      <td>0.349696</td>\n",
       "      <td>0.301480</td>\n",
       "      <td>...</td>\n",
       "      <td>-10.768615</td>\n",
       "      <td>13.706544</td>\n",
       "      <td>5.475050</td>\n",
       "      <td>-15.858711</td>\n",
       "      <td>-0.268466</td>\n",
       "      <td>-11.191514</td>\n",
       "      <td>-0.086536</td>\n",
       "      <td>-2.064788</td>\n",
       "      <td>-4.152150</td>\n",
       "      <td>0.262011</td>\n",
       "    </tr>\n",
       "    <tr>\n",
       "      <th>2</th>\n",
       "      <td>0.785367</td>\n",
       "      <td>0.053158</td>\n",
       "      <td>0.003496</td>\n",
       "      <td>0.001581</td>\n",
       "      <td>0.002821</td>\n",
       "      <td>0.079478</td>\n",
       "      <td>0.382887</td>\n",
       "      <td>0.206982</td>\n",
       "      <td>0.214300</td>\n",
       "      <td>0.362833</td>\n",
       "      <td>...</td>\n",
       "      <td>-14.238812</td>\n",
       "      <td>-4.108815</td>\n",
       "      <td>3.110351</td>\n",
       "      <td>-9.245914</td>\n",
       "      <td>2.608693</td>\n",
       "      <td>-16.181166</td>\n",
       "      <td>-5.290768</td>\n",
       "      <td>-9.645020</td>\n",
       "      <td>-9.993869</td>\n",
       "      <td>-5.731284</td>\n",
       "    </tr>\n",
       "    <tr>\n",
       "      <th>3</th>\n",
       "      <td>0.026474</td>\n",
       "      <td>0.000816</td>\n",
       "      <td>0.000038</td>\n",
       "      <td>0.000034</td>\n",
       "      <td>0.000362</td>\n",
       "      <td>0.062444</td>\n",
       "      <td>0.418382</td>\n",
       "      <td>0.112216</td>\n",
       "      <td>0.006168</td>\n",
       "      <td>0.001122</td>\n",
       "      <td>...</td>\n",
       "      <td>10.546044</td>\n",
       "      <td>17.410788</td>\n",
       "      <td>8.951071</td>\n",
       "      <td>-6.887238</td>\n",
       "      <td>-8.676446</td>\n",
       "      <td>-10.280824</td>\n",
       "      <td>1.392153</td>\n",
       "      <td>-9.340833</td>\n",
       "      <td>1.391863</td>\n",
       "      <td>-4.215302</td>\n",
       "    </tr>\n",
       "    <tr>\n",
       "      <th>4</th>\n",
       "      <td>0.223134</td>\n",
       "      <td>0.091978</td>\n",
       "      <td>0.017339</td>\n",
       "      <td>0.008613</td>\n",
       "      <td>0.008589</td>\n",
       "      <td>0.004729</td>\n",
       "      <td>0.031441</td>\n",
       "      <td>0.861633</td>\n",
       "      <td>1.564073</td>\n",
       "      <td>0.891957</td>\n",
       "      <td>...</td>\n",
       "      <td>15.900852</td>\n",
       "      <td>1.169668</td>\n",
       "      <td>-9.230703</td>\n",
       "      <td>-12.909408</td>\n",
       "      <td>-8.941622</td>\n",
       "      <td>-5.882546</td>\n",
       "      <td>3.384658</td>\n",
       "      <td>-20.601276</td>\n",
       "      <td>4.239819</td>\n",
       "      <td>-6.646860</td>\n",
       "    </tr>\n",
       "  </tbody>\n",
       "</table>\n",
       "<p>5 rows × 141 columns</p>\n",
       "</div>"
      ],
      "text/plain": [
       "          0         1         2         3         4         5         6  \\\n",
       "0  0.014215  0.002073  0.000785  0.000684  0.000674  0.001154  0.421819   \n",
       "1  0.034006  0.001580  0.000312  0.000195  0.006751  0.113123  0.204935   \n",
       "2  0.785367  0.053158  0.003496  0.001581  0.002821  0.079478  0.382887   \n",
       "3  0.026474  0.000816  0.000038  0.000034  0.000362  0.062444  0.418382   \n",
       "4  0.223134  0.091978  0.017339  0.008613  0.008589  0.004729  0.031441   \n",
       "\n",
       "          7         8         9  ...        131        132        133  \\\n",
       "0  1.988436  3.401168  2.231825  ...  17.456250 -11.514587 -13.613383   \n",
       "1  0.356069  0.349696  0.301480  ... -10.768615  13.706544   5.475050   \n",
       "2  0.206982  0.214300  0.362833  ... -14.238812  -4.108815   3.110351   \n",
       "3  0.112216  0.006168  0.001122  ...  10.546044  17.410788   8.951071   \n",
       "4  0.861633  1.564073  0.891957  ...  15.900852   1.169668  -9.230703   \n",
       "\n",
       "         134        135        136       137        138        139        140  \n",
       "0  -6.919799 -17.170826   5.161680 -5.580457 -12.243958  12.842889 -16.649307  \n",
       "1 -15.858711  -0.268466 -11.191514 -0.086536  -2.064788  -4.152150   0.262011  \n",
       "2  -9.245914   2.608693 -16.181166 -5.290768  -9.645020  -9.993869  -5.731284  \n",
       "3  -6.887238  -8.676446 -10.280824  1.392153  -9.340833   1.391863  -4.215302  \n",
       "4 -12.909408  -8.941622  -5.882546  3.384658 -20.601276   4.239819  -6.646860  \n",
       "\n",
       "[5 rows x 141 columns]"
      ]
     },
     "execution_count": 7,
     "metadata": {},
     "output_type": "execute_result"
    }
   ],
   "source": [
    "y = df_new['emotions']\n",
    "X = df_new.drop(columns=['path', 'emotions'])\n",
    "X.head()"
   ]
  },
  {
   "cell_type": "markdown",
   "metadata": {},
   "source": [
    "## Preparing dataset for modeling"
   ]
  },
  {
   "cell_type": "code",
   "execution_count": 8,
   "metadata": {},
   "outputs": [],
   "source": [
    "## preparing dataset for modeling\n",
    "from sklearn.model_selection import train_test_split\n",
    "from sklearn.metrics import confusion_matrix\n",
    "from sklearn.preprocessing import LabelEncoder"
   ]
  },
  {
   "cell_type": "code",
   "execution_count": 9,
   "metadata": {},
   "outputs": [
    {
     "name": "stdout",
     "output_type": "stream",
     "text": [
      "(3392, 141)\n",
      "(3392,)\n",
      "(848, 141)\n",
      "(848,)\n"
     ]
    }
   ],
   "source": [
    "X_train, X_test, y_train, y_test = train_test_split(X, y, test_size=0.2, shuffle=True, stratify=y)\n",
    "print(X_train.shape)\n",
    "print(y_train.shape)\n",
    "print(X_test.shape)\n",
    "print(y_test.shape)"
   ]
  },
  {
   "cell_type": "code",
   "execution_count": 10,
   "metadata": {},
   "outputs": [],
   "source": [
    "import tensorflow as tf\n",
    "import tensorflow"
   ]
  },
  {
   "cell_type": "code",
   "execution_count": 11,
   "metadata": {},
   "outputs": [
    {
     "name": "stdout",
     "output_type": "stream",
     "text": [
      "(3392, 8)\n",
      "(848, 8)\n",
      "[[0. 0. 1. 0. 0. 0. 0. 0.]\n",
      " [0. 0. 0. 0. 0. 0. 0. 1.]\n",
      " [0. 0. 0. 1. 0. 0. 0. 0.]\n",
      " [0. 0. 1. 0. 0. 0. 0. 0.]\n",
      " [0. 0. 0. 0. 1. 0. 0. 0.]]\n",
      "[[0. 0. 0. 0. 0. 1. 0. 0.]\n",
      " [0. 0. 0. 0. 1. 0. 0. 0.]\n",
      " [0. 0. 0. 0. 0. 0. 0. 1.]\n",
      " [0. 0. 0. 1. 0. 0. 0. 0.]\n",
      " [0. 0. 1. 0. 0. 0. 0. 0.]]\n"
     ]
    }
   ],
   "source": [
    "from tensorflow.keras.utils import to_categorical\n",
    "lb= LabelEncoder()\n",
    "\n",
    "y_train = to_categorical(lb.fit_transform(y_train))\n",
    "y_test = to_categorical(lb.transform(y_test))\n",
    "\n",
    "print(y_train.shape)\n",
    "print(y_test.shape)\n",
    "print(y_train[0:5])\n",
    "print(y_test[0:5])\n"
   ]
  },
  {
   "cell_type": "code",
   "execution_count": 12,
   "metadata": {},
   "outputs": [
    {
     "name": "stdout",
     "output_type": "stream",
     "text": [
      "(3392, 141)\n",
      "(848, 141)\n"
     ]
    }
   ],
   "source": [
    "\n",
    "from sklearn.preprocessing import MinMaxScaler\n",
    "\n",
    "scaler = MinMaxScaler()\n",
    "\n",
    "X_train = scaler.fit_transform(X_train)\n",
    "X_test = scaler.transform(X_test)\n",
    "\n",
    "print(X_train.shape)\n",
    "print(X_test.shape)"
   ]
  },
  {
   "cell_type": "code",
   "execution_count": 13,
   "metadata": {},
   "outputs": [],
   "source": [
    "## importing matrices\n",
    "from sklearn.metrics import accuracy_score, f1_score, recall_score, precision_score"
   ]
  },
  {
   "cell_type": "markdown",
   "metadata": {},
   "source": [
    "## Baseline CNN Model"
   ]
  },
  {
   "cell_type": "code",
   "execution_count": 14,
   "metadata": {},
   "outputs": [],
   "source": [
    "import tensorflow.keras\n",
    "from tensorflow.keras.models import Sequential\n",
    "from tensorflow.keras.layers import Conv1D, MaxPooling1D, Dropout, BatchNormalization, Flatten, Dense, LSTM"
   ]
  },
  {
   "cell_type": "code",
   "execution_count": 214,
   "metadata": {},
   "outputs": [],
   "source": [
    "model_cnn = Sequential([\n",
    "    Conv1D(64, kernel_size=(8), activation='relu', input_shape=(X_train.shape[1], 1)),\n",
    "    Conv1D(128, kernel_size=(8), activation='relu'),\n",
    "    MaxPooling1D(pool_size=(4)),\n",
    "    Dropout(0.2),\n",
    "\n",
    "    Conv1D(128, kernel_size=(8), activation='relu'),\n",
    "    MaxPooling1D(pool_size=(4)),\n",
    "    Dropout(0.2),\n",
    "    BatchNormalization(),\n",
    "    Flatten(),\n",
    "    Dense(256, activation='relu'),\n",
    "    Dropout(0.2),\n",
    "    Dense(8, activation='softmax')\n",
    "])"
   ]
  },
  {
   "cell_type": "code",
   "execution_count": 215,
   "metadata": {},
   "outputs": [
    {
     "name": "stdout",
     "output_type": "stream",
     "text": [
      "Model: \"sequential_1\"\n",
      "_________________________________________________________________\n",
      " Layer (type)                Output Shape              Param #   \n",
      "=================================================================\n",
      " conv1d_9 (Conv1D)           (None, 134, 64)           576       \n",
      "                                                                 \n",
      " conv1d_10 (Conv1D)          (None, 127, 128)          65664     \n",
      "                                                                 \n",
      " max_pooling1d_6 (MaxPoolin  (None, 31, 128)           0         \n",
      " g1D)                                                            \n",
      "                                                                 \n",
      " dropout_7 (Dropout)         (None, 31, 128)           0         \n",
      "                                                                 \n",
      " conv1d_11 (Conv1D)          (None, 24, 128)           131200    \n",
      "                                                                 \n",
      " max_pooling1d_7 (MaxPoolin  (None, 6, 128)            0         \n",
      " g1D)                                                            \n",
      "                                                                 \n",
      " dropout_8 (Dropout)         (None, 6, 128)            0         \n",
      "                                                                 \n",
      " batch_normalization_3 (Bat  (None, 6, 128)            512       \n",
      " chNormalization)                                                \n",
      "                                                                 \n",
      " flatten_2 (Flatten)         (None, 768)               0         \n",
      "                                                                 \n",
      " dense_2 (Dense)             (None, 256)               196864    \n",
      "                                                                 \n",
      " dropout_9 (Dropout)         (None, 256)               0         \n",
      "                                                                 \n",
      " dense_3 (Dense)             (None, 8)                 2056      \n",
      "                                                                 \n",
      "=================================================================\n",
      "Total params: 396872 (1.51 MB)\n",
      "Trainable params: 396616 (1.51 MB)\n",
      "Non-trainable params: 256 (1.00 KB)\n",
      "_________________________________________________________________\n"
     ]
    }
   ],
   "source": [
    "model_cnn.summary()"
   ]
  },
  {
   "cell_type": "code",
   "execution_count": 15,
   "metadata": {},
   "outputs": [],
   "source": [
    "# Callbacks\n",
    "import h5py\n",
    "from tensorflow.keras.callbacks import EarlyStopping\n",
    "from tensorflow.keras.callbacks import Callback\n",
    "from sklearn.metrics import f1_score\n",
    "\n",
    "class F1(Callback):\n",
    "\n",
    "  def __init__(self,x_train, y_train,x_test, y_test):\n",
    "      self.x = x_train\n",
    "      self.y = y_train\n",
    "      self.x_val = x_test\n",
    "      self.y_val = y_test\n",
    "\n",
    "  #def on_train_begin(self, logs={}):\n",
    "    #self.val_f1s = []\n",
    "   \n",
    "  \n",
    "  def on_epoch_end(self, epoch, logs={}):\n",
    "\n",
    "    val_predict = (np.asarray(self.model.predict(self.x_val))).round()\n",
    "    val_targ = self.y_val\n",
    "\n",
    "    _val_f1 = round(f1_score(val_targ, val_predict, average= 'micro'), 4)\n",
    "    \n",
    "    #self.val_f1s.append(_val_f1)\n",
    "    \n",
    "    print('f1_score:{}'.format(_val_f1))\n",
    "    \n",
    "F1 = F1(X_train, y_train,X_test, y_test)"
   ]
  },
  {
   "cell_type": "code",
   "execution_count": 21,
   "metadata": {},
   "outputs": [],
   "source": [
    "\n",
    "#es = EarlyStopping(monitor= 'val_precision', patience= 3)\n",
    "from tensorflow.keras.callbacks import ModelCheckpoint\n",
    "mc = ModelCheckpoint('best_model.h5', monitor= 'f1_score') "
   ]
  },
  {
   "cell_type": "code",
   "execution_count": 218,
   "metadata": {},
   "outputs": [],
   "source": [
    "all= [F1,mc]"
   ]
  },
  {
   "cell_type": "code",
   "execution_count": 219,
   "metadata": {},
   "outputs": [
    {
     "name": "stdout",
     "output_type": "stream",
     "text": [
      "Epoch 1/50\n",
      "27/27 [==============================] - 0s 6ms/step loss: 1.8158 - precision_4: \n",
      "f1_score:0.0\n",
      "106/106 [==============================] - 5s 35ms/step - loss: 1.8138 - precision_4: 0.8196 - val_loss: 2.0116 - val_precision_4: 0.0000e+00\n",
      "Epoch 2/50\n",
      "27/27 [==============================] - 0s 7ms/step loss: 1.5520 - precision_4\n",
      "f1_score:0.0047\n",
      "106/106 [==============================] - 3s 29ms/step - loss: 1.5498 - precision_4: 0.8627 - val_loss: 1.8900 - val_precision_4: 1.0000\n",
      "Epoch 3/50\n",
      "27/27 [==============================] - 0s 7ms/step loss: 1.3465 - precision_4\n",
      "f1_score:0.0727\n",
      "106/106 [==============================] - 3s 30ms/step - loss: 1.3459 - precision_4: 0.8730 - val_loss: 1.7083 - val_precision_4: 1.0000\n",
      "Epoch 4/50\n",
      "27/27 [==============================] - 0s 6ms/step loss: 1.2039 - precision_4\n",
      "f1_score:0.2011\n",
      "106/106 [==============================] - 3s 29ms/step - loss: 1.2024 - precision_4: 0.8933 - val_loss: 1.4513 - val_precision_4: 0.9794\n",
      "Epoch 5/50\n",
      "27/27 [==============================] - 0s 7ms/step loss: 1.0864 - precision_4\n",
      "f1_score:0.4119\n",
      "106/106 [==============================] - 3s 29ms/step - loss: 1.0864 - precision_4: 0.8895 - val_loss: 1.1865 - val_precision_4: 0.9822\n",
      "Epoch 6/50\n",
      "27/27 [==============================] - 0s 6ms/step loss: 1.0192 - precision_4\n",
      "f1_score:0.5966\n",
      "106/106 [==============================] - 3s 30ms/step - loss: 1.0185 - precision_4: 0.8982 - val_loss: 0.9936 - val_precision_4: 0.9657\n",
      "Epoch 7/50\n",
      "27/27 [==============================] - 0s 8ms/step loss: 0.9633 - precision_4\n",
      "f1_score:0.6903\n",
      "106/106 [==============================] - 3s 30ms/step - loss: 0.9633 - precision_4: 0.9008 - val_loss: 0.8896 - val_precision_4: 0.9601\n",
      "Epoch 8/50\n",
      "27/27 [==============================] - 0s 7ms/step loss: 0.8994 - precision_4\n",
      "f1_score:0.7164\n",
      "106/106 [==============================] - 3s 30ms/step - loss: 0.8994 - precision_4: 0.9121 - val_loss: 0.8230 - val_precision_4: 0.9423\n",
      "Epoch 9/50\n",
      "27/27 [==============================] - 0s 6ms/step loss: 0.8624 - precision_4\n",
      "f1_score:0.7241\n",
      "106/106 [==============================] - 3s 31ms/step - loss: 0.8608 - precision_4: 0.9104 - val_loss: 0.7980 - val_precision_4: 0.9265\n",
      "Epoch 10/50\n",
      "27/27 [==============================] - 0s 6ms/step loss: 0.8357 - precision_4\n",
      "f1_score:0.7199\n",
      "106/106 [==============================] - 3s 30ms/step - loss: 0.8357 - precision_4: 0.9129 - val_loss: 0.8127 - val_precision_4: 0.9099\n",
      "Epoch 11/50\n",
      "27/27 [==============================] - 0s 6ms/step loss: 0.8041 - precision_4\n",
      "f1_score:0.7493\n",
      "106/106 [==============================] - 3s 30ms/step - loss: 0.8029 - precision_4: 0.9140 - val_loss: 0.7752 - val_precision_4: 0.9379\n",
      "Epoch 12/50\n",
      "27/27 [==============================] - 0s 6ms/step loss: 0.7858 - precision_4\n",
      "f1_score:0.7519\n",
      "106/106 [==============================] - 3s 29ms/step - loss: 0.7831 - precision_4: 0.9208 - val_loss: 0.7484 - val_precision_4: 0.9082\n",
      "Epoch 13/50\n",
      "27/27 [==============================] - 0s 6ms/step loss: 0.7605 - precision_4\n",
      "f1_score:0.7561\n",
      "106/106 [==============================] - 3s 29ms/step - loss: 0.7605 - precision_4: 0.9142 - val_loss: 0.7345 - val_precision_4: 0.9205\n",
      "Epoch 14/50\n",
      "27/27 [==============================] - 0s 6ms/step loss: 0.7428 - precision_4\n",
      "f1_score:0.766\n",
      "106/106 [==============================] - 3s 30ms/step - loss: 0.7437 - precision_4: 0.9255 - val_loss: 0.7107 - val_precision_4: 0.9163\n",
      "Epoch 15/50\n",
      "27/27 [==============================] - 0s 6ms/step loss: 0.7282 - precision_4\n",
      "f1_score:0.7595\n",
      "106/106 [==============================] - 3s 29ms/step - loss: 0.7282 - precision_4: 0.9321 - val_loss: 0.7195 - val_precision_4: 0.9138\n",
      "Epoch 16/50\n",
      "27/27 [==============================] - 0s 7ms/step loss: 0.7212 - precision_4\n",
      "f1_score:0.7759\n",
      "106/106 [==============================] - 3s 31ms/step - loss: 0.7212 - precision_4: 0.9261 - val_loss: 0.6909 - val_precision_4: 0.9264\n",
      "Epoch 17/50\n",
      "27/27 [==============================] - 0s 6ms/step loss: 0.6965 - precision_4\n",
      "f1_score:0.7689\n",
      "106/106 [==============================] - 3s 31ms/step - loss: 0.6977 - precision_4: 0.9373 - val_loss: 0.6895 - val_precision_4: 0.9224\n",
      "Epoch 18/50\n",
      "27/27 [==============================] - 0s 7ms/step loss: 0.6997 - precision_4\n",
      "f1_score:0.7743\n",
      "106/106 [==============================] - 3s 30ms/step - loss: 0.6997 - precision_4: 0.9344 - val_loss: 0.6627 - val_precision_4: 0.9218\n",
      "Epoch 19/50\n",
      "27/27 [==============================] - 0s 6ms/step loss: 0.6782 - precision_4\n",
      "f1_score:0.7658\n",
      "106/106 [==============================] - 3s 31ms/step - loss: 0.6801 - precision_4: 0.9371 - val_loss: 0.6971 - val_precision_4: 0.9134\n",
      "Epoch 20/50\n",
      "27/27 [==============================] - 0s 7ms/step loss: 0.6744 - precision_4\n",
      "f1_score:0.7744\n",
      "106/106 [==============================] - 3s 30ms/step - loss: 0.6746 - precision_4: 0.9372 - val_loss: 0.6959 - val_precision_4: 0.9290\n",
      "Epoch 21/50\n",
      "27/27 [==============================] - 0s 6ms/step loss: 0.6556 - precision_4\n",
      "f1_score:0.791\n",
      "106/106 [==============================] - 3s 29ms/step - loss: 0.6540 - precision_4: 0.9314 - val_loss: 0.6357 - val_precision_4: 0.9399\n",
      "Epoch 22/50\n",
      "27/27 [==============================] - 0s 6ms/step loss: 0.6425 - precision_4\n",
      "f1_score:0.7867\n",
      "106/106 [==============================] - 3s 31ms/step - loss: 0.6425 - precision_4: 0.9389 - val_loss: 0.6343 - val_precision_4: 0.9237\n",
      "Epoch 23/50\n",
      "27/27 [==============================] - 0s 6ms/step loss: 0.6378 - precision_4\n",
      "f1_score:0.7811\n",
      "106/106 [==============================] - 3s 30ms/step - loss: 0.6378 - precision_4: 0.9402 - val_loss: 0.6413 - val_precision_4: 0.9300\n",
      "Epoch 24/50\n",
      "27/27 [==============================] - 0s 6ms/step loss: 0.6318 - precision_4\n",
      "f1_score:0.7899\n",
      "106/106 [==============================] - 3s 30ms/step - loss: 0.6334 - precision_4: 0.9446 - val_loss: 0.6287 - val_precision_4: 0.9369\n",
      "Epoch 25/50\n",
      "27/27 [==============================] - 0s 9ms/step loss: 0.6216 - precision\n",
      "f1_score:0.7817\n",
      "106/106 [==============================] - 4s 39ms/step - loss: 0.6216 - precision_4: 0.9421 - val_loss: 0.6611 - val_precision_4: 0.9315\n",
      "Epoch 26/50\n",
      "27/27 [==============================] - 0s 7ms/step loss: 0.6133 - precision_4\n",
      "f1_score:0.8019\n",
      "106/106 [==============================] - 5s 46ms/step - loss: 0.6133 - precision_4: 0.9462 - val_loss: 0.6084 - val_precision_4: 0.9398\n",
      "Epoch 27/50\n",
      "27/27 [==============================] - 0s 7ms/step loss: 0.6111 - precision_4\n",
      "f1_score:0.7976\n",
      "106/106 [==============================] - 3s 32ms/step - loss: 0.6108 - precision_4: 0.9434 - val_loss: 0.6033 - val_precision_4: 0.9322\n",
      "Epoch 28/50\n",
      "27/27 [==============================] - 0s 7ms/step loss: 0.5929 - precision_4\n",
      "f1_score:0.8014\n",
      "106/106 [==============================] - 3s 30ms/step - loss: 0.5929 - precision_4: 0.9435 - val_loss: 0.5952 - val_precision_4: 0.9469\n",
      "Epoch 29/50\n",
      "27/27 [==============================] - 0s 7ms/step loss: 0.5900 - precision_4\n",
      "f1_score:0.8014\n",
      "106/106 [==============================] - 3s 31ms/step - loss: 0.5900 - precision_4: 0.9442 - val_loss: 0.5932 - val_precision_4: 0.9383\n",
      "Epoch 30/50\n",
      "27/27 [==============================] - 0s 7ms/step loss: 0.5851 - precision_4\n",
      "f1_score:0.8037\n",
      "106/106 [==============================] - 3s 31ms/step - loss: 0.5857 - precision_4: 0.9496 - val_loss: 0.5921 - val_precision_4: 0.9262\n",
      "Epoch 31/50\n",
      "27/27 [==============================] - 0s 7ms/step loss: 0.5797 - precision_4\n",
      "f1_score:0.8019\n",
      "106/106 [==============================] - 4s 33ms/step - loss: 0.5797 - precision_4: 0.9428 - val_loss: 0.5916 - val_precision_4: 0.9398\n",
      "Epoch 32/50\n",
      "27/27 [==============================] - 0s 7ms/step loss: 0.5727 - precision_4\n",
      "f1_score:0.8054\n",
      "106/106 [==============================] - 5s 43ms/step - loss: 0.5727 - precision_4: 0.9505 - val_loss: 0.5814 - val_precision_4: 0.9346\n",
      "Epoch 33/50\n",
      "27/27 [==============================] - 0s 12ms/steploss: 0.5669 - precisi\n",
      "f1_score:0.8065\n",
      "106/106 [==============================] - 4s 40ms/step - loss: 0.5669 - precision_4: 0.9511 - val_loss: 0.5680 - val_precision_4: 0.9504\n",
      "Epoch 34/50\n",
      "27/27 [==============================] - 0s 7ms/step loss: 0.5589 - precision_4\n",
      "f1_score:0.8011\n",
      "106/106 [==============================] - 4s 36ms/step - loss: 0.5585 - precision_4: 0.9502 - val_loss: 0.5749 - val_precision_4: 0.9354\n",
      "Epoch 35/50\n",
      "27/27 [==============================] - 0s 7ms/step loss: 0.5599 - precision_4\n",
      "f1_score:0.8073\n",
      "106/106 [==============================] - 3s 31ms/step - loss: 0.5599 - precision_4: 0.9507 - val_loss: 0.5589 - val_precision_4: 0.9418\n",
      "Epoch 36/50\n",
      "27/27 [==============================] - 0s 7ms/step loss: 0.5538 - precision_4\n",
      "f1_score:0.8041\n",
      "106/106 [==============================] - 3s 31ms/step - loss: 0.5545 - precision_4: 0.9486 - val_loss: 0.5755 - val_precision_4: 0.9458\n",
      "Epoch 37/50\n",
      "27/27 [==============================] - 0s 7ms/step loss: 0.5445 - precision_4\n",
      "f1_score:0.8121\n",
      "106/106 [==============================] - 3s 30ms/step - loss: 0.5437 - precision_4: 0.9541 - val_loss: 0.5530 - val_precision_4: 0.9466\n",
      "Epoch 38/50\n",
      "27/27 [==============================] - 0s 7ms/step loss: 0.5386 - precision_4\n",
      "f1_score:0.8046\n",
      "106/106 [==============================] - 3s 31ms/step - loss: 0.5386 - precision_4: 0.9502 - val_loss: 0.5581 - val_precision_4: 0.9345\n",
      "Epoch 39/50\n",
      "27/27 [==============================] - 0s 6ms/step loss: 0.5298 - precision_4\n",
      "f1_score:0.8051\n",
      "106/106 [==============================] - 3s 30ms/step - loss: 0.5292 - precision_4: 0.9543 - val_loss: 0.5758 - val_precision_4: 0.9359\n",
      "Epoch 40/50\n",
      "27/27 [==============================] - 0s 7ms/step loss: 0.5357 - precision_4\n",
      "f1_score:0.8138\n",
      "106/106 [==============================] - 3s 31ms/step - loss: 0.5350 - precision_4: 0.9497 - val_loss: 0.5457 - val_precision_4: 0.9511\n",
      "Epoch 41/50\n",
      "27/27 [==============================] - 0s 7ms/step loss: 0.5284 - precision_4\n",
      "f1_score:0.8135\n",
      "106/106 [==============================] - 3s 31ms/step - loss: 0.5284 - precision_4: 0.9577 - val_loss: 0.5427 - val_precision_4: 0.9482\n",
      "Epoch 42/50\n",
      "27/27 [==============================] - 0s 8ms/step loss: 0.5160 - precision_4\n",
      "f1_score:0.814\n",
      "106/106 [==============================] - 4s 41ms/step - loss: 0.5160 - precision_4: 0.9552 - val_loss: 0.5504 - val_precision_4: 0.9497\n",
      "Epoch 43/50\n",
      "27/27 [==============================] - 0s 6ms/step loss: 0.5127 - precision_4\n",
      "f1_score:0.8112\n",
      "106/106 [==============================] - 4s 36ms/step - loss: 0.5127 - precision_4: 0.9555 - val_loss: 0.5482 - val_precision_4: 0.9381\n",
      "Epoch 44/50\n",
      "27/27 [==============================] - 0s 8ms/step loss: 0.5037 - precision_4\n",
      "f1_score:0.8073\n",
      "106/106 [==============================] - 4s 35ms/step - loss: 0.5023 - precision_4: 0.9531 - val_loss: 0.5755 - val_precision_4: 0.9376\n",
      "Epoch 45/50\n",
      "27/27 [==============================] - 0s 6ms/step loss: 0.4977 - precision_4\n",
      "f1_score:0.8125\n",
      "106/106 [==============================] - 3s 30ms/step - loss: 0.4991 - precision_4: 0.9554 - val_loss: 0.5534 - val_precision_4: 0.9314\n",
      "Epoch 46/50\n",
      "27/27 [==============================] - 0s 8ms/step loss: 0.4997 - precision_4\n",
      "f1_score:0.8142\n",
      "106/106 [==============================] - 3s 30ms/step - loss: 0.4984 - precision_4: 0.9580 - val_loss: 0.5424 - val_precision_4: 0.9398\n",
      "Epoch 47/50\n",
      "27/27 [==============================] - 0s 6ms/step loss: 0.5038 - precision_4: \n",
      "f1_score:0.8164\n",
      "106/106 [==============================] - 3s 31ms/step - loss: 0.5042 - precision_4: 0.9621 - val_loss: 0.5353 - val_precision_4: 0.9457\n",
      "Epoch 48/50\n",
      "27/27 [==============================] - 0s 11ms/steploss: 0.4875 - precisi\n",
      "f1_score:0.8162\n",
      "106/106 [==============================] - 4s 40ms/step - loss: 0.4875 - precision_4: 0.9576 - val_loss: 0.5454 - val_precision_4: 0.9332\n",
      "Epoch 49/50\n",
      "27/27 [==============================] - 0s 9ms/step loss: 0.4789 - precision\n",
      "f1_score:0.821\n",
      "106/106 [==============================] - 4s 34ms/step - loss: 0.4798 - precision_4: 0.9505 - val_loss: 0.5333 - val_precision_4: 0.9379\n",
      "Epoch 50/50\n",
      "27/27 [==============================] - 0s 8ms/step loss: 0.4786 - precision_4\n",
      "f1_score:0.8135\n",
      "106/106 [==============================] - 4s 34ms/step - loss: 0.4800 - precision_4: 0.9560 - val_loss: 0.5250 - val_precision_4: 0.9262\n"
     ]
    }
   ],
   "source": [
    "\n",
    "# compiling and fitting\n",
    "model_cnn.compile(loss='categorical_crossentropy', optimizer=tf.keras.optimizers.legacy.Adam(learning_rate=0.0001), metrics=[tensorflow.keras.metrics.Precision()])\n",
    "history= model_cnn.fit(X_train, y_train,batch_size=32, epochs=50, validation_data=(X_test, y_test), callbacks= all)"
   ]
  },
  {
   "cell_type": "code",
   "execution_count": 220,
   "metadata": {},
   "outputs": [],
   "source": [
    "best_cnn_model = tensorflow.keras.models.load_model('/Users/umesh/Desktop/Speech_recognition_project/best_model.h5')"
   ]
  },
  {
   "cell_type": "code",
   "execution_count": 221,
   "metadata": {},
   "outputs": [
    {
     "name": "stdout",
     "output_type": "stream",
     "text": [
      "27/27 [==============================] - 0s 7ms/step\n"
     ]
    },
    {
     "data": {
      "text/plain": [
       "(848, 8)"
      ]
     },
     "execution_count": 221,
     "metadata": {},
     "output_type": "execute_result"
    }
   ],
   "source": [
    "\n",
    "best_cnn_model.predict(X_test).shape"
   ]
  },
  {
   "cell_type": "code",
   "execution_count": 226,
   "metadata": {},
   "outputs": [
    {
     "data": {
      "image/png": "[encoded data removed]",
      "text/plain": [
       "<Figure size 640x480 with 1 Axes>"
      ]
     },
     "metadata": {},
     "output_type": "display_data"
    }
   ],
   "source": [
    "\n",
    "# loss graph\n",
    "plt.plot(history.history['loss'])\n",
    "plt.plot(history.history['val_loss'])\n",
    "plt.title('train vs test loss for CNN')\n",
    "plt.ylabel('loss')\n",
    "plt.xlabel('epoch')\n",
    "plt.legend(['train', 'test'])\n",
    "plt.show()"
   ]
  },
  {
   "cell_type": "markdown",
   "metadata": {},
   "source": [
    "## LSTM model ##"
   ]
  },
  {
   "cell_type": "code",
   "execution_count": 16,
   "metadata": {},
   "outputs": [],
   "source": [
    "from tensorflow import keras\n",
    "from tensorflow.keras.models import Model"
   ]
  },
  {
   "cell_type": "code",
   "execution_count": 17,
   "metadata": {},
   "outputs": [
    {
     "name": "stdout",
     "output_type": "stream",
     "text": [
      "Model: \"model\"\n",
      "_________________________________________________________________\n",
      " Layer (type)                Output Shape              Param #   \n",
      "=================================================================\n",
      " input_array (InputLayer)    [(None, 141, 1)]          0         \n",
      "                                                                 \n",
      " lstm_layer (LSTM)           (None, 512)               1052672   \n",
      "                                                                 \n",
      " dense_1 (Dense)             (None, 256)               131328    \n",
      "                                                                 \n",
      " dropout_1 (Dropout)         (None, 256)               0         \n",
      "                                                                 \n",
      " dense_2 (Dense)             (None, 128)               32896     \n",
      "                                                                 \n",
      " batch_normalization (Batch  (None, 128)               512       \n",
      " Normalization)                                                  \n",
      "                                                                 \n",
      " output_layer (Dense)        (None, 8)                 1032      \n",
      "                                                                 \n",
      "=================================================================\n",
      "Total params: 1218440 (4.65 MB)\n",
      "Trainable params: 1218184 (4.65 MB)\n",
      "Non-trainable params: 256 (1.00 KB)\n",
      "_________________________________________________________________\n"
     ]
    }
   ],
   "source": [
    "input_array= keras.Input(shape=(X_train.shape[1],1), name = 'input_array')\n",
    "lstm_layer = LSTM(512, name = 'lstm_layer')(input_array)\n",
    "dense_1 = Dense(256, activation= 'relu', kernel_initializer='he_normal', name= 'dense_1')(lstm_layer)\n",
    "dropout_1 = Dropout(rate= 0.2,  name= 'dropout_1')(dense_1)\n",
    "dense_2 = Dense(128, activation= 'relu', kernel_initializer='he_normal',  name= 'dense_2')(dropout_1)\n",
    "bn= BatchNormalization()(dense_2)\n",
    "output_layer = Dense(8, activation= 'softmax', name= 'output_layer')(bn)\n",
    "\n",
    "model_lstm = Model(inputs=input_array, outputs= output_layer)\n",
    "model_lstm.summary()"
   ]
  },
  {
   "cell_type": "code",
   "execution_count": 22,
   "metadata": {},
   "outputs": [],
   "source": [
    "#callbacks\n",
    "mc = ModelCheckpoint('lstm_model.h5', monitor='val_precision', save_best_only=True)\n",
    "all= [F1,mc]"
   ]
  },
  {
   "cell_type": "code",
   "execution_count": 25,
   "metadata": {},
   "outputs": [
    {
     "name": "stdout",
     "output_type": "stream",
     "text": [
      "Epoch 1/200\n",
      "27/27 [==============================] - 4s 148ms/step\n",
      "f1_score:0.0\n",
      "106/106 [==============================] - 61s 564ms/step - loss: 2.0629 - precision: 0.0000e+00 - val_loss: 2.0706 - val_precision: 0.0000e+00\n",
      "Epoch 2/200\n",
      "27/27 [==============================] - 4s 165ms/step\n",
      "f1_score:0.0\n",
      "106/106 [==============================] - 68s 645ms/step - loss: 1.9804 - precision: 0.7500 - val_loss: 2.0304 - val_precision: 0.0000e+00\n",
      "Epoch 3/200\n",
      "27/27 [==============================] - 4s 147ms/step\n",
      "f1_score:0.0\n",
      "106/106 [==============================] - 59s 560ms/step - loss: 1.8031 - precision: 0.6104 - val_loss: 1.9481 - val_precision: 0.0000e+00\n",
      "Epoch 4/200\n",
      "27/27 [==============================] - 4s 141ms/step\n",
      "f1_score:0.0141\n",
      "106/106 [==============================] - 54s 508ms/step - loss: 1.7713 - precision: 0.6334 - val_loss: 1.8336 - val_precision: 1.0000\n",
      "Epoch 5/200\n",
      "27/27 [==============================] - 3s 125ms/step\n",
      "f1_score:0.0323\n",
      "106/106 [==============================] - 51s 483ms/step - loss: 1.7001 - precision: 0.7017 - val_loss: 1.7975 - val_precision: 0.7368\n",
      "Epoch 6/200\n",
      "27/27 [==============================] - 5s 171ms/step\n",
      "f1_score:0.0985\n",
      "106/106 [==============================] - 56s 529ms/step - loss: 1.7160 - precision: 0.6649 - val_loss: 1.7258 - val_precision: 0.9778\n",
      "Epoch 7/200\n",
      "27/27 [==============================] - 4s 153ms/step\n",
      "f1_score:0.1313\n",
      "106/106 [==============================] - 57s 536ms/step - loss: 1.6657 - precision: 0.6895 - val_loss: 1.6459 - val_precision: 0.7531\n",
      "Epoch 8/200\n",
      "27/27 [==============================] - 10s 360ms/step\n",
      "f1_score:0.1835\n",
      "106/106 [==============================] - 62s 586ms/step - loss: 1.6095 - precision: 0.6998 - val_loss: 1.6022 - val_precision: 0.7295\n",
      "Epoch 9/200\n",
      "27/27 [==============================] - 4s 135ms/step\n",
      "f1_score:0.1572\n",
      "106/106 [==============================] - 54s 507ms/step - loss: 1.6049 - precision: 0.6874 - val_loss: 1.6636 - val_precision: 0.7075\n",
      "Epoch 10/200\n",
      "27/27 [==============================] - 4s 132ms/step\n",
      "f1_score:0.2601\n",
      "106/106 [==============================] - 52s 491ms/step - loss: 1.5452 - precision: 0.7304 - val_loss: 1.4863 - val_precision: 0.7105\n",
      "Epoch 11/200\n",
      "27/27 [==============================] - 4s 146ms/step\n",
      "f1_score:0.2967\n",
      "106/106 [==============================] - 51s 478ms/step - loss: 1.4801 - precision: 0.7619 - val_loss: 2.0144 - val_precision: 0.5354\n",
      "Epoch 12/200\n",
      "27/27 [==============================] - 4s 152ms/step\n",
      "f1_score:0.2622\n",
      "106/106 [==============================] - 54s 513ms/step - loss: 1.4678 - precision: 0.7465 - val_loss: 1.4519 - val_precision: 0.8302\n",
      "Epoch 13/200\n",
      "27/27 [==============================] - 4s 141ms/step\n",
      "f1_score:0.2624\n",
      "106/106 [==============================] - 58s 548ms/step - loss: 1.4725 - precision: 0.7561 - val_loss: 1.5071 - val_precision: 0.7459\n",
      "Epoch 14/200\n",
      "27/27 [==============================] - 4s 162ms/step\n",
      "f1_score:0.3075\n",
      "106/106 [==============================] - 56s 532ms/step - loss: 1.4291 - precision: 0.7688 - val_loss: 1.3621 - val_precision: 0.8548\n",
      "Epoch 15/200\n",
      "27/27 [==============================] - 4s 147ms/step\n",
      "f1_score:0.3448\n",
      "106/106 [==============================] - 58s 544ms/step - loss: 1.4039 - precision: 0.7861 - val_loss: 1.4701 - val_precision: 0.7480\n",
      "Epoch 16/200\n",
      "27/27 [==============================] - 4s 132ms/step\n",
      "f1_score:0.3114\n",
      "106/106 [==============================] - 52s 494ms/step - loss: 1.3831 - precision: 0.7633 - val_loss: 1.3887 - val_precision: 0.8191\n",
      "Epoch 17/200\n",
      "27/27 [==============================] - 5s 197ms/step\n",
      "f1_score:0.271\n",
      "106/106 [==============================] - 56s 528ms/step - loss: 1.3788 - precision: 0.7562 - val_loss: 1.4530 - val_precision: 0.7100\n",
      "Epoch 18/200\n",
      "27/27 [==============================] - 4s 146ms/step\n",
      "f1_score:0.2787\n",
      "106/106 [==============================] - 56s 529ms/step - loss: 1.3946 - precision: 0.7515 - val_loss: 1.6282 - val_precision: 0.6916\n",
      "Epoch 19/200\n",
      "27/27 [==============================] - 5s 173ms/step\n",
      "f1_score:0.3248\n",
      "106/106 [==============================] - 61s 576ms/step - loss: 1.3514 - precision: 0.7707 - val_loss: 1.3728 - val_precision: 0.8152\n",
      "Epoch 20/200\n",
      "27/27 [==============================] - 4s 149ms/step\n",
      "f1_score:0.4097\n",
      "106/106 [==============================] - 59s 554ms/step - loss: 1.3134 - precision: 0.7704 - val_loss: 1.3963 - val_precision: 0.6969\n",
      "Epoch 21/200\n",
      "27/27 [==============================] - 4s 162ms/step\n",
      "f1_score:0.4365\n",
      "106/106 [==============================] - 56s 528ms/step - loss: 1.2892 - precision: 0.7737 - val_loss: 1.1963 - val_precision: 0.8311\n",
      "Epoch 22/200\n",
      "27/27 [==============================] - 4s 144ms/step\n",
      "f1_score:0.4599\n",
      "106/106 [==============================] - 56s 532ms/step - loss: 1.2660 - precision: 0.7706 - val_loss: 1.1983 - val_precision: 0.7701\n",
      "Epoch 23/200\n",
      "27/27 [==============================] - 4s 157ms/step\n",
      "f1_score:0.4819\n",
      "106/106 [==============================] - 54s 513ms/step - loss: 1.2705 - precision: 0.7720 - val_loss: 1.3462 - val_precision: 0.7207\n",
      "Epoch 24/200\n",
      "27/27 [==============================] - 4s 163ms/step\n",
      "f1_score:0.4773\n",
      "106/106 [==============================] - 56s 526ms/step - loss: 1.2518 - precision: 0.7570 - val_loss: 1.3019 - val_precision: 0.7961\n",
      "Epoch 25/200\n",
      "27/27 [==============================] - 4s 145ms/step\n",
      "f1_score:0.4425\n",
      "106/106 [==============================] - 55s 522ms/step - loss: 1.2421 - precision: 0.7470 - val_loss: 1.2750 - val_precision: 0.6962\n",
      "Epoch 26/200\n",
      "27/27 [==============================] - 4s 138ms/step\n",
      "f1_score:0.4801\n",
      "106/106 [==============================] - 57s 534ms/step - loss: 1.2177 - precision: 0.7726 - val_loss: 1.1565 - val_precision: 0.8056\n",
      "Epoch 27/200\n",
      "27/27 [==============================] - 5s 170ms/step\n",
      "f1_score:0.4852\n",
      "106/106 [==============================] - 54s 512ms/step - loss: 1.2085 - precision: 0.7632 - val_loss: 1.2919 - val_precision: 0.7166\n",
      "Epoch 28/200\n",
      "27/27 [==============================] - 4s 140ms/step\n",
      "f1_score:0.5564\n",
      "106/106 [==============================] - 57s 537ms/step - loss: 1.1830 - precision: 0.7700 - val_loss: 1.1130 - val_precision: 0.8537\n",
      "Epoch 29/200\n",
      "27/27 [==============================] - 4s 164ms/step\n",
      "f1_score:0.5839\n",
      "106/106 [==============================] - 55s 518ms/step - loss: 1.1814 - precision: 0.7803 - val_loss: 1.1000 - val_precision: 0.8067\n",
      "Epoch 30/200\n",
      "27/27 [==============================] - 4s 145ms/step\n",
      "f1_score:0.5754\n",
      "106/106 [==============================] - 57s 534ms/step - loss: 1.1721 - precision: 0.7782 - val_loss: 1.0809 - val_precision: 0.8274\n",
      "Epoch 31/200\n",
      "27/27 [==============================] - 3s 128ms/step\n",
      "f1_score:0.5367\n",
      "106/106 [==============================] - 54s 506ms/step - loss: 1.1838 - precision: 0.7712 - val_loss: 1.1590 - val_precision: 0.8115\n",
      "Epoch 32/200\n",
      "27/27 [==============================] - 4s 141ms/step\n",
      "f1_score:0.5938\n",
      "106/106 [==============================] - 56s 530ms/step - loss: 1.1149 - precision: 0.8019 - val_loss: 1.0436 - val_precision: 0.8225\n",
      "Epoch 33/200\n",
      "27/27 [==============================] - 4s 141ms/step\n",
      "f1_score:0.4147\n",
      "106/106 [==============================] - 55s 518ms/step - loss: 1.1667 - precision: 0.7753 - val_loss: 1.6179 - val_precision: 0.6737\n",
      "Epoch 34/200\n",
      "27/27 [==============================] - 4s 161ms/step\n",
      "f1_score:0.5904\n",
      "106/106 [==============================] - 53s 499ms/step - loss: 1.1266 - precision: 0.7880 - val_loss: 1.0920 - val_precision: 0.8167\n",
      "Epoch 35/200\n",
      "27/27 [==============================] - 5s 168ms/step\n",
      "f1_score:0.5971\n",
      "106/106 [==============================] - 57s 539ms/step - loss: 1.1019 - precision: 0.8006 - val_loss: 1.0724 - val_precision: 0.8316\n",
      "Epoch 36/200\n",
      "27/27 [==============================] - 5s 187ms/step\n",
      "f1_score:0.6043\n",
      "106/106 [==============================] - 60s 563ms/step - loss: 1.0968 - precision: 0.7952 - val_loss: 1.0319 - val_precision: 0.8519\n",
      "Epoch 37/200\n",
      "27/27 [==============================] - 5s 197ms/step\n",
      "f1_score:0.5678\n",
      "106/106 [==============================] - 63s 592ms/step - loss: 1.0928 - precision: 0.7929 - val_loss: 1.0884 - val_precision: 0.7579\n",
      "Epoch 38/200\n",
      "27/27 [==============================] - 6s 209ms/step\n",
      "f1_score:0.6053\n",
      "106/106 [==============================] - 67s 630ms/step - loss: 1.0848 - precision: 0.7985 - val_loss: 1.0084 - val_precision: 0.8522\n",
      "Epoch 39/200\n",
      "27/27 [==============================] - 4s 164ms/step\n",
      "f1_score:0.6422\n",
      "106/106 [==============================] - 63s 596ms/step - loss: 1.0637 - precision: 0.8180 - val_loss: 1.0068 - val_precision: 0.8519\n",
      "Epoch 40/200\n",
      "27/27 [==============================] - 12s 323ms/step\n",
      "f1_score:0.642\n",
      "106/106 [==============================] - 110s 1s/step - loss: 1.0611 - precision: 0.8165 - val_loss: 1.0039 - val_precision: 0.8355\n",
      "Epoch 41/200\n",
      "27/27 [==============================] - 4s 139ms/step\n",
      "f1_score:0.5537\n",
      "106/106 [==============================] - 65s 614ms/step - loss: 1.0270 - precision: 0.8193 - val_loss: 1.2780 - val_precision: 0.7124\n",
      "Epoch 42/200\n",
      "27/27 [==============================] - 6s 221ms/step\n",
      "f1_score:0.5891\n",
      "106/106 [==============================] - 62s 583ms/step - loss: 1.0886 - precision: 0.7958 - val_loss: 1.0978 - val_precision: 0.8012\n",
      "Epoch 43/200\n",
      "27/27 [==============================] - 4s 145ms/step\n",
      "f1_score:0.5782\n",
      "106/106 [==============================] - 57s 533ms/step - loss: 1.0361 - precision: 0.8183 - val_loss: 1.0446 - val_precision: 0.8186\n",
      "Epoch 44/200\n",
      "27/27 [==============================] - 4s 154ms/step\n",
      "f1_score:0.6574\n",
      "106/106 [==============================] - 53s 499ms/step - loss: 1.0620 - precision: 0.8138 - val_loss: 0.9719 - val_precision: 0.8607\n",
      "Epoch 45/200\n",
      "27/27 [==============================] - 4s 146ms/step\n",
      "f1_score:0.593\n",
      "106/106 [==============================] - 56s 532ms/step - loss: 1.0325 - precision: 0.8192 - val_loss: 1.0588 - val_precision: 0.8086\n",
      "Epoch 46/200\n",
      "27/27 [==============================] - 4s 139ms/step\n",
      "f1_score:0.6657\n",
      "106/106 [==============================] - 62s 588ms/step - loss: 1.0003 - precision: 0.8260 - val_loss: 0.9631 - val_precision: 0.8644\n",
      "Epoch 47/200\n",
      "27/27 [==============================] - 5s 166ms/step\n",
      "f1_score:0.6686\n",
      "106/106 [==============================] - 59s 556ms/step - loss: 1.0263 - precision: 0.8158 - val_loss: 0.9354 - val_precision: 0.8423\n",
      "Epoch 48/200\n",
      "27/27 [==============================] - 4s 165ms/step\n",
      "f1_score:0.6676\n",
      "106/106 [==============================] - 59s 555ms/step - loss: 1.0029 - precision: 0.8213 - val_loss: 0.9243 - val_precision: 0.8772\n",
      "Epoch 49/200\n",
      "27/27 [==============================] - 4s 164ms/step\n",
      "f1_score:0.6519\n",
      "106/106 [==============================] - 57s 537ms/step - loss: 0.9906 - precision: 0.8323 - val_loss: 0.9683 - val_precision: 0.8249\n",
      "Epoch 50/200\n",
      "27/27 [==============================] - 5s 172ms/step\n",
      "f1_score:0.6445\n",
      "106/106 [==============================] - 66s 620ms/step - loss: 0.9727 - precision: 0.8298 - val_loss: 0.9743 - val_precision: 0.8349\n",
      "Epoch 51/200\n",
      "27/27 [==============================] - 6s 209ms/step\n",
      "f1_score:0.6709\n",
      "106/106 [==============================] - 58s 546ms/step - loss: 1.0237 - precision: 0.8144 - val_loss: 0.9356 - val_precision: 0.8444\n",
      "Epoch 52/200\n",
      "27/27 [==============================] - 5s 170ms/step\n",
      "f1_score:0.6458\n",
      "106/106 [==============================] - 71s 672ms/step - loss: 0.9774 - precision: 0.8313 - val_loss: 1.0182 - val_precision: 0.8111\n",
      "Epoch 53/200\n",
      "27/27 [==============================] - 4s 143ms/step\n",
      "f1_score:0.6819\n",
      "106/106 [==============================] - 60s 568ms/step - loss: 0.9705 - precision: 0.8397 - val_loss: 0.9002 - val_precision: 0.8628\n",
      "Epoch 54/200\n",
      "27/27 [==============================] - 4s 166ms/step\n",
      "f1_score:0.6831\n",
      "106/106 [==============================] - 60s 564ms/step - loss: 0.9514 - precision: 0.8374 - val_loss: 0.9353 - val_precision: 0.8479\n",
      "Epoch 55/200\n",
      "27/27 [==============================] - 5s 194ms/step\n",
      "f1_score:0.6891\n",
      "106/106 [==============================] - 60s 571ms/step - loss: 0.9892 - precision: 0.8273 - val_loss: 0.9279 - val_precision: 0.8510\n",
      "Epoch 56/200\n",
      "27/27 [==============================] - 5s 183ms/step\n",
      "f1_score:0.6896\n",
      "106/106 [==============================] - 63s 597ms/step - loss: 0.9402 - precision: 0.8409 - val_loss: 0.8981 - val_precision: 0.8793\n",
      "Epoch 57/200\n",
      "27/27 [==============================] - 5s 168ms/step\n",
      "f1_score:0.6919\n",
      "106/106 [==============================] - 61s 573ms/step - loss: 0.9363 - precision: 0.8421 - val_loss: 0.9218 - val_precision: 0.8755\n",
      "Epoch 58/200\n",
      "27/27 [==============================] - 3s 105ms/step\n",
      "f1_score:0.6423\n",
      "106/106 [==============================] - 36s 342ms/step - loss: 0.9612 - precision: 0.8256 - val_loss: 0.9615 - val_precision: 0.8190\n",
      "Epoch 59/200\n",
      "27/27 [==============================] - 4s 132ms/step\n",
      "f1_score:0.6417\n",
      "106/106 [==============================] - 40s 377ms/step - loss: 0.9779 - precision: 0.8284 - val_loss: 1.0055 - val_precision: 0.8229\n",
      "Epoch 60/200\n",
      "27/27 [==============================] - 3s 127ms/step\n",
      "f1_score:0.6186\n",
      "106/106 [==============================] - 41s 388ms/step - loss: 0.9519 - precision: 0.8348 - val_loss: 1.0719 - val_precision: 0.7959\n",
      "Epoch 61/200\n",
      "27/27 [==============================] - 3s 124ms/step\n",
      "f1_score:0.6907\n",
      "106/106 [==============================] - 42s 401ms/step - loss: 0.9472 - precision: 0.8426 - val_loss: 0.8781 - val_precision: 0.8637\n",
      "Epoch 62/200\n",
      "27/27 [==============================] - 3s 122ms/step\n",
      "f1_score:0.6652\n",
      "106/106 [==============================] - 42s 400ms/step - loss: 0.9433 - precision: 0.8416 - val_loss: 0.9476 - val_precision: 0.8511\n",
      "Epoch 63/200\n",
      "27/27 [==============================] - 3s 124ms/step\n",
      "f1_score:0.69\n",
      "106/106 [==============================] - 41s 392ms/step - loss: 0.9223 - precision: 0.8472 - val_loss: 0.9238 - val_precision: 0.8270\n",
      "Epoch 64/200\n",
      "27/27 [==============================] - 4s 137ms/step\n",
      "f1_score:0.6662\n",
      "106/106 [==============================] - 43s 409ms/step - loss: 0.9135 - precision: 0.8519 - val_loss: 0.9457 - val_precision: 0.8630\n",
      "Epoch 65/200\n",
      "27/27 [==============================] - 3s 127ms/step\n",
      "f1_score:0.6389\n",
      "106/106 [==============================] - 42s 397ms/step - loss: 0.9391 - precision: 0.8458 - val_loss: 0.9676 - val_precision: 0.7972\n",
      "Epoch 66/200\n",
      "27/27 [==============================] - 4s 130ms/step\n",
      "f1_score:0.6338\n",
      "106/106 [==============================] - 44s 412ms/step - loss: 0.9274 - precision: 0.8334 - val_loss: 0.9884 - val_precision: 0.7867\n",
      "Epoch 67/200\n",
      "27/27 [==============================] - 3s 119ms/step\n",
      "f1_score:0.6685\n",
      "106/106 [==============================] - 42s 397ms/step - loss: 0.8941 - precision: 0.8527 - val_loss: 1.0341 - val_precision: 0.7799\n",
      "Epoch 68/200\n",
      "27/27 [==============================] - 4s 142ms/step\n",
      "f1_score:0.7232\n",
      "106/106 [==============================] - 46s 435ms/step - loss: 0.8906 - precision: 0.8500 - val_loss: 0.8204 - val_precision: 0.8912\n",
      "Epoch 69/200\n",
      "27/27 [==============================] - 3s 120ms/step\n",
      "f1_score:0.6853\n",
      "106/106 [==============================] - 43s 405ms/step - loss: 0.9294 - precision: 0.8313 - val_loss: 0.9738 - val_precision: 0.8768\n",
      "Epoch 70/200\n",
      "27/27 [==============================] - 3s 126ms/step\n",
      "f1_score:0.6583\n",
      "106/106 [==============================] - 45s 422ms/step - loss: 0.8997 - precision: 0.8479 - val_loss: 0.9751 - val_precision: 0.8079\n",
      "Epoch 71/200\n",
      "27/27 [==============================] - 3s 111ms/step\n",
      "f1_score:0.7134\n",
      "106/106 [==============================] - 44s 417ms/step - loss: 0.9015 - precision: 0.8439 - val_loss: 0.8247 - val_precision: 0.8791\n",
      "Epoch 72/200\n",
      "27/27 [==============================] - 4s 135ms/step\n",
      "f1_score:0.66\n",
      "106/106 [==============================] - 48s 450ms/step - loss: 0.8691 - precision: 0.8583 - val_loss: 1.1592 - val_precision: 0.7632\n",
      "Epoch 73/200\n",
      "27/27 [==============================] - 4s 137ms/step\n",
      "f1_score:0.7077\n",
      "106/106 [==============================] - 48s 453ms/step - loss: 0.8822 - precision: 0.8575 - val_loss: 0.8507 - val_precision: 0.8548\n",
      "Epoch 74/200\n",
      "27/27 [==============================] - 4s 137ms/step\n",
      "f1_score:0.6728\n",
      "106/106 [==============================] - 48s 453ms/step - loss: 0.8826 - precision: 0.8578 - val_loss: 0.9048 - val_precision: 0.8368\n",
      "Epoch 75/200\n",
      "27/27 [==============================] - 3s 125ms/step\n",
      "f1_score:0.6779\n",
      "106/106 [==============================] - 47s 442ms/step - loss: 0.8804 - precision: 0.8486 - val_loss: 0.9577 - val_precision: 0.8397\n",
      "Epoch 76/200\n",
      "27/27 [==============================] - 4s 133ms/step\n",
      "f1_score:0.7069\n",
      "106/106 [==============================] - 47s 448ms/step - loss: 0.8823 - precision: 0.8566 - val_loss: 0.8308 - val_precision: 0.8598\n",
      "Epoch 77/200\n",
      "27/27 [==============================] - 3s 129ms/step\n",
      "f1_score:0.6848\n",
      "106/106 [==============================] - 46s 431ms/step - loss: 0.8744 - precision: 0.8602 - val_loss: 0.9142 - val_precision: 0.8723\n",
      "Epoch 78/200\n",
      "27/27 [==============================] - 3s 125ms/step\n",
      "f1_score:0.6738\n",
      "106/106 [==============================] - 52s 487ms/step - loss: 0.8893 - precision: 0.8600 - val_loss: 0.8990 - val_precision: 0.8479\n",
      "Epoch 79/200\n",
      "27/27 [==============================] - 4s 131ms/step\n",
      "f1_score:0.6957\n",
      "106/106 [==============================] - 52s 493ms/step - loss: 0.8613 - precision: 0.8635 - val_loss: 0.9289 - val_precision: 0.8581\n",
      "Epoch 80/200\n",
      "27/27 [==============================] - 4s 148ms/step\n",
      "f1_score:0.7009\n",
      "106/106 [==============================] - 53s 499ms/step - loss: 0.8426 - precision: 0.8788 - val_loss: 0.8409 - val_precision: 0.8516\n",
      "Epoch 81/200\n",
      "27/27 [==============================] - 4s 162ms/step\n",
      "f1_score:0.6917\n",
      "106/106 [==============================] - 53s 505ms/step - loss: 0.8594 - precision: 0.8602 - val_loss: 0.8664 - val_precision: 0.8640\n",
      "Epoch 82/200\n",
      "27/27 [==============================] - 4s 151ms/step\n",
      "f1_score:0.7135\n",
      "106/106 [==============================] - 53s 497ms/step - loss: 0.8623 - precision: 0.8575 - val_loss: 0.8167 - val_precision: 0.8950\n",
      "Epoch 83/200\n",
      "27/27 [==============================] - 4s 148ms/step\n",
      "f1_score:0.6667\n",
      "106/106 [==============================] - 53s 504ms/step - loss: 0.8559 - precision: 0.8720 - val_loss: 0.9676 - val_precision: 0.8037\n",
      "Epoch 84/200\n",
      "27/27 [==============================] - 5s 171ms/step\n",
      "f1_score:0.6499\n",
      "106/106 [==============================] - 56s 531ms/step - loss: 0.8829 - precision: 0.8492 - val_loss: 0.9650 - val_precision: 0.7952\n",
      "Epoch 85/200\n",
      "27/27 [==============================] - 4s 153ms/step\n",
      "f1_score:0.6989\n",
      "106/106 [==============================] - 57s 534ms/step - loss: 0.8485 - precision: 0.8799 - val_loss: 0.8971 - val_precision: 0.8603\n",
      "Epoch 86/200\n",
      "27/27 [==============================] - 4s 138ms/step\n",
      "f1_score:0.7254\n",
      "106/106 [==============================] - 57s 541ms/step - loss: 0.8491 - precision: 0.8571 - val_loss: 0.8130 - val_precision: 0.8902\n",
      "Epoch 87/200\n",
      "27/27 [==============================] - 4s 157ms/step\n",
      "f1_score:0.6868\n",
      "106/106 [==============================] - 56s 534ms/step - loss: 0.8491 - precision: 0.8641 - val_loss: 0.9198 - val_precision: 0.8463\n",
      "Epoch 88/200\n",
      "27/27 [==============================] - 4s 166ms/step\n",
      "f1_score:0.6999\n",
      "106/106 [==============================] - 57s 536ms/step - loss: 0.8475 - precision: 0.8592 - val_loss: 0.8542 - val_precision: 0.8661\n",
      "Epoch 89/200\n",
      "27/27 [==============================] - 4s 162ms/step\n",
      "f1_score:0.7179\n",
      "106/106 [==============================] - 58s 551ms/step - loss: 0.8301 - precision: 0.8683 - val_loss: 0.7906 - val_precision: 0.8801\n",
      "Epoch 90/200\n",
      "27/27 [==============================] - 4s 154ms/step\n",
      "f1_score:0.6718\n",
      "106/106 [==============================] - 57s 537ms/step - loss: 0.8380 - precision: 0.8583 - val_loss: 0.8963 - val_precision: 0.8262\n",
      "Epoch 91/200\n",
      "27/27 [==============================] - 5s 178ms/step\n",
      "f1_score:0.7098\n",
      "106/106 [==============================] - 61s 580ms/step - loss: 0.8597 - precision: 0.8699 - val_loss: 0.8290 - val_precision: 0.8783\n",
      "Epoch 92/200\n",
      "27/27 [==============================] - 5s 168ms/step\n",
      "f1_score:0.6976\n",
      "106/106 [==============================] - 59s 559ms/step - loss: 0.8228 - precision: 0.8643 - val_loss: 0.9231 - val_precision: 0.8857\n",
      "Epoch 93/200\n",
      "27/27 [==============================] - 5s 196ms/step\n",
      "f1_score:0.7029\n",
      "106/106 [==============================] - 63s 596ms/step - loss: 0.8330 - precision: 0.8687 - val_loss: 0.8413 - val_precision: 0.8574\n",
      "Epoch 94/200\n",
      "27/27 [==============================] - 4s 149ms/step\n",
      "f1_score:0.7038\n",
      "106/106 [==============================] - 63s 592ms/step - loss: 0.8363 - precision: 0.8641 - val_loss: 0.8490 - val_precision: 0.8603\n",
      "Epoch 95/200\n",
      "27/27 [==============================] - 4s 158ms/step\n",
      "f1_score:0.7251\n",
      "106/106 [==============================] - 62s 582ms/step - loss: 0.8197 - precision: 0.8746 - val_loss: 0.8211 - val_precision: 0.8544\n",
      "Epoch 96/200\n",
      "27/27 [==============================] - 5s 170ms/step\n",
      "f1_score:0.7219\n",
      "106/106 [==============================] - 60s 567ms/step - loss: 0.8177 - precision: 0.8815 - val_loss: 0.8345 - val_precision: 0.8702\n",
      "Epoch 97/200\n",
      "27/27 [==============================] - 4s 166ms/step\n",
      "f1_score:0.7103\n",
      "106/106 [==============================] - 62s 587ms/step - loss: 0.8212 - precision: 0.8737 - val_loss: 0.8208 - val_precision: 0.8673\n",
      "Epoch 98/200\n",
      "27/27 [==============================] - 5s 186ms/step\n",
      "f1_score:0.694\n",
      "106/106 [==============================] - 64s 604ms/step - loss: 0.8299 - precision: 0.8693 - val_loss: 0.9106 - val_precision: 0.8053\n",
      "Epoch 99/200\n",
      "27/27 [==============================] - 6s 208ms/step\n",
      "f1_score:0.6815\n",
      "106/106 [==============================] - 64s 610ms/step - loss: 0.8073 - precision: 0.8755 - val_loss: 0.9936 - val_precision: 0.8305\n",
      "Epoch 100/200\n",
      "27/27 [==============================] - 4s 161ms/step\n",
      "f1_score:0.7076\n",
      "106/106 [==============================] - 68s 644ms/step - loss: 0.8268 - precision: 0.8665 - val_loss: 0.8439 - val_precision: 0.8667\n",
      "Epoch 101/200\n",
      "27/27 [==============================] - 6s 232ms/step\n",
      "f1_score:0.675\n",
      "106/106 [==============================] - 71s 675ms/step - loss: 0.8150 - precision: 0.8645 - val_loss: 0.9001 - val_precision: 0.8161\n",
      "Epoch 102/200\n",
      "27/27 [==============================] - 4s 160ms/step\n",
      "f1_score:0.6194\n",
      "106/106 [==============================] - 65s 610ms/step - loss: 0.8206 - precision: 0.8751 - val_loss: 1.1248 - val_precision: 0.7438\n",
      "Epoch 103/200\n",
      "27/27 [==============================] - 3s 118ms/step\n",
      "f1_score:0.6889\n",
      "106/106 [==============================] - 925s 9s/step - loss: 0.8173 - precision: 0.8724 - val_loss: 0.9281 - val_precision: 0.8661\n",
      "Epoch 104/200\n",
      "27/27 [==============================] - 4s 129ms/step\n",
      "f1_score:0.7229\n",
      "106/106 [==============================] - 39s 370ms/step - loss: 0.7963 - precision: 0.8787 - val_loss: 0.8384 - val_precision: 0.8551\n",
      "Epoch 105/200\n",
      "27/27 [==============================] - 4s 141ms/step\n",
      "f1_score:0.7347\n",
      "106/106 [==============================] - 41s 386ms/step - loss: 0.8105 - precision: 0.8783 - val_loss: 0.7894 - val_precision: 0.8839\n",
      "Epoch 106/200\n",
      "27/27 [==============================] - 4s 133ms/step\n",
      "f1_score:0.7139\n",
      "106/106 [==============================] - 42s 401ms/step - loss: 0.7873 - precision: 0.8819 - val_loss: 0.8338 - val_precision: 0.8682\n",
      "Epoch 107/200\n",
      "27/27 [==============================] - 4s 130ms/step\n",
      "f1_score:0.693\n",
      "106/106 [==============================] - 43s 404ms/step - loss: 0.7899 - precision: 0.8909 - val_loss: 0.9021 - val_precision: 0.8028\n",
      "Epoch 108/200\n",
      "27/27 [==============================] - 4s 130ms/step\n",
      "f1_score:0.7138\n",
      "106/106 [==============================] - 43s 406ms/step - loss: 0.7888 - precision: 0.8832 - val_loss: 0.8923 - val_precision: 0.8907\n",
      "Epoch 109/200\n",
      "27/27 [==============================] - 4s 132ms/step\n",
      "f1_score:0.7246\n",
      "106/106 [==============================] - 43s 408ms/step - loss: 0.7955 - precision: 0.8716 - val_loss: 0.7929 - val_precision: 0.8735\n",
      "Epoch 110/200\n",
      "27/27 [==============================] - 4s 143ms/step\n",
      "f1_score:0.7024\n",
      "106/106 [==============================] - 43s 407ms/step - loss: 0.7986 - precision: 0.8844 - val_loss: 0.8429 - val_precision: 0.8285\n",
      "Epoch 111/200\n",
      "27/27 [==============================] - 4s 135ms/step\n",
      "f1_score:0.6974\n",
      "106/106 [==============================] - 45s 425ms/step - loss: 0.8015 - precision: 0.8689 - val_loss: 0.9049 - val_precision: 0.8366\n",
      "Epoch 112/200\n",
      "27/27 [==============================] - 4s 147ms/step\n",
      "f1_score:0.7245\n",
      "106/106 [==============================] - 47s 441ms/step - loss: 0.7873 - precision: 0.8785 - val_loss: 0.8130 - val_precision: 0.8709\n",
      "Epoch 113/200\n",
      "27/27 [==============================] - 4s 132ms/step\n",
      "f1_score:0.7218\n",
      "106/106 [==============================] - 45s 420ms/step - loss: 0.7810 - precision: 0.8741 - val_loss: 0.7935 - val_precision: 0.8675\n",
      "Epoch 114/200\n",
      "27/27 [==============================] - 4s 143ms/step\n",
      "f1_score:0.7104\n",
      "106/106 [==============================] - 47s 440ms/step - loss: 0.7783 - precision: 0.8692 - val_loss: 0.8608 - val_precision: 0.8333\n",
      "Epoch 115/200\n",
      "27/27 [==============================] - 4s 134ms/step\n",
      "f1_score:0.709\n",
      "106/106 [==============================] - 44s 413ms/step - loss: 0.7792 - precision: 0.8771 - val_loss: 0.8608 - val_precision: 0.8538\n",
      "Epoch 116/200\n",
      "27/27 [==============================] - 4s 139ms/step\n",
      "f1_score:0.7383\n",
      "106/106 [==============================] - 43s 411ms/step - loss: 0.7660 - precision: 0.8879 - val_loss: 0.7563 - val_precision: 0.9043\n",
      "Epoch 117/200\n",
      "27/27 [==============================] - 3s 108ms/step\n",
      "f1_score:0.6879\n",
      "106/106 [==============================] - 43s 405ms/step - loss: 0.7743 - precision: 0.8778 - val_loss: 0.8915 - val_precision: 0.8325\n",
      "Epoch 118/200\n",
      "27/27 [==============================] - 3s 129ms/step\n",
      "f1_score:0.7031\n",
      "106/106 [==============================] - 42s 394ms/step - loss: 0.7839 - precision: 0.8840 - val_loss: 0.8797 - val_precision: 0.8509\n",
      "Epoch 119/200\n",
      "27/27 [==============================] - 3s 124ms/step\n",
      "f1_score:0.7274\n",
      "106/106 [==============================] - 44s 418ms/step - loss: 0.7690 - precision: 0.8893 - val_loss: 0.7814 - val_precision: 0.8769\n",
      "Epoch 120/200\n",
      "27/27 [==============================] - 4s 148ms/step\n",
      "f1_score:0.7409\n",
      "106/106 [==============================] - 48s 453ms/step - loss: 0.7638 - precision: 0.8783 - val_loss: 0.7912 - val_precision: 0.8880\n",
      "Epoch 121/200\n",
      "27/27 [==============================] - 4s 145ms/step\n",
      "f1_score:0.6986\n",
      "106/106 [==============================] - 53s 501ms/step - loss: 0.7668 - precision: 0.8760 - val_loss: 0.8772 - val_precision: 0.8497\n",
      "Epoch 122/200\n",
      "27/27 [==============================] - 4s 159ms/step\n",
      "f1_score:0.7316\n",
      "106/106 [==============================] - 46s 435ms/step - loss: 0.7809 - precision: 0.8813 - val_loss: 0.8353 - val_precision: 0.8915\n",
      "Epoch 123/200\n",
      "27/27 [==============================] - 4s 138ms/step\n",
      "f1_score:0.729\n",
      "106/106 [==============================] - 52s 491ms/step - loss: 0.7541 - precision: 0.8823 - val_loss: 0.7646 - val_precision: 0.8746\n",
      "Epoch 124/200\n",
      "27/27 [==============================] - 4s 140ms/step\n",
      "f1_score:0.7288\n",
      "106/106 [==============================] - 47s 444ms/step - loss: 0.7591 - precision: 0.8805 - val_loss: 0.8181 - val_precision: 0.8785\n",
      "Epoch 125/200\n",
      "27/27 [==============================] - 3s 126ms/step\n",
      "f1_score:0.6906\n",
      "106/106 [==============================] - 47s 443ms/step - loss: 0.7630 - precision: 0.8889 - val_loss: 0.8373 - val_precision: 0.8581\n",
      "Epoch 126/200\n",
      "27/27 [==============================] - 4s 135ms/step\n",
      "f1_score:0.7428\n",
      "106/106 [==============================] - 50s 476ms/step - loss: 0.7739 - precision: 0.8842 - val_loss: 0.7653 - val_precision: 0.8844\n",
      "Epoch 127/200\n",
      "27/27 [==============================] - 4s 142ms/step\n",
      "f1_score:0.653\n",
      "106/106 [==============================] - 52s 493ms/step - loss: 0.7455 - precision: 0.8893 - val_loss: 1.0397 - val_precision: 0.8123\n",
      "Epoch 128/200\n",
      "27/27 [==============================] - 4s 143ms/step\n",
      "f1_score:0.7186\n",
      "106/106 [==============================] - 45s 426ms/step - loss: 0.7553 - precision: 0.8917 - val_loss: 0.8262 - val_precision: 0.8654\n",
      "Epoch 129/200\n",
      "27/27 [==============================] - 4s 137ms/step\n",
      "f1_score:0.7241\n",
      "106/106 [==============================] - 45s 423ms/step - loss: 0.7601 - precision: 0.8843 - val_loss: 0.8313 - val_precision: 0.8816\n",
      "Epoch 130/200\n",
      "27/27 [==============================] - 4s 137ms/step\n",
      "f1_score:0.7505\n",
      "106/106 [==============================] - 45s 424ms/step - loss: 0.7578 - precision: 0.8864 - val_loss: 0.7385 - val_precision: 0.8995\n",
      "Epoch 131/200\n",
      "27/27 [==============================] - 4s 138ms/step\n",
      "f1_score:0.7034\n",
      "106/106 [==============================] - 45s 428ms/step - loss: 0.7350 - precision: 0.8982 - val_loss: 0.8448 - val_precision: 0.8472\n",
      "Epoch 132/200\n",
      "27/27 [==============================] - 4s 136ms/step\n",
      "f1_score:0.7231\n",
      "106/106 [==============================] - 44s 416ms/step - loss: 0.7495 - precision: 0.8872 - val_loss: 0.8502 - val_precision: 0.8406\n",
      "Epoch 133/200\n",
      "27/27 [==============================] - 4s 138ms/step\n",
      "f1_score:0.7031\n",
      "106/106 [==============================] - 45s 423ms/step - loss: 0.7309 - precision: 0.8935 - val_loss: 0.8790 - val_precision: 0.8073\n",
      "Epoch 134/200\n",
      "27/27 [==============================] - 4s 131ms/step\n",
      "f1_score:0.7321\n",
      "106/106 [==============================] - 46s 432ms/step - loss: 0.7450 - precision: 0.8898 - val_loss: 0.7775 - val_precision: 0.8587\n",
      "Epoch 135/200\n",
      "27/27 [==============================] - 4s 137ms/step\n",
      "f1_score:0.7404\n",
      "106/106 [==============================] - 45s 427ms/step - loss: 0.7373 - precision: 0.8891 - val_loss: 0.7957 - val_precision: 0.9032\n",
      "Epoch 136/200\n",
      "27/27 [==============================] - 4s 142ms/step\n",
      "f1_score:0.7452\n",
      "106/106 [==============================] - 46s 435ms/step - loss: 0.7323 - precision: 0.9024 - val_loss: 0.7371 - val_precision: 0.8889\n",
      "Epoch 137/200\n",
      "27/27 [==============================] - 4s 133ms/step\n",
      "f1_score:0.7249\n",
      "106/106 [==============================] - 45s 427ms/step - loss: 0.7276 - precision: 0.8999 - val_loss: 0.8039 - val_precision: 0.8606\n",
      "Epoch 138/200\n",
      "27/27 [==============================] - 4s 138ms/step\n",
      "f1_score:0.715\n",
      "106/106 [==============================] - 47s 440ms/step - loss: 0.7289 - precision: 0.8931 - val_loss: 0.8025 - val_precision: 0.8504\n",
      "Epoch 139/200\n",
      "27/27 [==============================] - 4s 146ms/step\n",
      "f1_score:0.7429\n",
      "106/106 [==============================] - 46s 433ms/step - loss: 0.7307 - precision: 0.8895 - val_loss: 0.7822 - val_precision: 0.8939\n",
      "Epoch 140/200\n",
      "27/27 [==============================] - 3s 121ms/step\n",
      "f1_score:0.7478\n",
      "106/106 [==============================] - 43s 403ms/step - loss: 0.7232 - precision: 0.9006 - val_loss: 0.7219 - val_precision: 0.8962\n",
      "Epoch 141/200\n",
      "27/27 [==============================] - 3s 95ms/step\n",
      "f1_score:0.7478\n",
      "106/106 [==============================] - 39s 365ms/step - loss: 0.7171 - precision: 0.8929 - val_loss: 0.7347 - val_precision: 0.8828\n",
      "Epoch 142/200\n",
      "27/27 [==============================] - 3s 114ms/step\n",
      "f1_score:0.7465\n",
      "106/106 [==============================] - 40s 375ms/step - loss: 0.7151 - precision: 0.8995 - val_loss: 0.7377 - val_precision: 0.8748\n",
      "Epoch 143/200\n",
      "27/27 [==============================] - 3s 118ms/step\n",
      "f1_score:0.7328\n",
      "106/106 [==============================] - 39s 373ms/step - loss: 0.7143 - precision: 0.9001 - val_loss: 0.7905 - val_precision: 0.8423\n",
      "Epoch 144/200\n",
      "27/27 [==============================] - 3s 105ms/step\n",
      "f1_score:0.7243\n",
      "106/106 [==============================] - 39s 370ms/step - loss: 0.7159 - precision: 0.8926 - val_loss: 0.7667 - val_precision: 0.8748\n",
      "Epoch 145/200\n",
      "27/27 [==============================] - 3s 116ms/step\n",
      "f1_score:0.7428\n",
      "106/106 [==============================] - 40s 383ms/step - loss: 0.7107 - precision: 0.9000 - val_loss: 0.7389 - val_precision: 0.8911\n",
      "Epoch 146/200\n",
      "27/27 [==============================] - 3s 120ms/step\n",
      "f1_score:0.7269\n",
      "106/106 [==============================] - 41s 384ms/step - loss: 0.7151 - precision: 0.8988 - val_loss: 0.7815 - val_precision: 0.8574\n",
      "Epoch 147/200\n",
      "27/27 [==============================] - 3s 122ms/step\n",
      "f1_score:0.7342\n",
      "106/106 [==============================] - 40s 380ms/step - loss: 0.7148 - precision: 0.8940 - val_loss: 0.7756 - val_precision: 0.8668\n",
      "Epoch 148/200\n",
      "27/27 [==============================] - 3s 125ms/step\n",
      "f1_score:0.7441\n",
      "106/106 [==============================] - 40s 381ms/step - loss: 0.7244 - precision: 0.8870 - val_loss: 0.7531 - val_precision: 0.8768\n",
      "Epoch 149/200\n",
      "27/27 [==============================] - 3s 105ms/step\n",
      "f1_score:0.7612\n",
      "106/106 [==============================] - 39s 367ms/step - loss: 0.7077 - precision: 0.9040 - val_loss: 0.7227 - val_precision: 0.9140\n",
      "Epoch 150/200\n",
      "27/27 [==============================] - 3s 115ms/step\n",
      "f1_score:0.7072\n",
      "106/106 [==============================] - 40s 375ms/step - loss: 0.7257 - precision: 0.9029 - val_loss: 0.8073 - val_precision: 0.8533\n",
      "Epoch 151/200\n",
      "27/27 [==============================] - 3s 98ms/step\n",
      "f1_score:0.7466\n",
      "106/106 [==============================] - 39s 365ms/step - loss: 0.6972 - precision: 0.8974 - val_loss: 0.7464 - val_precision: 0.8905\n",
      "Epoch 152/200\n",
      "27/27 [==============================] - 3s 101ms/step\n",
      "f1_score:0.7234\n",
      "106/106 [==============================] - 39s 370ms/step - loss: 0.7036 - precision: 0.9001 - val_loss: 0.7426 - val_precision: 0.8654\n",
      "Epoch 153/200\n",
      "27/27 [==============================] - 3s 124ms/step\n",
      "f1_score:0.7449\n",
      "106/106 [==============================] - 41s 385ms/step - loss: 0.6887 - precision: 0.9092 - val_loss: 0.7545 - val_precision: 0.8902\n",
      "Epoch 154/200\n",
      "27/27 [==============================] - 3s 122ms/step\n",
      "f1_score:0.7184\n",
      "106/106 [==============================] - 40s 382ms/step - loss: 0.6947 - precision: 0.9060 - val_loss: 0.7842 - val_precision: 0.8721\n",
      "Epoch 155/200\n",
      "27/27 [==============================] - 3s 121ms/step\n",
      "f1_score:0.7113\n",
      "106/106 [==============================] - 40s 376ms/step - loss: 0.6927 - precision: 0.9002 - val_loss: 0.8170 - val_precision: 0.8829\n",
      "Epoch 156/200\n",
      "27/27 [==============================] - 3s 117ms/step\n",
      "f1_score:0.749\n",
      "106/106 [==============================] - 40s 379ms/step - loss: 0.6944 - precision: 0.8920 - val_loss: 0.7081 - val_precision: 0.9091\n",
      "Epoch 157/200\n",
      "27/27 [==============================] - 3s 115ms/step\n",
      "f1_score:0.7478\n",
      "106/106 [==============================] - 40s 382ms/step - loss: 0.6756 - precision: 0.9053 - val_loss: 0.7359 - val_precision: 0.8764\n",
      "Epoch 158/200\n",
      "27/27 [==============================] - 3s 100ms/step\n",
      "f1_score:0.7497\n",
      "106/106 [==============================] - 40s 376ms/step - loss: 0.7074 - precision: 0.8968 - val_loss: 0.7263 - val_precision: 0.8859\n",
      "Epoch 159/200\n",
      "27/27 [==============================] - 4s 130ms/step\n",
      "f1_score:0.7237\n",
      "106/106 [==============================] - 41s 387ms/step - loss: 0.7133 - precision: 0.8954 - val_loss: 0.8190 - val_precision: 0.8528\n",
      "Epoch 160/200\n",
      "27/27 [==============================] - 4s 131ms/step\n",
      "f1_score:0.7176\n",
      "106/106 [==============================] - 41s 389ms/step - loss: 0.6862 - precision: 0.9156 - val_loss: 0.9936 - val_precision: 0.7960\n",
      "Epoch 161/200\n",
      "27/27 [==============================] - 3s 121ms/step\n",
      "f1_score:0.7486\n",
      "106/106 [==============================] - 41s 384ms/step - loss: 0.7074 - precision: 0.9060 - val_loss: 0.7412 - val_precision: 0.8964\n",
      "Epoch 162/200\n",
      "27/27 [==============================] - 3s 119ms/step\n",
      "f1_score:0.7704\n",
      "106/106 [==============================] - 41s 383ms/step - loss: 0.6894 - precision: 0.9013 - val_loss: 0.6877 - val_precision: 0.8980\n",
      "Epoch 163/200\n",
      "27/27 [==============================] - 3s 124ms/step\n",
      "f1_score:0.7585\n",
      "106/106 [==============================] - 40s 380ms/step - loss: 0.6869 - precision: 0.9136 - val_loss: 0.7197 - val_precision: 0.8702\n",
      "Epoch 164/200\n",
      "27/27 [==============================] - 3s 122ms/step\n",
      "f1_score:0.7577\n",
      "106/106 [==============================] - 40s 382ms/step - loss: 0.6911 - precision: 0.8974 - val_loss: 0.7238 - val_precision: 0.9064\n",
      "Epoch 165/200\n",
      "27/27 [==============================] - 3s 126ms/step\n",
      "f1_score:0.6945\n",
      "106/106 [==============================] - 41s 387ms/step - loss: 0.6865 - precision: 0.9022 - val_loss: 0.8747 - val_precision: 0.8472\n",
      "Epoch 166/200\n",
      "27/27 [==============================] - 3s 125ms/step\n",
      "f1_score:0.7502\n",
      "106/106 [==============================] - 41s 386ms/step - loss: 0.6724 - precision: 0.8996 - val_loss: 0.7004 - val_precision: 0.8808\n",
      "Epoch 167/200\n",
      "27/27 [==============================] - 3s 118ms/step\n",
      "f1_score:0.7599\n",
      "106/106 [==============================] - 40s 382ms/step - loss: 0.6668 - precision: 0.9101 - val_loss: 0.6890 - val_precision: 0.9013\n",
      "Epoch 168/200\n",
      "27/27 [==============================] - 3s 119ms/step\n",
      "f1_score:0.7491\n",
      "106/106 [==============================] - 40s 382ms/step - loss: 0.6674 - precision: 0.9091 - val_loss: 0.6918 - val_precision: 0.8979\n",
      "Epoch 169/200\n",
      "27/27 [==============================] - 3s 119ms/step\n",
      "f1_score:0.7593\n",
      "106/106 [==============================] - 40s 375ms/step - loss: 0.6657 - precision: 0.9145 - val_loss: 0.7368 - val_precision: 0.8704\n",
      "Epoch 170/200\n",
      "27/27 [==============================] - 3s 128ms/step\n",
      "f1_score:0.7322\n",
      "106/106 [==============================] - 41s 387ms/step - loss: 0.6716 - precision: 0.9056 - val_loss: 0.7448 - val_precision: 0.8612\n",
      "Epoch 171/200\n",
      "27/27 [==============================] - 3s 124ms/step\n",
      "f1_score:0.7675\n",
      "106/106 [==============================] - 41s 387ms/step - loss: 0.6681 - precision: 0.9127 - val_loss: 0.6854 - val_precision: 0.9027\n",
      "Epoch 172/200\n",
      "27/27 [==============================] - 4s 130ms/step\n",
      "f1_score:0.7618\n",
      "106/106 [==============================] - 41s 391ms/step - loss: 0.6547 - precision: 0.9162 - val_loss: 0.6904 - val_precision: 0.9044\n",
      "Epoch 173/200\n",
      "27/27 [==============================] - 3s 115ms/step\n",
      "f1_score:0.7553\n",
      "106/106 [==============================] - 40s 382ms/step - loss: 0.6636 - precision: 0.8996 - val_loss: 0.6799 - val_precision: 0.9088\n",
      "Epoch 174/200\n",
      "27/27 [==============================] - 3s 120ms/step\n",
      "f1_score:0.7404\n",
      "106/106 [==============================] - 40s 376ms/step - loss: 0.6653 - precision: 0.9101 - val_loss: 0.7528 - val_precision: 0.8585\n",
      "Epoch 175/200\n",
      "27/27 [==============================] - 4s 132ms/step\n",
      "f1_score:0.7478\n",
      "106/106 [==============================] - 41s 387ms/step - loss: 0.6576 - precision: 0.9116 - val_loss: 0.7082 - val_precision: 0.9032\n",
      "Epoch 176/200\n",
      "27/27 [==============================] - 3s 113ms/step\n",
      "f1_score:0.7528\n",
      "106/106 [==============================] - 40s 377ms/step - loss: 0.6551 - precision: 0.9088 - val_loss: 0.7340 - val_precision: 0.8593\n",
      "Epoch 177/200\n",
      "27/27 [==============================] - 3s 119ms/step\n",
      "f1_score:0.7634\n",
      "106/106 [==============================] - 40s 376ms/step - loss: 0.6684 - precision: 0.9038 - val_loss: 0.7029 - val_precision: 0.8875\n",
      "Epoch 178/200\n",
      "27/27 [==============================] - 3s 124ms/step\n",
      "f1_score:0.7519\n",
      "106/106 [==============================] - 40s 382ms/step - loss: 0.6380 - precision: 0.9149 - val_loss: 0.7900 - val_precision: 0.9082\n",
      "Epoch 179/200\n",
      "27/27 [==============================] - 3s 126ms/step\n",
      "f1_score:0.7503\n",
      "106/106 [==============================] - 40s 383ms/step - loss: 0.6621 - precision: 0.9092 - val_loss: 0.7180 - val_precision: 0.9108\n",
      "Epoch 180/200\n",
      "27/27 [==============================] - 3s 128ms/step\n",
      "f1_score:0.737\n",
      "106/106 [==============================] - 41s 385ms/step - loss: 0.6475 - precision: 0.9171 - val_loss: 0.7731 - val_precision: 0.8637\n",
      "Epoch 181/200\n",
      "27/27 [==============================] - 3s 110ms/step\n",
      "f1_score:0.7229\n",
      "106/106 [==============================] - 40s 381ms/step - loss: 0.6587 - precision: 0.9088 - val_loss: 0.8259 - val_precision: 0.8639\n",
      "Epoch 182/200\n",
      "27/27 [==============================] - 3s 125ms/step\n",
      "f1_score:0.7332\n",
      "106/106 [==============================] - 40s 382ms/step - loss: 0.6520 - precision: 0.9155 - val_loss: 0.7265 - val_precision: 0.8730\n",
      "Epoch 183/200\n",
      "27/27 [==============================] - 3s 109ms/step\n",
      "f1_score:0.7795\n",
      "106/106 [==============================] - 40s 381ms/step - loss: 0.6305 - precision: 0.9246 - val_loss: 0.6626 - val_precision: 0.8959\n",
      "Epoch 184/200\n",
      "27/27 [==============================] - 4s 138ms/step\n",
      "f1_score:0.7577\n",
      "106/106 [==============================] - 41s 389ms/step - loss: 0.6417 - precision: 0.9143 - val_loss: 0.7016 - val_precision: 0.8824\n",
      "Epoch 185/200\n",
      "27/27 [==============================] - 3s 105ms/step\n",
      "f1_score:0.7686\n",
      "106/106 [==============================] - 39s 365ms/step - loss: 0.6473 - precision: 0.9158 - val_loss: 0.6762 - val_precision: 0.8911\n",
      "Epoch 186/200\n",
      "27/27 [==============================] - 3s 102ms/step\n",
      "f1_score:0.7737\n",
      "106/106 [==============================] - 37s 354ms/step - loss: 0.6235 - precision: 0.9155 - val_loss: 0.6680 - val_precision: 0.8847\n",
      "Epoch 187/200\n",
      "27/27 [==============================] - 3s 100ms/step\n",
      "f1_score:0.7333\n",
      "106/106 [==============================] - 37s 352ms/step - loss: 0.6626 - precision: 0.9048 - val_loss: 0.7672 - val_precision: 0.8823\n",
      "Epoch 188/200\n",
      "27/27 [==============================] - 3s 102ms/step\n",
      "f1_score:0.7478\n",
      "106/106 [==============================] - 38s 359ms/step - loss: 0.6594 - precision: 0.9133 - val_loss: 0.7092 - val_precision: 0.8828\n",
      "Epoch 189/200\n",
      "27/27 [==============================] - 3s 104ms/step\n",
      "f1_score:0.7649\n",
      "106/106 [==============================] - 38s 356ms/step - loss: 0.6196 - precision: 0.9243 - val_loss: 0.6774 - val_precision: 0.9133\n",
      "Epoch 190/200\n",
      "27/27 [==============================] - 3s 105ms/step\n",
      "f1_score:0.7509\n",
      "106/106 [==============================] - 39s 364ms/step - loss: 0.6281 - precision: 0.9120 - val_loss: 0.8082 - val_precision: 0.8982\n",
      "Epoch 191/200\n",
      "27/27 [==============================] - 3s 102ms/step\n",
      "f1_score:0.7707\n",
      "106/106 [==============================] - 38s 356ms/step - loss: 0.6211 - precision: 0.9175 - val_loss: 0.6610 - val_precision: 0.9073\n",
      "Epoch 192/200\n",
      "27/27 [==============================] - 3s 103ms/step\n",
      "f1_score:0.7302\n",
      "106/106 [==============================] - 38s 359ms/step - loss: 0.6281 - precision: 0.9195 - val_loss: 0.7960 - val_precision: 0.8392\n",
      "Epoch 193/200\n",
      "27/27 [==============================] - 3s 101ms/step\n",
      "f1_score:0.7744\n",
      "106/106 [==============================] - 37s 350ms/step - loss: 0.6175 - precision: 0.9175 - val_loss: 0.6817 - val_precision: 0.8693\n",
      "Epoch 194/200\n",
      "27/27 [==============================] - 3s 102ms/step\n",
      "f1_score:0.7688\n",
      "106/106 [==============================] - 37s 351ms/step - loss: 0.6380 - precision: 0.9146 - val_loss: 0.6568 - val_precision: 0.9153\n",
      "Epoch 195/200\n",
      "27/27 [==============================] - 3s 100ms/step\n",
      "f1_score:0.7515\n",
      "106/106 [==============================] - 39s 368ms/step - loss: 0.6256 - precision: 0.9234 - val_loss: 0.6738 - val_precision: 0.9025\n",
      "Epoch 196/200\n",
      "27/27 [==============================] - 4s 166ms/step\n",
      "f1_score:0.7644\n",
      "106/106 [==============================] - 47s 444ms/step - loss: 0.6348 - precision: 0.9167 - val_loss: 0.7050 - val_precision: 0.8741\n",
      "Epoch 197/200\n",
      "27/27 [==============================] - 4s 155ms/step\n",
      "f1_score:0.7647\n",
      "106/106 [==============================] - 52s 490ms/step - loss: 0.6232 - precision: 0.9171 - val_loss: 0.7083 - val_precision: 0.9104\n",
      "Epoch 198/200\n",
      "27/27 [==============================] - 3s 105ms/step\n",
      "f1_score:0.7485\n",
      "106/106 [==============================] - 46s 439ms/step - loss: 0.6024 - precision: 0.9313 - val_loss: 0.7241 - val_precision: 0.8936\n",
      "Epoch 199/200\n",
      "27/27 [==============================] - 3s 103ms/step\n",
      "f1_score:0.7406\n",
      "106/106 [==============================] - 42s 395ms/step - loss: 0.6233 - precision: 0.9158 - val_loss: 0.6987 - val_precision: 0.8825\n",
      "Epoch 200/200\n",
      "27/27 [==============================] - 3s 98ms/step\n",
      "f1_score:0.7632\n",
      "106/106 [==============================] - 45s 429ms/step - loss: 0.6204 - precision: 0.9265 - val_loss: 0.6820 - val_precision: 0.8952\n"
     ]
    }
   ],
   "source": [
    "model_lstm.compile(loss='categorical_crossentropy', optimizer=tf.keras.optimizers.legacy.Adam(learning_rate=0.0001), metrics=[tensorflow.keras.metrics.Precision(name='precision')])\n",
    "history_lstm= model_lstm.fit(X_train, y_train,batch_size=32, epochs=200, validation_data=(X_test, y_test), callbacks= all)"
   ]
  },
  {
   "cell_type": "code",
   "execution_count": 27,
   "metadata": {},
   "outputs": [
    {
     "data": {
      "image/png": "[encoded data removed]",
      "text/plain": [
       "<Figure size 640x480 with 1 Axes>"
      ]
     },
     "metadata": {},
     "output_type": "display_data"
    }
   ],
   "source": [
    "import matplotlib.pyplot as plt\n",
    "# precion graph LSTM\n",
    "plt.plot(history_lstm.history['precision'])\n",
    "plt.plot(history_lstm.history['val_precision'])\n",
    "plt.title('model precision LSTM')\n",
    "plt.ylabel('precision')\n",
    "plt.xlabel('epoch')\n",
    "plt.legend(['train', 'test'])\n",
    "plt.show()"
   ]
  },
  {
   "cell_type": "code",
   "execution_count": 28,
   "metadata": {},
   "outputs": [
    {
     "data": {
      "image/png": "[encoded data removed]",
      "text/plain": [
       "<Figure size 640x480 with 1 Axes>"
      ]
     },
     "metadata": {},
     "output_type": "display_data"
    }
   ],
   "source": [
    "# loss graph LSTM\n",
    "plt.plot(history_lstm.history['loss'])\n",
    "plt.plot(history_lstm.history['val_loss'])\n",
    "plt.title('LSTM train vs test loss')\n",
    "plt.ylabel('loss')\n",
    "plt.xlabel('epoch')\n",
    "plt.legend(['train', 'test'])\n",
    "plt.show()"
   ]
  },
  {
   "cell_type": "code",
   "execution_count": 29,
   "metadata": {},
   "outputs": [
    {
     "name": "stdout",
     "output_type": "stream",
     "text": [
      "27/27 [==============================] - 3s 98ms/step\n"
     ]
    }
   ],
   "source": [
    "## converting y_pred to actual classes\n",
    "y_pred = model_lstm.predict(X_test)"
   ]
  },
  {
   "cell_type": "code",
   "execution_count": 31,
   "metadata": {},
   "outputs": [
    {
     "name": "stdout",
     "output_type": "stream",
     "text": [
      "(848,)\n",
      "[6 4 7 3 2 4 3 1 3 3 1 4 7 6 7 3 0 2 7 4 7 7 0 2 6 3 7 5 0 4 4 4 3 6 5 2 7\n",
      " 2 3 0 4 3 2 6 4 7 0 3 7 5 1 6 7 2 7 0 0 7 6 5 7 7 3 6 2 0 2 3 2 7 5 4 4 7\n",
      " 7 5 1 6 6 6 7 7 7 4 7 0 3 5 3 4 2 2 4 1 5 0 1 0 5 4 0 2 3 0 0 0 0 3 6 6 6\n",
      " 4 7 2 0 3 4 0 2 2 7 0 1 7 1 3 7 4 2 2 5 4 4 5 2 3 7 3 6 6 6 4 7 0 2 2 3 3\n",
      " 0 7 0 0 4 2 1 3 4 7 2 7 2 1 2 6 6 3 3 7 7 2 6 2 1 0 6 7 4 3 4 5 7 3 0 5 0\n",
      " 1 6 0 6 6 2 3 3 5 4 6 6 7 2 4 6 7 3 0 6 5 6 6 7 2 4 3 7 6 2 1 6 7 1 4 4 3\n",
      " 1 5 3 3 2 0 0 2 3 4 3 7 0 2 6 1 2 2 6 7 2 2 6 7 7 7 7 7 0 7 2 1 4 2 4 6 4\n",
      " 6 3 1 6 7 6 5 2 0 6 6 6 3 2 0 7 0 2 4 6 0 2 1 0 7 5 3 2 1 3 2 3 4 1 5 6 3\n",
      " 2 2 0 0 0 4 7 3 0 4 3 6 0 6 0 6 6 2 2 3 0 6 2 6 2 6 0 7 3 4 3 4 3 7 2 4 1\n",
      " 3 5 2 4 7 7 7 5 5 4 3 5 7 3 4 5 7 5 6 5 6 0 3 6 5 0 5 2 4 0 5 6 6 1 7 6 6\n",
      " 3 4 0 4 3 7 0 3 3 7 3 3 3 2 5 6 4 5 1 7 3 0 2 1 2 7 6 2 6 1 3 2 5 5 0 6 2\n",
      " 3 7 2 0 4 1 6 5 7 4 6 0 4 7 7 0 5 7 5 2 2 0 7 7 5 4 2 6 0 6 6 4 4 6 5 3 3\n",
      " 6 6 2 6 5 4 0 6 5 0 4 6 7 2 2 7 1 2 7 6 5 2 7 1 5 4 6 4 3 5 0 5 0 2 6 3 4\n",
      " 7 4 7 6 6 4 3 4 2 1 3 3 1 6 2 5 7 7 3 0 0 1 0 2 3 3 0 2 5 3 2 0 5 2 1 2 4\n",
      " 7 2 0 5 4 2 0 4 2 0 4 3 4 3 2 6 0 0 7 0 0 1 5 7 2 4 4 1 2 4 4 7 3 7 3 7 3\n",
      " 2 7 0 6 2 3 2 4 1 6 4 3 4 2 0 3 5 4 4 2 0 0 0 3 2 4 4 4 1 2 5 7 2 1 0 0 0\n",
      " 2 2 4 3 6 4 1 6 0 5 5 1 7 5 0 2 6 6 6 4 4 4 0 3 6 3 4 4 7 0 2 1 1 1 7 2 7\n",
      " 3 7 7 6 0 4 1 4 2 3 3 7 3 0 2 6 6 2 0 2 3 1 0 0 0 2 3 6 5 5 2 3 3 3 6 3 0\n",
      " 5 6 7 7 4 4 4 5 0 2 2 6 7 2 2 0 7 0 7 7 7 4 1 2 0 2 5 4 4 1 5 3 5 4 0 7 6\n",
      " 6 7 0 3 1 6 4 5 2 3 7 0 2 6 3 4 4 5 7 7 5 7 1 2 4 3 6 7 4 1 7 5 2 2 3 3 7\n",
      " 6 3 1 4 1 0 3 3 0 6 1 3 4 1 5 0 7 7 0 7 1 0 5 5 5 7 7 2 4 3 1 6 2 2 6 0 1\n",
      " 3 2 4 5 6 1 3 1 5 6 3 0 7 6 0 3 0 4 2 2 3 0 4 4 7 5 2 0 7 5 1 0 4 6 7 4 4\n",
      " 6 6 2 3 1 5 6 7 6 3 4 0 0 7 7 4 3 5 2 4 0 1 3 6 4 7 6 3 0 7 3 3 7 2]\n"
     ]
    }
   ],
   "source": [
    "y_pred = y_pred.argmax(axis=1)\n",
    "print(y_pred.shape)\n",
    "print(y_pred)"
   ]
  },
  {
   "cell_type": "code",
   "execution_count": 32,
   "metadata": {},
   "outputs": [
    {
     "data": {
      "text/plain": [
       "array(['sad', 'happy', 'surprised', 'fear', 'disgust', 'happy', 'fear',\n",
       "       'calm', 'fear', 'fear', 'calm', 'happy', 'surprised', 'sad',\n",
       "       'surprised', 'fear', 'angry', 'disgust', 'surprised', 'happy',\n",
       "       'surprised', 'surprised', 'angry', 'disgust', 'sad', 'fear',\n",
       "       'surprised', 'neutral', 'angry', 'happy', 'happy', 'happy', 'fear',\n",
       "       'sad', 'neutral', 'disgust', 'surprised', 'disgust', 'fear',\n",
       "       'angry', 'happy', 'fear', 'disgust', 'sad', 'happy', 'surprised',\n",
       "       'angry', 'fear', 'surprised', 'neutral', 'calm', 'sad',\n",
       "       'surprised', 'disgust', 'surprised', 'angry', 'angry', 'surprised',\n",
       "       'sad', 'neutral', 'surprised', 'surprised', 'fear', 'sad',\n",
       "       'disgust', 'angry', 'disgust', 'fear', 'disgust', 'surprised',\n",
       "       'neutral', 'happy', 'happy', 'surprised', 'surprised', 'neutral',\n",
       "       'calm', 'sad', 'sad', 'sad', 'surprised', 'surprised', 'surprised',\n",
       "       'happy', 'surprised', 'angry', 'fear', 'neutral', 'fear', 'happy',\n",
       "       'disgust', 'disgust', 'happy', 'calm', 'neutral', 'angry', 'calm',\n",
       "       'angry', 'neutral', 'happy', 'angry', 'disgust', 'fear', 'angry',\n",
       "       'angry', 'angry', 'angry', 'fear', 'sad', 'sad', 'sad', 'happy',\n",
       "       'surprised', 'disgust', 'angry', 'fear', 'happy', 'angry',\n",
       "       'disgust', 'disgust', 'surprised', 'angry', 'calm', 'surprised',\n",
       "       'calm', 'fear', 'surprised', 'happy', 'disgust', 'disgust',\n",
       "       'neutral', 'happy', 'happy', 'neutral', 'disgust', 'fear',\n",
       "       'surprised', 'fear', 'sad', 'sad', 'sad', 'happy', 'surprised',\n",
       "       'angry', 'disgust', 'disgust', 'fear', 'fear', 'angry',\n",
       "       'surprised', 'angry', 'angry', 'happy', 'disgust', 'calm', 'fear',\n",
       "       'happy', 'surprised', 'disgust', 'surprised', 'disgust', 'calm',\n",
       "       'disgust', 'sad', 'sad', 'fear', 'fear', 'surprised', 'surprised',\n",
       "       'disgust', 'sad', 'disgust', 'calm', 'angry', 'sad', 'surprised',\n",
       "       'happy', 'fear', 'happy', 'neutral', 'surprised', 'fear', 'angry',\n",
       "       'neutral', 'angry', 'calm', 'sad', 'angry', 'sad', 'sad',\n",
       "       'disgust', 'fear', 'fear', 'neutral', 'happy', 'sad', 'sad',\n",
       "       'surprised', 'disgust', 'happy', 'sad', 'surprised', 'fear',\n",
       "       'angry', 'sad', 'neutral', 'sad', 'sad', 'surprised', 'disgust',\n",
       "       'happy', 'fear', 'surprised', 'sad', 'disgust', 'calm', 'sad',\n",
       "       'surprised', 'calm', 'happy', 'happy', 'fear', 'calm', 'neutral',\n",
       "       'fear', 'fear', 'disgust', 'angry', 'angry', 'disgust', 'fear',\n",
       "       'happy', 'fear', 'surprised', 'angry', 'disgust', 'sad', 'calm',\n",
       "       'disgust', 'disgust', 'sad', 'surprised', 'disgust', 'disgust',\n",
       "       'sad', 'surprised', 'surprised', 'surprised', 'surprised',\n",
       "       'surprised', 'angry', 'surprised', 'disgust', 'calm', 'happy',\n",
       "       'disgust', 'happy', 'sad', 'happy', 'sad', 'fear', 'calm', 'sad',\n",
       "       'surprised', 'sad', 'neutral', 'disgust', 'angry', 'sad', 'sad',\n",
       "       'sad', 'fear', 'disgust', 'angry', 'surprised', 'angry', 'disgust',\n",
       "       'happy', 'sad', 'angry', 'disgust', 'calm', 'angry', 'surprised',\n",
       "       'neutral', 'fear', 'disgust', 'calm', 'fear', 'disgust', 'fear',\n",
       "       'happy', 'calm', 'neutral', 'sad', 'fear', 'disgust', 'disgust',\n",
       "       'angry', 'angry', 'angry', 'happy', 'surprised', 'fear', 'angry',\n",
       "       'happy', 'fear', 'sad', 'angry', 'sad', 'angry', 'sad', 'sad',\n",
       "       'disgust', 'disgust', 'fear', 'angry', 'sad', 'disgust', 'sad',\n",
       "       'disgust', 'sad', 'angry', 'surprised', 'fear', 'happy', 'fear',\n",
       "       'happy', 'fear', 'surprised', 'disgust', 'happy', 'calm', 'fear',\n",
       "       'neutral', 'disgust', 'happy', 'surprised', 'surprised',\n",
       "       'surprised', 'neutral', 'neutral', 'happy', 'fear', 'neutral',\n",
       "       'surprised', 'fear', 'happy', 'neutral', 'surprised', 'neutral',\n",
       "       'sad', 'neutral', 'sad', 'angry', 'fear', 'sad', 'neutral',\n",
       "       'angry', 'neutral', 'disgust', 'happy', 'angry', 'neutral', 'sad',\n",
       "       'sad', 'calm', 'surprised', 'sad', 'sad', 'fear', 'happy', 'angry',\n",
       "       'happy', 'fear', 'surprised', 'angry', 'fear', 'fear', 'surprised',\n",
       "       'fear', 'fear', 'fear', 'disgust', 'neutral', 'sad', 'happy',\n",
       "       'neutral', 'calm', 'surprised', 'fear', 'angry', 'disgust', 'calm',\n",
       "       'disgust', 'surprised', 'sad', 'disgust', 'sad', 'calm', 'fear',\n",
       "       'disgust', 'neutral', 'neutral', 'angry', 'sad', 'disgust', 'fear',\n",
       "       'surprised', 'disgust', 'angry', 'happy', 'calm', 'sad', 'neutral',\n",
       "       'surprised', 'happy', 'sad', 'angry', 'happy', 'surprised',\n",
       "       'surprised', 'angry', 'neutral', 'surprised', 'neutral', 'disgust',\n",
       "       'disgust', 'angry', 'surprised', 'surprised', 'neutral', 'happy',\n",
       "       'disgust', 'sad', 'angry', 'sad', 'sad', 'happy', 'happy', 'sad',\n",
       "       'neutral', 'fear', 'fear', 'sad', 'sad', 'disgust', 'sad',\n",
       "       'neutral', 'happy', 'angry', 'sad', 'neutral', 'angry', 'happy',\n",
       "       'sad', 'surprised', 'disgust', 'disgust', 'surprised', 'calm',\n",
       "       'disgust', 'surprised', 'sad', 'neutral', 'disgust', 'surprised',\n",
       "       'calm', 'neutral', 'happy', 'sad', 'happy', 'fear', 'neutral',\n",
       "       'angry', 'neutral', 'angry', 'disgust', 'sad', 'fear', 'happy',\n",
       "       'surprised', 'happy', 'surprised', 'sad', 'sad', 'happy', 'fear',\n",
       "       'happy', 'disgust', 'calm', 'fear', 'fear', 'calm', 'sad',\n",
       "       'disgust', 'neutral', 'surprised', 'surprised', 'fear', 'angry',\n",
       "       'angry', 'calm', 'angry', 'disgust', 'fear', 'fear', 'angry',\n",
       "       'disgust', 'neutral', 'fear', 'disgust', 'angry', 'neutral',\n",
       "       'disgust', 'calm', 'disgust', 'happy', 'surprised', 'disgust',\n",
       "       'angry', 'neutral', 'happy', 'disgust', 'angry', 'happy',\n",
       "       'disgust', 'angry', 'happy', 'fear', 'happy', 'fear', 'disgust',\n",
       "       'sad', 'angry', 'angry', 'surprised', 'angry', 'angry', 'calm',\n",
       "       'neutral', 'surprised', 'disgust', 'happy', 'happy', 'calm',\n",
       "       'disgust', 'happy', 'happy', 'surprised', 'fear', 'surprised',\n",
       "       'fear', 'surprised', 'fear', 'disgust', 'surprised', 'angry',\n",
       "       'sad', 'disgust', 'fear', 'disgust', 'happy', 'calm', 'sad',\n",
       "       'happy', 'fear', 'happy', 'disgust', 'angry', 'fear', 'neutral',\n",
       "       'happy', 'happy', 'disgust', 'angry', 'angry', 'angry', 'fear',\n",
       "       'disgust', 'happy', 'happy', 'happy', 'calm', 'disgust', 'neutral',\n",
       "       'surprised', 'disgust', 'calm', 'angry', 'angry', 'angry',\n",
       "       'disgust', 'disgust', 'happy', 'fear', 'sad', 'happy', 'calm',\n",
       "       'sad', 'angry', 'neutral', 'neutral', 'calm', 'surprised',\n",
       "       'neutral', 'angry', 'disgust', 'sad', 'sad', 'sad', 'happy',\n",
       "       'happy', 'happy', 'angry', 'fear', 'sad', 'fear', 'happy', 'happy',\n",
       "       'surprised', 'angry', 'disgust', 'calm', 'calm', 'calm',\n",
       "       'surprised', 'disgust', 'surprised', 'fear', 'surprised',\n",
       "       'surprised', 'sad', 'angry', 'happy', 'calm', 'happy', 'disgust',\n",
       "       'fear', 'fear', 'surprised', 'fear', 'angry', 'disgust', 'sad',\n",
       "       'sad', 'disgust', 'angry', 'disgust', 'fear', 'calm', 'angry',\n",
       "       'angry', 'angry', 'disgust', 'fear', 'sad', 'neutral', 'neutral',\n",
       "       'disgust', 'fear', 'fear', 'fear', 'sad', 'fear', 'angry',\n",
       "       'neutral', 'sad', 'surprised', 'surprised', 'happy', 'happy',\n",
       "       'happy', 'neutral', 'angry', 'disgust', 'disgust', 'sad',\n",
       "       'surprised', 'disgust', 'disgust', 'angry', 'surprised', 'angry',\n",
       "       'surprised', 'surprised', 'surprised', 'happy', 'calm', 'disgust',\n",
       "       'angry', 'disgust', 'neutral', 'happy', 'happy', 'calm', 'neutral',\n",
       "       'fear', 'neutral', 'happy', 'angry', 'surprised', 'sad', 'sad',\n",
       "       'surprised', 'angry', 'fear', 'calm', 'sad', 'happy', 'neutral',\n",
       "       'disgust', 'fear', 'surprised', 'angry', 'disgust', 'sad', 'fear',\n",
       "       'happy', 'happy', 'neutral', 'surprised', 'surprised', 'neutral',\n",
       "       'surprised', 'calm', 'disgust', 'happy', 'fear', 'sad',\n",
       "       'surprised', 'happy', 'calm', 'surprised', 'neutral', 'disgust',\n",
       "       'disgust', 'fear', 'fear', 'surprised', 'sad', 'fear', 'calm',\n",
       "       'happy', 'calm', 'angry', 'fear', 'fear', 'angry', 'sad', 'calm',\n",
       "       'fear', 'happy', 'calm', 'neutral', 'angry', 'surprised',\n",
       "       'surprised', 'angry', 'surprised', 'calm', 'angry', 'neutral',\n",
       "       'neutral', 'neutral', 'surprised', 'surprised', 'disgust', 'happy',\n",
       "       'fear', 'calm', 'sad', 'disgust', 'disgust', 'sad', 'angry',\n",
       "       'calm', 'fear', 'disgust', 'happy', 'neutral', 'sad', 'calm',\n",
       "       'fear', 'calm', 'neutral', 'sad', 'fear', 'angry', 'surprised',\n",
       "       'sad', 'angry', 'fear', 'angry', 'happy', 'disgust', 'disgust',\n",
       "       'fear', 'angry', 'happy', 'happy', 'surprised', 'neutral',\n",
       "       'disgust', 'angry', 'surprised', 'neutral', 'calm', 'angry',\n",
       "       'happy', 'sad', 'surprised', 'happy', 'happy', 'sad', 'sad',\n",
       "       'disgust', 'fear', 'calm', 'neutral', 'sad', 'surprised', 'sad',\n",
       "       'fear', 'happy', 'angry', 'angry', 'surprised', 'surprised',\n",
       "       'happy', 'fear', 'neutral', 'disgust', 'happy', 'angry', 'calm',\n",
       "       'fear', 'sad', 'happy', 'surprised', 'sad', 'fear', 'angry',\n",
       "       'surprised', 'fear', 'fear', 'surprised', 'disgust'], dtype=object)"
      ]
     },
     "execution_count": 32,
     "metadata": {},
     "output_type": "execute_result"
    }
   ],
   "source": [
    "y_pred = lb.inverse_transform((y_pred))\n",
    "y_pred"
   ]
  },
  {
   "cell_type": "code",
   "execution_count": 33,
   "metadata": {},
   "outputs": [
    {
     "data": {
      "text/plain": [
       "(848, 8)"
      ]
     },
     "execution_count": 33,
     "metadata": {},
     "output_type": "execute_result"
    }
   ],
   "source": [
    "y_test.shape"
   ]
  },
  {
   "cell_type": "code",
   "execution_count": 34,
   "metadata": {},
   "outputs": [
    {
     "name": "stdout",
     "output_type": "stream",
     "text": [
      "['neutral' 'happy' 'surprised' 'fear' 'disgust' 'happy' 'fear' 'calm'\n",
      " 'happy' 'fear' 'calm' 'happy' 'surprised' 'sad' 'neutral' 'calm' 'fear'\n",
      " 'surprised' 'sad' 'happy' 'surprised' 'surprised' 'angry' 'disgust' 'sad'\n",
      " 'fear' 'sad' 'neutral' 'angry' 'happy' 'happy' 'happy' 'fear' 'sad'\n",
      " 'neutral' 'disgust' 'surprised' 'disgust' 'fear' 'angry' 'happy'\n",
      " 'surprised' 'disgust' 'sad' 'sad' 'surprised' 'angry' 'fear' 'surprised'\n",
      " 'neutral' 'happy' 'sad' 'surprised' 'happy' 'surprised' 'angry' 'angry'\n",
      " 'angry' 'sad' 'neutral' 'surprised' 'angry' 'fear' 'happy' 'sad' 'fear'\n",
      " 'disgust' 'fear' 'angry' 'calm' 'neutral' 'happy' 'happy' 'surprised'\n",
      " 'surprised' 'neutral' 'calm' 'happy' 'sad' 'neutral' 'fear' 'surprised'\n",
      " 'surprised' 'happy' 'surprised' 'angry' 'calm' 'neutral' 'fear' 'happy'\n",
      " 'angry' 'angry' 'disgust' 'calm' 'neutral' 'angry' 'calm' 'happy'\n",
      " 'neutral' 'happy' 'angry' 'surprised' 'fear' 'angry' 'angry' 'angry'\n",
      " 'angry' 'fear' 'sad' 'sad' 'sad' 'happy' 'surprised' 'disgust' 'angry'\n",
      " 'fear' 'happy' 'angry' 'disgust' 'disgust' 'surprised' 'angry' 'sad'\n",
      " 'surprised' 'sad' 'fear' 'surprised' 'happy' 'disgust' 'disgust' 'sad'\n",
      " 'happy' 'happy' 'neutral' 'angry' 'fear' 'surprised' 'surprised' 'sad'\n",
      " 'sad' 'surprised' 'disgust' 'surprised' 'angry' 'happy' 'calm' 'fear'\n",
      " 'fear' 'angry' 'surprised' 'happy' 'angry' 'happy' 'disgust' 'calm'\n",
      " 'fear' 'happy' 'surprised' 'disgust' 'angry' 'disgust' 'sad' 'disgust'\n",
      " 'sad' 'sad' 'fear' 'fear' 'surprised' 'surprised' 'disgust' 'sad'\n",
      " 'disgust' 'sad' 'angry' 'calm' 'surprised' 'happy' 'fear' 'happy'\n",
      " 'neutral' 'angry' 'fear' 'angry' 'happy' 'angry' 'happy' 'sad' 'angry'\n",
      " 'sad' 'sad' 'disgust' 'fear' 'fear' 'neutral' 'happy' 'sad' 'sad'\n",
      " 'surprised' 'disgust' 'happy' 'sad' 'surprised' 'fear' 'angry' 'sad'\n",
      " 'neutral' 'sad' 'happy' 'disgust' 'disgust' 'disgust' 'surprised'\n",
      " 'surprised' 'neutral' 'disgust' 'neutral' 'sad' 'neutral' 'surprised'\n",
      " 'happy' 'happy' 'fear' 'surprised' 'neutral' 'fear' 'fear' 'disgust'\n",
      " 'angry' 'angry' 'disgust' 'fear' 'happy' 'fear' 'surprised' 'angry'\n",
      " 'neutral' 'sad' 'neutral' 'neutral' 'disgust' 'sad' 'surprised' 'happy'\n",
      " 'disgust' 'fear' 'surprised' 'surprised' 'disgust' 'surprised'\n",
      " 'surprised' 'angry' 'surprised' 'disgust' 'calm' 'surprised' 'disgust'\n",
      " 'happy' 'fear' 'happy' 'angry' 'fear' 'calm' 'sad' 'surprised' 'sad'\n",
      " 'neutral' 'disgust' 'angry' 'sad' 'sad' 'angry' 'sad' 'disgust' 'angry'\n",
      " 'surprised' 'angry' 'disgust' 'happy' 'sad' 'disgust' 'disgust' 'happy'\n",
      " 'fear' 'surprised' 'sad' 'sad' 'disgust' 'calm' 'fear' 'disgust'\n",
      " 'surprised' 'happy' 'sad' 'neutral' 'sad' 'fear' 'sad' 'disgust' 'angry'\n",
      " 'angry' 'angry' 'happy' 'surprised' 'surprised' 'angry' 'happy' 'fear'\n",
      " 'sad' 'angry' 'sad' 'angry' 'happy' 'sad' 'disgust' 'disgust' 'fear'\n",
      " 'happy' 'surprised' 'disgust' 'neutral' 'disgust' 'sad' 'angry'\n",
      " 'surprised' 'fear' 'happy' 'fear' 'happy' 'fear' 'surprised' 'disgust'\n",
      " 'happy' 'neutral' 'fear' 'neutral' 'disgust' 'happy' 'surprised'\n",
      " 'disgust' 'happy' 'neutral' 'neutral' 'happy' 'sad' 'neutral' 'sad'\n",
      " 'angry' 'happy' 'neutral' 'surprised' 'neutral' 'neutral' 'neutral' 'sad'\n",
      " 'angry' 'fear' 'sad' 'neutral' 'disgust' 'neutral' 'disgust' 'happy'\n",
      " 'angry' 'neutral' 'sad' 'neutral' 'neutral' 'disgust' 'sad' 'sad' 'fear'\n",
      " 'happy' 'fear' 'happy' 'angry' 'surprised' 'angry' 'fear' 'fear'\n",
      " 'surprised' 'fear' 'fear' 'happy' 'disgust' 'neutral' 'sad' 'happy'\n",
      " 'neutral' 'calm' 'disgust' 'fear' 'angry' 'disgust' 'neutral' 'disgust'\n",
      " 'happy' 'sad' 'fear' 'fear' 'disgust' 'fear' 'sad' 'neutral' 'neutral'\n",
      " 'angry' 'sad' 'sad' 'fear' 'surprised' 'disgust' 'angry' 'happy' 'calm'\n",
      " 'sad' 'neutral' 'disgust' 'happy' 'sad' 'angry' 'happy' 'surprised'\n",
      " 'surprised' 'angry' 'neutral' 'surprised' 'sad' 'disgust' 'disgust'\n",
      " 'angry' 'surprised' 'surprised' 'neutral' 'happy' 'disgust' 'sad' 'happy'\n",
      " 'sad' 'sad' 'happy' 'fear' 'sad' 'neutral' 'angry' 'fear' 'sad' 'sad'\n",
      " 'disgust' 'sad' 'neutral' 'surprised' 'angry' 'neutral' 'neutral' 'angry'\n",
      " 'happy' 'sad' 'happy' 'disgust' 'disgust' 'surprised' 'sad' 'disgust'\n",
      " 'happy' 'sad' 'disgust' 'disgust' 'surprised' 'neutral' 'neutral' 'happy'\n",
      " 'sad' 'happy' 'fear' 'neutral' 'angry' 'neutral' 'angry' 'disgust' 'sad'\n",
      " 'disgust' 'happy' 'happy' 'surprised' 'happy' 'fear' 'sad' 'happy'\n",
      " 'surprised' 'happy' 'disgust' 'calm' 'fear' 'fear' 'neutral' 'sad'\n",
      " 'disgust' 'neutral' 'surprised' 'surprised' 'fear' 'fear' 'angry' 'sad'\n",
      " 'angry' 'disgust' 'fear' 'fear' 'angry' 'surprised' 'neutral' 'happy'\n",
      " 'disgust' 'angry' 'neutral' 'disgust' 'calm' 'disgust' 'angry'\n",
      " 'surprised' 'surprised' 'angry' 'neutral' 'neutral' 'disgust' 'fear'\n",
      " 'disgust' 'calm' 'angry' 'surprised' 'fear' 'surprised' 'fear' 'disgust'\n",
      " 'fear' 'angry' 'angry' 'disgust' 'angry' 'angry' 'neutral' 'neutral'\n",
      " 'fear' 'disgust' 'happy' 'happy' 'neutral' 'calm' 'surprised' 'angry'\n",
      " 'surprised' 'fear' 'disgust' 'fear' 'surprised' 'fear' 'happy'\n",
      " 'surprised' 'angry' 'sad' 'disgust' 'fear' 'disgust' 'fear' 'surprised'\n",
      " 'disgust' 'surprised' 'fear' 'happy' 'neutral' 'angry' 'angry' 'neutral'\n",
      " 'happy' 'happy' 'disgust' 'angry' 'angry' 'happy' 'fear' 'disgust'\n",
      " 'happy' 'fear' 'angry' 'calm' 'disgust' 'neutral' 'surprised' 'happy'\n",
      " 'sad' 'angry' 'happy' 'angry' 'disgust' 'calm' 'fear' 'surprised' 'sad'\n",
      " 'happy' 'calm' 'sad' 'angry' 'neutral' 'neutral' 'sad' 'angry' 'neutral'\n",
      " 'angry' 'happy' 'sad' 'fear' 'sad' 'happy' 'happy' 'fear' 'happy' 'fear'\n",
      " 'sad' 'disgust' 'happy' 'happy' 'sad' 'angry' 'disgust' 'calm' 'calm'\n",
      " 'calm' 'surprised' 'disgust' 'angry' 'fear' 'surprised' 'fear' 'sad'\n",
      " 'angry' 'happy' 'calm' 'happy' 'disgust' 'fear' 'fear' 'fear' 'fear'\n",
      " 'angry' 'sad' 'sad' 'sad' 'angry' 'angry' 'disgust' 'fear' 'calm' 'angry'\n",
      " 'angry' 'angry' 'surprised' 'fear' 'sad' 'neutral' 'neutral' 'disgust'\n",
      " 'fear' 'fear' 'fear' 'sad' 'fear' 'angry' 'neutral' 'sad' 'disgust'\n",
      " 'angry' 'happy' 'happy' 'surprised' 'neutral' 'angry' 'sad' 'disgust'\n",
      " 'sad' 'surprised' 'disgust' 'disgust' 'surprised' 'surprised' 'angry'\n",
      " 'surprised' 'angry' 'surprised' 'happy' 'neutral' 'disgust' 'angry'\n",
      " 'disgust' 'neutral' 'happy' 'happy' 'calm' 'neutral' 'fear' 'neutral'\n",
      " 'surprised' 'angry' 'surprised' 'sad' 'sad' 'fear' 'angry' 'fear'\n",
      " 'disgust' 'sad' 'happy' 'neutral' 'disgust' 'fear' 'disgust' 'angry'\n",
      " 'disgust' 'calm' 'fear' 'happy' 'surprised' 'neutral' 'surprised' 'happy'\n",
      " 'neutral' 'surprised' 'calm' 'fear' 'happy' 'fear' 'neutral' 'happy'\n",
      " 'happy' 'disgust' 'surprised' 'neutral' 'sad' 'neutral' 'surprised'\n",
      " 'fear' 'surprised' 'sad' 'disgust' 'sad' 'happy' 'calm' 'angry' 'fear'\n",
      " 'fear' 'angry' 'sad' 'disgust' 'fear' 'happy' 'sad' 'neutral' 'angry'\n",
      " 'surprised' 'happy' 'surprised' 'surprised' 'sad' 'angry' 'neutral'\n",
      " 'neutral' 'neutral' 'surprised' 'surprised' 'neutral' 'happy' 'fear'\n",
      " 'surprised' 'sad' 'disgust' 'disgust' 'sad' 'angry' 'fear' 'fear'\n",
      " 'disgust' 'happy' 'neutral' 'sad' 'sad' 'fear' 'calm' 'neutral' 'sad'\n",
      " 'disgust' 'angry' 'surprised' 'sad' 'angry' 'fear' 'angry' 'happy'\n",
      " 'disgust' 'disgust' 'fear' 'angry' 'disgust' 'happy' 'surprised'\n",
      " 'neutral' 'disgust' 'angry' 'surprised' 'neutral' 'calm' 'disgust'\n",
      " 'happy' 'sad' 'calm' 'happy' 'disgust' 'calm' 'neutral' 'disgust'\n",
      " 'surprised' 'calm' 'neutral' 'sad' 'surprised' 'sad' 'fear' 'happy'\n",
      " 'fear' 'angry' 'surprised' 'neutral' 'surprised' 'angry' 'neutral'\n",
      " 'surprised' 'surprised' 'angry' 'calm' 'fear' 'sad' 'happy' 'surprised'\n",
      " 'sad' 'fear' 'angry' 'neutral' 'fear' 'fear' 'surprised' 'disgust']\n"
     ]
    }
   ],
   "source": [
    "y_test_check = y_test.argmax(axis=1)\n",
    "y_test_check = lb.inverse_transform((y_test_check))\n",
    "print(y_test_check)"
   ]
  },
  {
   "cell_type": "code",
   "execution_count": 40,
   "metadata": {},
   "outputs": [],
   "source": [
    "correct = 0\n",
    "for i in range (y_test_check.shape[0]):\n",
    "    if y_pred[i] == y_test_check[i]:\n",
    "        correct += 1\n",
    "\n",
    "accuracy = (correct/len(y_pred))*100"
   ]
  },
  {
   "cell_type": "code",
   "execution_count": 41,
   "metadata": {},
   "outputs": [
    {
     "name": "stdout",
     "output_type": "stream",
     "text": [
      "74.41037735849056\n"
     ]
    }
   ],
   "source": [
    "print(accuracy)"
   ]
  },
  {
   "cell_type": "code",
   "execution_count": 53,
   "metadata": {},
   "outputs": [
    {
     "name": "stdout",
     "output_type": "stream",
     "text": [
      "1\n",
      "1\n"
     ]
    }
   ],
   "source": [
    "test_mel =[]\n",
    "test_mfcc =[]\n",
    "\n",
    "\n",
    "\n",
    "y, sr = librosa.load('/Users/umesh/Desktop/Speech_recognition_project/03-01-03-01-01-02-14.wav')\n",
    "test_mel.append(np.mean(librosa.feature.melspectrogram(y=y, sr=sr).T, axis= 0))\n",
    "test_mfcc.append(np.mean(librosa.feature.mfcc(y=y, sr=sr, n_mfcc= 13).T, axis=0))\n",
    "\n",
    "print(len(test_mel))\n",
    "print(len(test_mfcc))"
   ]
  },
  {
   "cell_type": "code",
   "execution_count": 55,
   "metadata": {},
   "outputs": [
    {
     "name": "stdout",
     "output_type": "stream",
     "text": [
      "(1, 128)\n",
      "(1, 13)\n"
     ]
    }
   ],
   "source": [
    "test_mel = test_mel[0].reshape(1, -1)\n",
    "test_mfcc = test_mfcc[0].reshape(1, -1)\n",
    "\n",
    "print(test_mel.shape)\n",
    "print(test_mfcc.shape)"
   ]
  },
  {
   "cell_type": "code",
   "execution_count": 58,
   "metadata": {},
   "outputs": [
    {
     "name": "stderr",
     "output_type": "stream",
     "text": [
      "/var/folders/g1/59v3z_793_g5rymttcvqyfcm0000gn/T/ipykernel_38498/3976334242.py:1: DeprecationWarning: scipy.hstack is deprecated and will be removed in SciPy 2.0.0, use numpy.hstack instead\n",
      "  test_feat = hstack((test_mel, test_mfcc))\n"
     ]
    }
   ],
   "source": [
    "test_feat = hstack((test_mel, test_mfcc))"
   ]
  },
  {
   "cell_type": "code",
   "execution_count": 59,
   "metadata": {},
   "outputs": [
    {
     "data": {
      "text/plain": [
       "(1, 141)"
      ]
     },
     "execution_count": 59,
     "metadata": {},
     "output_type": "execute_result"
    }
   ],
   "source": [
    "test_feat.shape"
   ]
  },
  {
   "cell_type": "code",
   "execution_count": 60,
   "metadata": {},
   "outputs": [
    {
     "name": "stdout",
     "output_type": "stream",
     "text": [
      "1/1 [==============================] - 0s 88ms/step\n"
     ]
    }
   ],
   "source": [
    "prediction = model_lstm.predict(test_feat)"
   ]
  },
  {
   "cell_type": "code",
   "execution_count": 61,
   "metadata": {},
   "outputs": [
    {
     "data": {
      "text/plain": [
       "(1, 8)"
      ]
     },
     "execution_count": 61,
     "metadata": {},
     "output_type": "execute_result"
    }
   ],
   "source": [
    "prediction.shape"
   ]
  },
  {
   "cell_type": "code",
   "execution_count": 67,
   "metadata": {},
   "outputs": [
    {
     "name": "stdout",
     "output_type": "stream",
     "text": [
      "[6]\n"
     ]
    }
   ],
   "source": [
    "prediction = prediction.argmax(axis=1)\n",
    "\n",
    "print(prediction)"
   ]
  },
  {
   "cell_type": "code",
   "execution_count": 68,
   "metadata": {},
   "outputs": [
    {
     "name": "stdout",
     "output_type": "stream",
     "text": [
      "['sad']\n"
     ]
    }
   ],
   "source": [
    "prediction = lb.inverse_transform((prediction))\n",
    "print(prediction)"
   ]
  },
  {
   "cell_type": "code",
   "execution_count": null,
   "metadata": {},
   "outputs": [],
   "source": []
  }
 ],
 "metadata": {
  "kernelspec": {
   "display_name": "Python 3",
   "language": "python",
   "name": "python3"
  },
  "language_info": {
   "codemirror_mode": {
    "name": "ipython",
    "version": 3
   },
   "file_extension": ".py",
   "mimetype": "text/x-python",
   "name": "python",
   "nbconvert_exporter": "python",
   "pygments_lexer": "ipython3",
   "version": "3.11.3"
  }
 },
 "nbformat": 4,
 "nbformat_minor": 2
}
